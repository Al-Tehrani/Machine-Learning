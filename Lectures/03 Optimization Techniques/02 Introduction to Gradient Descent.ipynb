{
 "cells": [
  {
   "cell_type": "markdown",
   "metadata": {},
   "source": [
    "<img src=\"./images/banner.png\" width=\"800\">"
   ]
  },
  {
   "cell_type": "markdown",
   "metadata": {},
   "source": [
    "# Introduction to Gradient Descent"
   ]
  },
  {
   "cell_type": "markdown",
   "metadata": {},
   "source": [
    "The concept of gradient descent has a rich history dating back to the 19th century. Understanding its origins helps us appreciate its significance in modern machine learning.\n",
    "\n",
    "- **Early Beginnings**\n",
    "    - **1847**: The method was first proposed by the French mathematician **Augustin-Louis Cauchy**.\n",
    "    - Cauchy introduced it in the context of solving systems of equations using the steepest descent method.\n",
    "\n",
    "- **Evolution in Optimization**\n",
    "    - **1960s**: The algorithm gained prominence in the field of optimization.\n",
    "    - It was extensively studied and applied to various mathematical problems.\n",
    "\n",
    "- **Adoption in Machine Learning**\n",
    "    - **1960s-1970s**: As machine learning began to emerge, researchers recognized the potential of gradient descent for training models.\n",
    "    - **1986**: The backpropagation algorithm, which uses gradient descent, was popularized by Rumelhart, Hinton, and Williams, revolutionizing neural network training.\n",
    "\n",
    "- **Modern Era**\n",
    "    - **1990s-2000s**: With the rise of big data and more powerful computers, stochastic and mini-batch variants of gradient descent were developed to handle large-scale problems more efficiently.\n",
    "    - **2010s onwards**: Advanced variants like Adam, RMSprop, and others have been introduced, further improving the algorithm's performance in deep learning applications.\n"
   ]
  },
  {
   "cell_type": "markdown",
   "metadata": {},
   "source": [
    "Despite its age, gradient descent remains a cornerstone in machine learning optimization for several reasons:\n",
    "\n",
    "1. **Adaptability**: It has evolved to meet the changing needs of the field.\n",
    "2. **Simplicity**: The core concept is intuitive, making it accessible to learners and practitioners.\n",
    "3. **Effectiveness**: It consistently performs well across a wide range of problems.\n"
   ]
  },
  {
   "cell_type": "markdown",
   "metadata": {},
   "source": [
    "Understanding the historical context of gradient descent helps us appreciate its enduring relevance in the rapidly evolving field of machine learning. As we delve deeper into its mechanics and variants, keep in mind that you're working with an algorithm that has been refined and improved over nearly two centuries of mathematical and computational advancements.\n"
   ]
  },
  {
   "cell_type": "markdown",
   "metadata": {
    "vscode": {
     "languageId": "plaintext"
    }
   },
   "source": [
    "While gradient descent is powerful, it's not always the best choice. Here are some alternative optimization techniques:\n",
    "\n",
    "1. **Newton's Method**: \n",
    "   - Faster convergence for some problems\n",
    "   - Uses second-order derivatives\n",
    "   - Computationally expensive for high-dimensional problems\n",
    "\n",
    "2. **Quasi-Newton Methods (e.g., BFGS, L-BFGS)**:\n",
    "   - Approximate the Hessian matrix\n",
    "   - Often faster than gradient descent\n",
    "   - More memory-efficient than Newton's method\n",
    "\n",
    "3. **Conjugate Gradient Method**:\n",
    "   - Effective for large-scale problems\n",
    "   - Can be faster than gradient descent for certain types of problems\n",
    "\n",
    "4. **Evolutionary Algorithms**:\n",
    "   - Inspired by biological evolution\n",
    "   - Can handle non-differentiable objective functions\n",
    "   - Useful for global optimization\n",
    "\n",
    "5. **Simulated Annealing**:\n",
    "   - Inspired by annealing in metallurgy\n",
    "   - Can escape local minima\n",
    "   - Useful for discrete optimization problems"
   ]
  },
  {
   "cell_type": "markdown",
   "metadata": {},
   "source": [
    "In this lecture, we'll focus on gradient descent due to its widespread use and fundamental importance in machine learning. However, it's crucial to be aware of these alternatives, as they may be more suitable for certain types of problems or constraints you might encounter in your machine learning journey.\n"
   ]
  },
  {
   "cell_type": "markdown",
   "metadata": {},
   "source": [
    "As we dive deeper into gradient descent, keep in mind that the principles we discuss often apply to other optimization techniques as well. Understanding gradient descent will provide you with a solid foundation for exploring more advanced optimization algorithms in the future."
   ]
  },
  {
   "cell_type": "markdown",
   "metadata": {},
   "source": [
    "**Table of contents**<a id='toc0_'></a>    \n",
    "- [The Concept of Gradient](#toc1_)    \n",
    "  - [Visualizing Gradient](#toc1_1_)    \n",
    "  - [Importance in Machine Learning](#toc1_2_)    \n",
    "- [Basic Gradient Descent Algorithm](#toc2_)    \n",
    "  - [Mathematical Representation](#toc2_1_)    \n",
    "  - [Simple Example: Finding the Minimum of a Parabola](#toc2_2_)    \n",
    "  - [Visualization](#toc2_3_)    \n",
    "  - [Key Points](#toc2_4_)    \n",
    "- [Learning Rate and Its Importance](#toc3_)    \n",
    "  - [Why is the Learning Rate Important?](#toc3_1_)    \n",
    "  - [The Goldilocks Principle: Finding the Right Learning Rate](#toc3_2_)    \n",
    "  - [Visualizing Learning Rate Effects](#toc3_3_)    \n",
    "  - [Strategies for Choosing Learning Rates](#toc3_4_)    \n",
    "- [Challenges with Basic Gradient Descent](#toc4_)    \n",
    "  - [Choosing the Right Learning Rate](#toc4_1_)    \n",
    "  - [Sensitivity to Feature Scaling](#toc4_2_)    \n",
    "  - [Inefficiency for Large Datasets](#toc4_3_)    \n",
    "  - [Getting Trapped in Local Minima](#toc4_4_)    \n",
    "  - [Saddle Points in High Dimensions](#toc4_5_)    \n",
    "  - [Plateau Regions](#toc4_6_)    \n",
    "  - [Key Takeaways](#toc4_7_)    \n",
    "- [Connecting Gradient Descent to Machine Learning](#toc5_)    \n",
    "  - [Linear Regression Model](#toc5_1_)    \n",
    "  - [Objective: Minimize Loss](#toc5_2_)    \n",
    "  - [Gradient Descent Process](#toc5_3_)    \n",
    "  - [Implementation and Visualization](#toc5_4_)    \n",
    "- [Summary and Looking Ahead](#toc6_)    \n",
    "\n",
    "<!-- vscode-jupyter-toc-config\n",
    "\tnumbering=false\n",
    "\tanchor=true\n",
    "\tflat=false\n",
    "\tminLevel=2\n",
    "\tmaxLevel=6\n",
    "\t/vscode-jupyter-toc-config -->\n",
    "<!-- THIS CELL WILL BE REPLACED ON TOC UPDATE. DO NOT WRITE YOUR TEXT IN THIS CELL -->"
   ]
  },
  {
   "cell_type": "markdown",
   "metadata": {},
   "source": [
    "## <a id='toc1_'></a>[The Concept of Gradient](#toc0_)"
   ]
  },
  {
   "cell_type": "markdown",
   "metadata": {},
   "source": [
    "The gradient is a fundamental concept in calculus and plays a crucial role in optimization algorithms, particularly in gradient descent. Understanding the gradient is essential for grasping how many machine learning algorithms work.\n"
   ]
  },
  {
   "cell_type": "markdown",
   "metadata": {},
   "source": [
    "A gradient is a vector-valued function that represents the slope of the tangent of a function at a given point. It points in the direction of the steepest increase of the function.\n",
    "\n",
    "- For a function $f(x)$ of a single variable, the gradient is simply the derivative $f'(x)$.\n",
    "- For a function $f(x_1, x_2, ..., x_n)$ of multiple variables, the gradient is a vector of partial derivatives:\n"
   ]
  },
  {
   "cell_type": "markdown",
   "metadata": {},
   "source": [
    "$$\\nabla f = \\left(\\frac{\\partial f}{\\partial x_1}, \\frac{\\partial f}{\\partial x_2}, ..., \\frac{\\partial f}{\\partial x_n}\\right)$$\n"
   ]
  },
  {
   "cell_type": "markdown",
   "metadata": {},
   "source": [
    "Key properties of gradients include:\n",
    "\n",
    "1. **Direction**: The gradient points in the direction of steepest ascent of the function.\n",
    "2. **Magnitude**: The magnitude of the gradient represents the rate of increase of the function in that direction.\n",
    "3. **Zero Gradient**: At a local minimum, maximum, or saddle point, the gradient is zero.\n"
   ]
  },
  {
   "cell_type": "markdown",
   "metadata": {},
   "source": [
    "### <a id='toc1_1_'></a>[Visualizing Gradient](#toc0_)\n"
   ]
  },
  {
   "cell_type": "markdown",
   "metadata": {},
   "source": [
    "To better understand gradients, let's visualize them in the context of a two-dimensional function. Imagine a hilly landscape where the height of any point represents the value of the function. The gradient at each point is a vector pointing uphill in the steepest direction, with its length indicating how steep the hill is at that point.\n"
   ]
  },
  {
   "cell_type": "markdown",
   "metadata": {},
   "source": [
    "Consider the function $f(x, y) = x^2 + y^2$. The gradient of this function is:\n",
    "\n",
    "$$\\nabla f = \\left(\\frac{\\partial f}{\\partial x}, \\frac{\\partial f}{\\partial y}\\right) = (2x, 2y)$$\n"
   ]
  },
  {
   "cell_type": "markdown",
   "metadata": {},
   "source": [
    "At the point (1, 1), for example, the gradient is (2, 2). This tells us that:\n",
    "- The function is increasing most steeply in the direction of the vector (2, 2) from this point.\n",
    "- The steepness (magnitude of the gradient) at this point is $\\sqrt{2^2 + 2^2} = 2\\sqrt{2}$.\n"
   ]
  },
  {
   "cell_type": "markdown",
   "metadata": {},
   "source": [
    "Visualizing this, you would see that the further you move from the origin (0, 0) in any direction, the steeper the \"hill\" becomes, with the gradient vectors pointing radially outward and growing in magnitude.\n"
   ]
  },
  {
   "cell_type": "markdown",
   "metadata": {},
   "source": [
    "### <a id='toc1_2_'></a>[Importance in Machine Learning](#toc0_)\n"
   ]
  },
  {
   "cell_type": "markdown",
   "metadata": {},
   "source": [
    "In machine learning, gradients are crucial for several reasons:\n",
    "\n",
    "1. **Optimization**: They guide us in finding the minimum of loss functions.\n",
    "2. **Feature Importance**: They help in understanding which features have the most impact on the output.\n",
    "3. **Backpropagation**: They are essential in calculating how to adjust weights in neural networks.\n"
   ]
  },
  {
   "cell_type": "markdown",
   "metadata": {},
   "source": [
    "However, while the gradient provides the direction of steepest ascent/descent, it doesn't tell us how far to move in that direction. This is where the concept of learning rate becomes important. The learning rate determines the size of the steps we take in the direction of the gradient. Choosing an appropriate learning rate is crucial for the convergence and stability of optimization algorithms like gradient descent. We'll explore this concept in more detail in the subsequent sections."
   ]
  },
  {
   "cell_type": "markdown",
   "metadata": {},
   "source": [
    "Understanding both the theoretical concept of gradients and these practical considerations is key to effectively applying gradient-based optimization methods in machine learning tasks."
   ]
  },
  {
   "cell_type": "markdown",
   "metadata": {},
   "source": [
    "## <a id='toc2_'></a>[Basic Gradient Descent Algorithm](#toc0_)"
   ]
  },
  {
   "cell_type": "markdown",
   "metadata": {},
   "source": [
    "The Basic Gradient Descent algorithm is a simple yet powerful method for finding the minimum of a function. It's widely used in machine learning to optimize model parameters.\n"
   ]
  },
  {
   "cell_type": "markdown",
   "metadata": {},
   "source": [
    "Imagine you're in a hilly area, and your goal is to reach the lowest point (valley):\n",
    "\n",
    "1. Look around and determine the direction of the steepest downhill slope.\n",
    "2. Take a step in that direction.\n",
    "3. Repeat steps 1 and 2 until you reach a point where you can't go any lower.\n"
   ]
  },
  {
   "cell_type": "markdown",
   "metadata": {},
   "source": [
    "This is essentially what the gradient descent algorithm does, but in a mathematical space.\n"
   ]
  },
  {
   "cell_type": "markdown",
   "metadata": {},
   "source": [
    "Here's a high-level overview of the algorithm:\n",
    "1. Start with an initial guess for the minimum.\n",
    "2. Calculate the gradient (slope) at that point.\n",
    "3. Move in the opposite direction of the gradient (because we're minimizing).\n",
    "4. Repeat steps 2 and 3 until the gradient is close to zero or we've reached a maximum number of iterations.\n"
   ]
  },
  {
   "cell_type": "markdown",
   "metadata": {},
   "source": [
    "### <a id='toc2_1_'></a>[Mathematical Representation](#toc0_)\n"
   ]
  },
  {
   "cell_type": "markdown",
   "metadata": {},
   "source": [
    "For a function $f(x)$, the update rule is:\n",
    "\n",
    "$$x_{new} = x_{old} - \\alpha \\nabla f(x_{old})$$\n"
   ]
  },
  {
   "cell_type": "markdown",
   "metadata": {},
   "source": [
    "Where:\n",
    "- $x_{new}$ is the new point\n",
    "- $x_{old}$ is the current point\n",
    "- $\\alpha$ is the learning rate (step size)\n",
    "- $\\nabla f(x_{old})$ is the gradient at the current point\n"
   ]
  },
  {
   "cell_type": "markdown",
   "metadata": {},
   "source": [
    "### <a id='toc2_2_'></a>[Simple Example: Finding the Minimum of a Parabola](#toc0_)\n"
   ]
  },
  {
   "cell_type": "markdown",
   "metadata": {},
   "source": [
    "Let's consider the function $f(x) = x^2 + 2$. We know the minimum is at $x = 0$, but let's see how gradient descent finds it.\n",
    "\n",
    "1. The gradient of $f(x)$ is $f'(x) = 2x$\n",
    "2. Let's start at $x = 5$ with a learning rate $\\alpha = 0.1$\n",
    "3. Update steps:\n",
    "   - $x_1 = 5 - 0.1 * (2 * 5) = 4$\n",
    "   - $x_2 = 4 - 0.1 * (2 * 4) = 3.2$\n",
    "   - $x_3 = 3.2 - 0.1 * (2 * 3.2) = 2.56$\n",
    "   - ...\n"
   ]
  },
  {
   "cell_type": "markdown",
   "metadata": {},
   "source": [
    "After several iterations, $x$ will approach 0, the true minimum.\n"
   ]
  },
  {
   "cell_type": "markdown",
   "metadata": {},
   "source": [
    "### <a id='toc2_3_'></a>[Visualization](#toc0_)\n"
   ]
  },
  {
   "cell_type": "code",
   "execution_count": 19,
   "metadata": {},
   "outputs": [
    {
     "data": {
      "image/png": "[encoded data removed]",
      "text/plain": [
       "<Figure size 600x400 with 1 Axes>"
      ]
     },
     "metadata": {},
     "output_type": "display_data"
    }
   ],
   "source": [
    "import numpy as np\n",
    "import matplotlib.pyplot as plt\n",
    "\n",
    "def f(x):\n",
    "    return x**2 + 2\n",
    "\n",
    "x = np.linspace(-6, 6, 100)\n",
    "y = f(x)\n",
    "\n",
    "plt.figure(figsize=(6, 4))\n",
    "plt.plot(x, y, 'b-', label='f(x) = x^2 + 2', linewidth=3)\n",
    "plt.plot(0, 2, 'ro', label='Global Minimum', markersize=10, markeredgecolor='black')\n",
    "\n",
    "x_current = 5\n",
    "for i in range(10):\n",
    "    y_current = f(x_current)\n",
    "    plt.plot(x_current, y_current, 'go', markersize=10, markeredgecolor='black')\n",
    "    if i == 0:\n",
    "        plt.annotate('Start', (x_current, y_current), xytext=(5, 5), textcoords='offset points')\n",
    "    x_current = x_current - 0.1 * (2 * x_current)\n",
    "\n",
    "plt.xlabel('x')\n",
    "plt.ylabel('f(x)')\n",
    "plt.title('Gradient Descent on f(x) = x^2 + 2')\n",
    "plt.legend()\n",
    "plt.grid(True)"
   ]
  },
  {
   "cell_type": "markdown",
   "metadata": {},
   "source": [
    "This code will produce a graph showing the parabola and the steps of gradient descent converging towards the minimum.\n"
   ]
  },
  {
   "cell_type": "markdown",
   "metadata": {},
   "source": [
    "### <a id='toc2_4_'></a>[Key Points](#toc0_)\n"
   ]
  },
  {
   "cell_type": "markdown",
   "metadata": {},
   "source": [
    "- Gradient descent iteratively moves towards the minimum.\n",
    "- The learning rate $\\alpha$ determines the size of each step.\n",
    "- Too large a learning rate can overshoot the minimum, while too small a rate can make convergence slow.\n",
    "- This basic version works well for simple, convex functions but may struggle with more complex landscapes.\n"
   ]
  },
  {
   "cell_type": "markdown",
   "metadata": {},
   "source": [
    "Understanding this basic algorithm lays the foundation for more advanced variants we'll explore in future sections."
   ]
  },
  {
   "cell_type": "markdown",
   "metadata": {},
   "source": [
    "## <a id='toc3_'></a>[Learning Rate and Its Importance](#toc0_)"
   ]
  },
  {
   "cell_type": "markdown",
   "metadata": {},
   "source": [
    "The learning rate, often denoted as α (alpha), is a crucial hyperparameter in the gradient descent algorithm. It determines the size of the steps we take when moving towards the minimum of our objective function.\n"
   ]
  },
  {
   "cell_type": "markdown",
   "metadata": {},
   "source": [
    "The learning rate is a positive scalar that scales the magnitude of our steps. In the gradient descent update rule:\n",
    "\n",
    "$$x_{new} = x_{old} - \\alpha \\nabla f(x_{old})$$\n",
    "\n",
    "α is the learning rate that controls how much we adjust our parameters in the direction of the gradient.\n"
   ]
  },
  {
   "cell_type": "markdown",
   "metadata": {},
   "source": [
    "### <a id='toc3_1_'></a>[Why is the Learning Rate Important?](#toc0_)\n"
   ]
  },
  {
   "cell_type": "markdown",
   "metadata": {},
   "source": [
    "The learning rate significantly impacts the behavior and effectiveness of gradient descent:\n",
    "\n",
    "1. **Convergence Speed**: It affects how quickly the algorithm reaches the minimum.\n",
    "2. **Stability**: It influences whether the algorithm converges at all or oscillates.\n",
    "3. **Precision**: It determines how close we can get to the true minimum.\n"
   ]
  },
  {
   "cell_type": "markdown",
   "metadata": {},
   "source": [
    "### <a id='toc3_2_'></a>[The Goldilocks Principle: Finding the Right Learning Rate](#toc0_)\n"
   ]
  },
  {
   "cell_type": "markdown",
   "metadata": {},
   "source": [
    "Choosing the right learning rate is crucial and often requires experimentation. We can think of it in terms of the \"Goldilocks principle\":\n",
    "\n",
    "1. **Too Small**: \n",
    "   - Progress is slow\n",
    "   - May get stuck in local minima\n",
    "   - Computationally expensive due to many iterations\n",
    "\n",
    "2. **Too Large**:\n",
    "   - May overshoot the minimum\n",
    "   - Can lead to divergence or oscillation\n",
    "   - Might miss the optimal solution entirely\n",
    "\n",
    "3. **Just Right**:\n",
    "   - Converges efficiently to the minimum\n",
    "   - Balances speed and precision\n"
   ]
  },
  {
   "cell_type": "markdown",
   "metadata": {},
   "source": [
    "### <a id='toc3_3_'></a>[Visualizing Learning Rate Effects](#toc0_)\n"
   ]
  },
  {
   "cell_type": "markdown",
   "metadata": {},
   "source": [
    "Let's visualize how different learning rates affect convergence:"
   ]
  },
  {
   "cell_type": "code",
   "execution_count": 47,
   "metadata": {},
   "outputs": [
    {
     "data": {
      "image/png": "[encoded data removed]",
      "text/plain": [
       "<Figure size 1800x500 with 3 Axes>"
      ]
     },
     "metadata": {},
     "output_type": "display_data"
    }
   ],
   "source": [
    "import numpy as np\n",
    "import matplotlib.pyplot as plt\n",
    "\n",
    "def f(x):\n",
    "    return x**2\n",
    "\n",
    "def gradient_descent(start, learn_rate, num_iterations):\n",
    "    x = start\n",
    "    x_history = [x]\n",
    "    for _ in range(num_iterations):\n",
    "        x = x - learn_rate * 2 * x  # gradient of x^2 is 2x\n",
    "        x_history.append(x)\n",
    "    return x_history\n",
    "\n",
    "x = np.linspace(-2, 2, 100)\n",
    "y = f(x)\n",
    "\n",
    "fig, axs = plt.subplots(1, 3, figsize=(18, 5))\n",
    "fig.suptitle('Effect of Learning Rate on Gradient Descent')\n",
    "\n",
    "learn_rates = [0.02, 0.1, 0.9]\n",
    "colors = ['r', 'g', 'r']\n",
    "labels = ['Small (0.02)', 'Good (0.1)', 'Large (0.5)']\n",
    "\n",
    "for i, (rate, color, label) in enumerate(zip(learn_rates, colors, labels)):\n",
    "    x_hist = gradient_descent(1.5, rate, 20)\n",
    "\n",
    "    axs[i].plot(x, y, 'b-', label='f(x) = x^2', linewidth=3)\n",
    "    axs[i].plot(x_hist, [f(x) for x in x_hist], f'{color}o-', label=f'α = {rate}', markersize=10, markeredgecolor='black')\n",
    "\n",
    "    axs[i].set_xlabel('x')\n",
    "    axs[i].set_ylabel('f(x)')\n",
    "    axs[i].legend()\n",
    "    axs[i].set_title(f'Learning Rate: {label}')\n",
    "    axs[i].set_xlim(-2, 2)\n",
    "    axs[i].set_ylim(-1, 4)\n",
    "\n",
    "    # Annotate the start and end points\n",
    "    axs[i].annotate('Start', (x_hist[0] - 0.3, f(x_hist[0]) + 0.2), xytext=(5, 5), textcoords='offset points', fontsize=12)\n",
    "    axs[i].annotate('End', (x_hist[-1] - 0.3, f(x_hist[-1]) + 0.2), xytext=(5, 5), textcoords='offset points', fontsize=12)\n",
    "\n",
    "plt.tight_layout()\n",
    "plt.show()\n"
   ]
  },
  {
   "cell_type": "markdown",
   "metadata": {},
   "source": [
    "This code generates a plot showing how different learning rates affect the convergence path.\n"
   ]
  },
  {
   "cell_type": "markdown",
   "metadata": {},
   "source": [
    "### <a id='toc3_4_'></a>[Strategies for Choosing Learning Rates](#toc0_)"
   ]
  },
  {
   "cell_type": "markdown",
   "metadata": {},
   "source": [
    "The learning rate is a critical hyperparameter in gradient descent, balancing the speed of convergence with the precision of the solution. Its importance cannot be overstated, as it significantly impacts the algorithm's performance and stability. Here are some practical strategies for choosing learning rates:\n",
    "\n",
    "1. **Start Small and Scale Up**: \n",
    "   - Begin with a small learning rate (e.g., 0.001 or 0.01)\n",
    "   - Gradually increase if convergence is too slow\n",
    "\n",
    "2. **Learning Rate Schedules**: \n",
    "   - Decrease the learning rate over time\n",
    "   - Helps fine-tune near the minimum\n",
    "   - Common schedules: Step decay, exponential decay, or cosine annealing\n",
    "\n",
    "3. **Exponential Range Search**:\n",
    "   - Test learning rates across exponential ranges (e.g., 0.001, 0.01, 0.1, 1)\n",
    "   - Helps quickly identify the general magnitude of an effective learning rate\n",
    "\n",
    "4. **Adaptive Methods**:\n",
    "   - Use algorithms like Adam, RMSprop, or AdaGrad\n",
    "   - These methods automatically adjust the learning rate during training\n",
    "\n",
    "5. **Learning Rate Warmup**:\n",
    "   - Start with a very small learning rate and gradually increase it\n",
    "   - Particularly useful in deep learning models\n"
   ]
  },
  {
   "cell_type": "markdown",
   "metadata": {},
   "source": [
    "\n",
    "No single strategy works universally, as the optimal learning rate depends on the specific problem, dataset, and model architecture. Experimentation and domain knowledge are key to finding the right learning rate for your machine learning tasks. Keep in mind that the learning rate is just one of many hyperparameters that can be tuned to improve model performance. As you gain experience, you'll develop an intuition for selecting learning rates effectively across various scenarios and algorithms.\n"
   ]
  },
  {
   "cell_type": "markdown",
   "metadata": {},
   "source": [
    "Key takeaways from this section:\n",
    "1. **Crucial Hyperparameter**: The learning rate often has the largest impact on model training among all hyperparameters.\n",
    "2. **No One-Size-Fits-All**: The optimal learning rate varies depending on the specific problem, dataset, and model architecture.\n",
    "3. **Monitoring is Essential**: Keep an eye on the loss curve during training. A good learning rate should show steady decrease in loss.\n",
    "4. **Trade-off**: Too small a learning rate leads to slow convergence, while too large can cause divergence or oscillation.\n",
    "5. **Advanced Techniques**: In practice, many researchers and practitioners use adaptive learning rate methods to avoid manual tuning.\n",
    "6. **Experiment and Iterate**: Finding the right learning rate often requires experimentation and domain knowledge.\n",
    "7. **Impact on Training Time**: A well-chosen learning rate can significantly reduce the time required to train a model effectively.\n"
   ]
  },
  {
   "cell_type": "markdown",
   "metadata": {},
   "source": [
    "Understanding and effectively managing the learning rate is a key skill in applying gradient descent and, more broadly, in training machine learning models. As you progress in your machine learning journey, you'll develop an intuition for selecting and tuning learning rates across various scenarios and algorithms."
   ]
  },
  {
   "cell_type": "markdown",
   "metadata": {},
   "source": [
    "\n",
    "Understanding the role of the learning rate is crucial for effectively applying gradient descent in practice. As we explore more advanced optimization techniques, we'll see how the concept of learning rate evolves and becomes more sophisticated."
   ]
  },
  {
   "cell_type": "markdown",
   "metadata": {},
   "source": [
    "## <a id='toc4_'></a>[Challenges with Basic Gradient Descent](#toc0_)"
   ]
  },
  {
   "cell_type": "markdown",
   "metadata": {},
   "source": [
    "While the basic gradient descent algorithm is powerful and widely used, it comes with several challenges that can impact its effectiveness in certain scenarios. Understanding these challenges is crucial for recognizing when to use more advanced optimization techniques.\n"
   ]
  },
  {
   "cell_type": "markdown",
   "metadata": {},
   "source": [
    "### <a id='toc4_1_'></a>[Choosing the Right Learning Rate](#toc0_)\n"
   ]
  },
  {
   "cell_type": "markdown",
   "metadata": {},
   "source": [
    "**Challenge**: \n",
    "The learning rate significantly affects the algorithm's performance, but finding the optimal value can be difficult.\n"
   ]
  },
  {
   "cell_type": "markdown",
   "metadata": {},
   "source": [
    "**Impact**:\n",
    "- Too large: Can cause divergence or oscillation around the minimum.\n",
    "- Too small: Can result in slow convergence or getting stuck in local minima.\n"
   ]
  },
  {
   "cell_type": "markdown",
   "metadata": {},
   "source": [
    "### <a id='toc4_2_'></a>[Sensitivity to Feature Scaling](#toc0_)\n"
   ]
  },
  {
   "cell_type": "markdown",
   "metadata": {},
   "source": [
    "**Challenge**: \n",
    "The algorithm performs poorly when features have different scales.\n"
   ]
  },
  {
   "cell_type": "markdown",
   "metadata": {},
   "source": [
    "**Impact**:\n",
    "- Can lead to slow convergence or zigzagging towards the minimum.\n",
    "- Some features may dominate the learning process.\n"
   ]
  },
  {
   "cell_type": "markdown",
   "metadata": {},
   "source": [
    "**Solution**:\n",
    "- Normalize or standardize features before applying gradient descent.\n"
   ]
  },
  {
   "cell_type": "markdown",
   "metadata": {},
   "source": [
    "### <a id='toc4_3_'></a>[Inefficiency for Large Datasets](#toc0_)\n"
   ]
  },
  {
   "cell_type": "markdown",
   "metadata": {},
   "source": [
    "**Challenge**: \n",
    "Basic gradient descent computes the gradient using the entire dataset in each iteration.\n"
   ]
  },
  {
   "cell_type": "markdown",
   "metadata": {},
   "source": [
    "**Impact**:\n",
    "- Can be computationally expensive and slow for large datasets.\n",
    "- May be impractical for very large or streaming datasets.\n"
   ]
  },
  {
   "cell_type": "markdown",
   "metadata": {},
   "source": [
    "**Solution**:\n",
    "- Use variants like Stochastic Gradient Descent or Mini-batch Gradient Descent.\n"
   ]
  },
  {
   "cell_type": "markdown",
   "metadata": {},
   "source": [
    "### <a id='toc4_4_'></a>[Getting Trapped in Local Minima](#toc0_)\n"
   ]
  },
  {
   "cell_type": "markdown",
   "metadata": {},
   "source": [
    "**Challenge**: \n",
    "In non-convex optimization problems, gradient descent can get stuck in local minima.\n"
   ]
  },
  {
   "cell_type": "markdown",
   "metadata": {},
   "source": [
    "**Impact**:\n",
    "- May not find the global optimum solution.\n",
    "- Performance of the model may be suboptimal.\n"
   ]
  },
  {
   "cell_type": "markdown",
   "metadata": {},
   "source": [
    "**Solutions**:\n",
    "- Use momentum-based methods.\n",
    "- Implement random restarts.\n",
    "- Apply more advanced optimization algorithms.\n"
   ]
  },
  {
   "cell_type": "markdown",
   "metadata": {},
   "source": [
    "### <a id='toc4_5_'></a>[Saddle Points in High Dimensions](#toc0_)\n"
   ]
  },
  {
   "cell_type": "markdown",
   "metadata": {},
   "source": [
    "**Challenge**: \n",
    "In high-dimensional spaces, saddle points become more common than local minima.\n"
   ]
  },
  {
   "cell_type": "markdown",
   "metadata": {},
   "source": [
    "**Impact**:\n",
    "- The algorithm may slow down significantly near saddle points.\n",
    "- Can be mistaken for a local minimum in practice.\n"
   ]
  },
  {
   "cell_type": "markdown",
   "metadata": {},
   "source": [
    "**Solution**:\n",
    "- Use methods that can escape saddle points, like momentum or adaptive learning rate algorithms.\n"
   ]
  },
  {
   "cell_type": "markdown",
   "metadata": {},
   "source": [
    "### <a id='toc4_6_'></a>[Plateau Regions](#toc0_)\n"
   ]
  },
  {
   "cell_type": "markdown",
   "metadata": {},
   "source": [
    "**Challenge**: \n",
    "Gradient descent can slow down in flat regions where the gradient is close to zero.\n"
   ]
  },
  {
   "cell_type": "markdown",
   "metadata": {},
   "source": [
    "**Impact**:\n",
    "- Very slow progress in plateau regions of the loss landscape.\n",
    "- May prematurely appear to have converged.\n"
   ]
  },
  {
   "cell_type": "markdown",
   "metadata": {},
   "source": [
    "**Solution**:\n",
    "- Adaptive learning rate methods can help navigate plateau regions more effectively.\n"
   ]
  },
  {
   "cell_type": "markdown",
   "metadata": {},
   "source": [
    "### <a id='toc4_7_'></a>[Key Takeaways](#toc0_)\n"
   ]
  },
  {
   "cell_type": "markdown",
   "metadata": {},
   "source": [
    "1. **No Free Lunch**: Basic gradient descent is not a one-size-fits-all solution.\n",
    "2. **Problem-Specific**: The effectiveness of gradient descent depends on the nature of the optimization problem.\n",
    "3. **Preprocessing Matters**: Proper data preparation, especially feature scaling, is crucial.\n",
    "4. **Advanced Variants**: Many of these challenges are addressed by more sophisticated variants of gradient descent.\n",
    "5. **Monitoring**: It's important to monitor the optimization process to detect issues like slow convergence or oscillation.\n"
   ]
  },
  {
   "cell_type": "markdown",
   "metadata": {},
   "source": [
    "Understanding these challenges helps in recognizing when to apply more advanced optimization techniques or when to preprocess data differently. As we progress, we'll explore various methods designed to overcome these limitations of basic gradient descent."
   ]
  },
  {
   "cell_type": "markdown",
   "metadata": {},
   "source": [
    "## <a id='toc5_'></a>[Connecting Gradient Descent to Machine Learning](#toc0_)"
   ]
  },
  {
   "cell_type": "markdown",
   "metadata": {},
   "source": [
    "Gradient Descent is fundamental in machine learning, particularly for estimating model parameters. Let's explore how this optimization algorithm is used to estimate weights in a linear regression model.\n"
   ]
  },
  {
   "cell_type": "markdown",
   "metadata": {},
   "source": [
    "### <a id='toc5_1_'></a>[Linear Regression Model](#toc0_)\n"
   ]
  },
  {
   "cell_type": "markdown",
   "metadata": {},
   "source": [
    "Consider a simple linear regression model:\n",
    "\n",
    "$y = wx + b$\n"
   ]
  },
  {
   "cell_type": "markdown",
   "metadata": {},
   "source": [
    "Where:\n",
    "- $y$ is the predicted output\n",
    "- $x$ is the input feature\n",
    "- $w$ is the weight (slope)\n",
    "- $b$ is the bias (y-intercept)\n"
   ]
  },
  {
   "cell_type": "markdown",
   "metadata": {},
   "source": [
    "We can represent this more compactly by considering $b$ as another weight and adding a constant feature:\n",
    "\n",
    "$y = w_1x + w_0$\n"
   ]
  },
  {
   "cell_type": "markdown",
   "metadata": {},
   "source": [
    "Where $w_0 = b$ and we've added a constant feature $x_0 = 1$ to our input.\n"
   ]
  },
  {
   "cell_type": "markdown",
   "metadata": {},
   "source": [
    "### <a id='toc5_2_'></a>[Objective: Minimize Loss](#toc0_)\n"
   ]
  },
  {
   "cell_type": "markdown",
   "metadata": {},
   "source": [
    "Our goal is to find the best values for $w_0$ and $w_1$ that minimize the difference between predictions and actual values. We use the Mean Squared Error (MSE) as our loss function:\n",
    "\n",
    "$MSE = \\frac{1}{n}\\sum_{i=1}^n (y_i - (w_1x_i + w_0))^2$\n"
   ]
  },
  {
   "cell_type": "markdown",
   "metadata": {},
   "source": [
    "Where $n$ is the number of data points, and $y_i$ are the actual values.\n"
   ]
  },
  {
   "cell_type": "markdown",
   "metadata": {},
   "source": [
    "### <a id='toc5_3_'></a>[Gradient Descent Process](#toc0_)\n"
   ]
  },
  {
   "cell_type": "markdown",
   "metadata": {},
   "source": [
    "1. **Initialize weights**: Start with random values for $w_0$ and $w_1$.\n",
    "\n",
    "2. **Compute gradients**: Calculate the partial derivatives of MSE with respect to each weight:\n",
    "\n",
    "   $\\frac{\\partial MSE}{\\partial w_1} = -\\frac{2}{n}\\sum_{i=1}^n x_i(y_i - (w_1x_i + w_0))$\n",
    "\n",
    "   $\\frac{\\partial MSE}{\\partial w_0} = -\\frac{2}{n}\\sum_{i=1}^n (y_i - (w_1x_i + w_0))$\n",
    "\n",
    "3. **Update weights**: Adjust weights in the opposite direction of the gradient:\n",
    "\n",
    "   $w_1 = w_1 - \\alpha \\frac{\\partial MSE}{\\partial w_1}$\n",
    "\n",
    "   $w_0 = w_0 - \\alpha \\frac{\\partial MSE}{\\partial w_0}$\n",
    "\n",
    "   Where $\\alpha$ is the learning rate.\n",
    "\n",
    "4. **Repeat**: Continue steps 2-3 until convergence or for a fixed number of iterations.\n"
   ]
  },
  {
   "cell_type": "markdown",
   "metadata": {},
   "source": [
    "### <a id='toc5_4_'></a>[Implementation and Visualization](#toc0_)\n"
   ]
  },
  {
   "cell_type": "code",
   "execution_count": 50,
   "metadata": {},
   "outputs": [
    {
     "name": "stdout",
     "output_type": "stream",
     "text": [
      "Estimated weights: w0 (bias) = 1.41, w1 = 1.94\n"
     ]
    },
    {
     "data": {
      "image/png": "[encoded data removed]",
      "text/plain": [
       "<Figure size 800x400 with 1 Axes>"
      ]
     },
     "metadata": {},
     "output_type": "display_data"
    }
   ],
   "source": [
    "import numpy as np\n",
    "import matplotlib.pyplot as plt\n",
    "\n",
    "# Generate sample data\n",
    "np.random.seed(0)\n",
    "X = np.linspace(0, 10, 100)\n",
    "y = 2 * X + 1 + np.random.randn(100) * 2\n",
    "\n",
    "# Add constant term to X for bias\n",
    "X_b = np.c_[np.ones((100, 1)), X]\n",
    "\n",
    "# Gradient Descent function\n",
    "def gradient_descent(X, y, learning_rate=0.01, iterations=1000):\n",
    "    m, n = X.shape\n",
    "    weights = np.zeros(n)\n",
    "    for _ in range(iterations):\n",
    "        predictions = X.dot(weights)\n",
    "        errors = y - predictions\n",
    "        gradient = -2/m * X.T.dot(errors)\n",
    "        weights -= learning_rate * gradient\n",
    "    return weights\n",
    "\n",
    "# Perform gradient descent\n",
    "final_weights = gradient_descent(X_b, y)\n",
    "\n",
    "# Plotting\n",
    "plt.figure(figsize=(8, 4))\n",
    "plt.scatter(X, y, alpha=0.5)\n",
    "plt.plot(X, final_weights[1] * X + final_weights[0], 'r', label='Fitted Line')\n",
    "plt.title('Linear Regression using Gradient Descent')\n",
    "plt.xlabel('X')\n",
    "plt.ylabel('y')\n",
    "plt.legend()\n",
    "\n",
    "print(f\"Estimated weights: w0 (bias) = {final_weights[0]:.2f}, w1 = {final_weights[1]:.2f}\")"
   ]
  },
  {
   "cell_type": "markdown",
   "metadata": {},
   "source": [
    "This linear regression example illustrates how gradient descent is used in machine learning:\n",
    "1. **Model Representation**: The weights ($w_0$, $w_1$) represent our model's parameters. Gradient descent helps us find the optimal values for these parameters.\n",
    "\n",
    "2. **Iterative Learning**: The process mimics how machine learning models \"learn\" from data, gradually improving their predictions.\n",
    "\n",
    "3. **Generalization**: While we've used a simple linear model, the same principle applies to more complex models with many parameters, including neural networks.\n",
    "\n",
    "4. **Scalability**: For larger datasets or more complex models, we might use variants like Stochastic Gradient Descent or Mini-batch Gradient Descent, which estimate gradients using subsets of the data.\n",
    "\n",
    "5. **Loss Landscape**: The MSE function creates a loss landscape. Gradient descent navigates this landscape to find the minimum, which corresponds to the best-fitting model.\n"
   ]
  },
  {
   "cell_type": "markdown",
   "metadata": {},
   "source": [
    "Understanding this process provides insight into how machine learning models are trained and optimized. As we progress, we'll explore how these concepts extend to more complex models and scenarios in machine learning."
   ]
  },
  {
   "cell_type": "markdown",
   "metadata": {},
   "source": [
    "## <a id='toc6_'></a>[Summary and Looking Ahead](#toc0_)"
   ]
  },
  {
   "cell_type": "markdown",
   "metadata": {},
   "source": [
    "In this lecture, we've explored the fundamental concepts of gradient descent and its application in machine learning:\n",
    "\n",
    "1. We introduced gradient descent as an iterative optimization algorithm used to minimize a function.\n",
    "2. We discussed the crucial role of the learning rate in controlling the algorithm's behavior.\n",
    "3. We examined the challenges associated with basic gradient descent, including the difficulty in choosing an optimal learning rate and its sensitivity to feature scaling.\n",
    "4. We connected gradient descent to machine learning by demonstrating its use in linear regression for weight estimation.\n",
    "5. We implemented a simple gradient descent algorithm for linear regression and visualized the results.\n"
   ]
  },
  {
   "cell_type": "markdown",
   "metadata": {},
   "source": [
    "Key takeaway: Gradient descent is a powerful tool for optimizing machine learning models, allowing us to find the best parameters that minimize the difference between predictions and actual values.\n"
   ]
  },
  {
   "cell_type": "markdown",
   "metadata": {},
   "source": [
    "As we progress in our study of optimization techniques in machine learning, we'll explore:\n",
    "\n",
    "1. **Stochastic Gradient Descent (SGD)**: How this variant improves efficiency for large datasets.\n",
    "2. **Mini-batch Gradient Descent**: Balancing the trade-offs between batch and stochastic methods.\n",
    "3. **Momentum and Nesterov Accelerated Gradient**: Techniques to improve convergence and overcome local minima.\n",
    "4. **Adaptive Learning Rate Methods**: Algorithms like AdaGrad, RMSprop, and Adam that automatically adjust the learning rate.\n",
    "5. **Application to Neural Networks**: How these concepts extend to training deep learning models.\n",
    "6. **Advanced Optimization Landscapes**: Dealing with non-convex optimization problems in complex models.\n"
   ]
  },
  {
   "cell_type": "markdown",
   "metadata": {},
   "source": [
    "Understanding these advanced topics will equip you with a comprehensive toolkit for training and optimizing a wide range of machine learning models efficiently and effectively.\n"
   ]
  },
  {
   "cell_type": "markdown",
   "metadata": {},
   "source": [
    "In our next lecture, we'll dive into Stochastic Gradient Descent, exploring how it addresses some of the limitations of batch gradient descent and its practical implications for large-scale machine learning problems."
   ]
  }
 ],
 "metadata": {
  "kernelspec": {
   "display_name": "py310",
   "language": "python",
   "name": "python3"
  },
  "language_info": {
   "codemirror_mode": {
    "name": "ipython",
    "version": 3
   },
   "file_extension": ".py",
   "mimetype": "text/x-python",
   "name": "python",
   "nbconvert_exporter": "python",
   "pygments_lexer": "ipython3",
   "version": "3.10.12"
  }
 },
 "nbformat": 4,
 "nbformat_minor": 2
}
