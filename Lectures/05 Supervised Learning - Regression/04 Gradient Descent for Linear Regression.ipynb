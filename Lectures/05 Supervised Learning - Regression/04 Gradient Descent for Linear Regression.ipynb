{
 "cells": [
  {
   "cell_type": "markdown",
   "metadata": {},
   "source": [
    "<img src=\"./images/banner.png\" width=\"800\">"
   ]
  },
  {
   "cell_type": "markdown",
   "metadata": {},
   "source": [
    "# Gradient Descent for Linear Regression"
   ]
  },
  {
   "cell_type": "markdown",
   "metadata": {},
   "source": [
    "Gradient Descent is a fundamental optimization algorithm in machine learning, playing a crucial role in training various models, including linear regression. This powerful technique allows us to find the optimal parameters for our models by iteratively minimizing a cost function.\n"
   ]
  },
  {
   "cell_type": "markdown",
   "metadata": {},
   "source": [
    "Gradient Descent is an iterative optimization algorithm used to find the minimum of a function. In the context of machine learning, it's typically used to minimize the cost (or loss) function of a model. The algorithm works by taking steps proportional to the negative of the gradient of the function at the current point, gradually moving towards the minimum.\n"
   ]
  },
  {
   "cell_type": "markdown",
   "metadata": {},
   "source": [
    "🔑 **Key Concept:** Gradient Descent is like walking down a hill in the fog. You take steps in the direction of the steepest descent until you reach the bottom (the minimum).\n"
   ]
  },
  {
   "cell_type": "markdown",
   "metadata": {},
   "source": [
    "While we can solve linear regression problems analytically using methods like Ordinary Least Squares (OLS), Gradient Descent offers several advantages:\n",
    "\n",
    "1. Scalability: It's efficient for large datasets where analytical solutions might be computationally expensive.\n",
    "2. Flexibility: The same principle can be applied to more complex models beyond linear regression.\n",
    "3. Online Learning: It allows for incremental updates as new data arrives.\n"
   ]
  },
  {
   "cell_type": "markdown",
   "metadata": {},
   "source": [
    "To understand Gradient Descent, we need to familiarize ourselves with its key components:\n",
    "\n",
    "1. **Cost Function**: A measure of how well our model fits the data. For linear regression, we typically use Mean Squared Error (MSE).\n",
    "2. **Parameters**: The values we're trying to optimize. In linear regression, these are the coefficients and intercept.\n",
    "3. **Gradient**: The vector of partial derivatives of the cost function with respect to each parameter.\n",
    "4. **Learning Rate**: A hyperparameter that determines the size of steps we take during optimization.\n"
   ]
  },
  {
   "cell_type": "markdown",
   "metadata": {},
   "source": [
    "At a high level, the Gradient Descent algorithm follows these steps:\n",
    "\n",
    "1. Initialize the parameters (often randomly)\n",
    "2. Calculate the gradient of the cost function\n",
    "3. Update the parameters by moving in the opposite direction of the gradient\n",
    "4. Repeat steps 2-3 until convergence or a maximum number of iterations is reached\n"
   ]
  },
  {
   "cell_type": "markdown",
   "metadata": {},
   "source": [
    "In the following sections, we'll delve deeper into the mathematics behind Gradient Descent, explore different variants of the algorithm, and see how to implement it for linear regression.\n"
   ]
  },
  {
   "cell_type": "markdown",
   "metadata": {},
   "source": [
    "Understanding Gradient Descent is crucial not just for linear regression, but for many advanced machine learning techniques, including neural networks and deep learning."
   ]
  },
  {
   "cell_type": "markdown",
   "metadata": {},
   "source": [
    "**Table of contents**<a id='toc0_'></a>    \n",
    "- [The Mathematics Behind Gradient Descent](#toc1_)    \n",
    "  - [The Cost Function](#toc1_1_)    \n",
    "  - [Partial Derivatives and the Gradient](#toc1_2_)    \n",
    "  - [The Update Rule](#toc1_3_)    \n",
    "  - [Convergence](#toc1_4_)    \n",
    "  - [Multidimensional Gradient Descent](#toc1_5_)    \n",
    "- [Types of Gradient Descent](#toc2_)    \n",
    "  - [Batch Gradient Descent](#toc2_1_)    \n",
    "  - [Stochastic Gradient Descent (SGD)](#toc2_2_)    \n",
    "  - [Mini-Batch Gradient Descent](#toc2_3_)    \n",
    "  - [Comparison and Choosing the Right Type](#toc2_4_)    \n",
    "- [Implementing Gradient Descent for Linear Regression](#toc3_)    \n",
    "  - [Setting Up the Environment](#toc3_1_)    \n",
    "  - [Implementing Batch Gradient Descent](#toc3_2_)    \n",
    "  - [Running the Algorithm](#toc3_3_)    \n",
    "  - [Implementing Stochastic Gradient Descent](#toc3_4_)    \n",
    "  - [Comparing the Results](#toc3_5_)    \n",
    "  - [Practical Considerations](#toc3_6_)    \n",
    "- [Summary and Key Takeaways](#toc4_)    \n",
    "\n",
    "<!-- vscode-jupyter-toc-config\n",
    "\tnumbering=false\n",
    "\tanchor=true\n",
    "\tflat=false\n",
    "\tminLevel=2\n",
    "\tmaxLevel=6\n",
    "\t/vscode-jupyter-toc-config -->\n",
    "<!-- THIS CELL WILL BE REPLACED ON TOC UPDATE. DO NOT WRITE YOUR TEXT IN THIS CELL -->"
   ]
  },
  {
   "cell_type": "markdown",
   "metadata": {},
   "source": [
    "## <a id='toc1_'></a>[The Mathematics Behind Gradient Descent](#toc0_)"
   ]
  },
  {
   "cell_type": "markdown",
   "metadata": {},
   "source": [
    "To truly understand and effectively implement Gradient Descent, we need to delve into its mathematical foundations. This section will break down the key mathematical concepts and equations that drive the algorithm.\n"
   ]
  },
  {
   "cell_type": "markdown",
   "metadata": {},
   "source": [
    "You're absolutely right. I'll revise the cost function section to explain its derivation from probability and use beta for weights. Here's the updated version:\n"
   ]
  },
  {
   "cell_type": "markdown",
   "metadata": {},
   "source": [
    "### <a id='toc1_1_'></a>[The Cost Function](#toc0_)\n"
   ]
  },
  {
   "cell_type": "markdown",
   "metadata": {},
   "source": [
    "In linear regression, our goal is to find the line that best fits our data. The cost function we use is typically derived from the principle of maximum likelihood estimation, which has its roots in probability theory.\n"
   ]
  },
  {
   "cell_type": "markdown",
   "metadata": {},
   "source": [
    "Let's consider a linear regression model:\n",
    "\n",
    "$$ y = X\\beta + \\epsilon $$\n"
   ]
  },
  {
   "cell_type": "markdown",
   "metadata": {},
   "source": [
    "Where:\n",
    "- $y$ is the target variable\n",
    "- $X$ is the matrix of input features\n",
    "- $\\beta$ is the vector of weights (including the intercept)\n",
    "- $\\epsilon$ is the error term\n"
   ]
  },
  {
   "cell_type": "markdown",
   "metadata": {},
   "source": [
    "We assume that the errors $\\epsilon$ are normally distributed with mean 0 and variance $\\sigma^2$. This assumption leads to the probability density function of $y$ given $X$ and $\\beta$:\n",
    "\n",
    "$$ p(y|X,\\beta) = \\frac{1}{\\sqrt{2\\pi\\sigma^2}} \\exp\\left(-\\frac{(y - X\\beta)^2}{2\\sigma^2}\\right) $$\n"
   ]
  },
  {
   "cell_type": "markdown",
   "metadata": {},
   "source": [
    "The likelihood function is the product of these probabilities for all observations:\n",
    "\n",
    "$$ L(\\beta) = \\prod_{i=1}^n p(y_i|x_i,\\beta) $$\n"
   ]
  },
  {
   "cell_type": "markdown",
   "metadata": {},
   "source": [
    "To simplify calculations, we often work with the log-likelihood:\n",
    "\n",
    "$$ \\log L(\\beta) = -\\frac{n}{2}\\log(2\\pi\\sigma^2) - \\frac{1}{2\\sigma^2}\\sum_{i=1}^n (y_i - x_i\\beta)^2 $$\n"
   ]
  },
  {
   "cell_type": "markdown",
   "metadata": {},
   "source": [
    "Maximizing this log-likelihood is equivalent to minimizing the sum of squared errors:\n",
    "\n",
    "$$ \\sum_{i=1}^n (y_i - x_i\\beta)^2 $$\n"
   ]
  },
  {
   "cell_type": "markdown",
   "metadata": {},
   "source": [
    "This is because the other terms in the log-likelihood are constants with respect to $\\beta$. Dividing by $2n$ for mathematical convenience, we arrive at our cost function, the Mean Squared Error (MSE):\n",
    "\n",
    "$$ J(\\beta) = \\frac{1}{2n} \\sum_{i=1}^n (y_i - x_i\\beta)^2 $$\n"
   ]
  },
  {
   "cell_type": "markdown",
   "metadata": {},
   "source": [
    "🔑 **Key Concept:** The MSE cost function is not arbitrary; it's derived from the assumption of normally distributed errors and the principle of maximum likelihood estimation.\n"
   ]
  },
  {
   "cell_type": "markdown",
   "metadata": {},
   "source": [
    "This cost function has several desirable properties:\n",
    "1. It's always non-negative.\n",
    "2. It reaches its minimum value, 0, when the predicted values exactly match the actual values.\n",
    "3. It's convex, ensuring a global minimum.\n"
   ]
  },
  {
   "cell_type": "markdown",
   "metadata": {},
   "source": [
    "💡 **Pro Tip:** Understanding the probabilistic interpretation of the cost function can provide insights into when MSE is appropriate and when other cost functions might be more suitable.\n"
   ]
  },
  {
   "cell_type": "markdown",
   "metadata": {},
   "source": [
    "The goal of Gradient Descent is to find the values of $\\beta$ that minimize this cost function. In the following sections, we'll explore how to use calculus to find this minimum efficiently.\n"
   ]
  },
  {
   "cell_type": "markdown",
   "metadata": {},
   "source": [
    "### <a id='toc1_2_'></a>[Partial Derivatives and the Gradient](#toc0_)\n"
   ]
  },
  {
   "cell_type": "markdown",
   "metadata": {},
   "source": [
    "To minimize the cost function, we need to know in which direction to adjust our parameters. This is where partial derivatives come in. We calculate the partial derivative of the cost function with respect to each parameter:\n",
    "\n",
    "$$ \\frac{\\partial J}{\\partial \\beta_0} = -\\frac{1}{n} \\sum_{i=1}^n x_i(y_i - (\\beta_0 + \\beta_1 x_i)) $$\n",
    "\n",
    "$$ \\frac{\\partial J}{\\partial \\beta_1} = -\\frac{1}{n} \\sum_{i=1}^n (y_i - (\\beta_0 + \\beta_1 x_i)) $$\n"
   ]
  },
  {
   "cell_type": "markdown",
   "metadata": {},
   "source": [
    "The gradient is simply a vector of these partial derivatives:\n",
    "\n",
    "$$ \\nabla J = \\left(\\frac{\\partial J}{\\partial \\beta_0}, \\frac{\\partial J}{\\partial \\beta_1}\\right) $$\n"
   ]
  },
  {
   "cell_type": "markdown",
   "metadata": {},
   "source": [
    "### <a id='toc1_3_'></a>[The Update Rule](#toc0_)\n"
   ]
  },
  {
   "cell_type": "markdown",
   "metadata": {},
   "source": [
    "With the gradient calculated, we can update our parameters. The update rule for Gradient Descent is:\n",
    "\n",
    "$$ \\beta_0 := \\beta_0 - \\alpha \\frac{\\partial J}{\\partial \\beta_0} $$\n",
    "$$ \\beta_1 := \\beta_1 - \\alpha \\frac{\\partial J}{\\partial \\beta_1} $$\n",
    "\n",
    "Where $\\alpha$ is the learning rate, a positive scalar that determines the size of our steps.\n"
   ]
  },
  {
   "cell_type": "markdown",
   "metadata": {},
   "source": [
    "💡 **Pro Tip:** Choosing the right learning rate is crucial. Too small, and the algorithm will converge slowly; too large, and it might overshoot the minimum or even diverge.\n"
   ]
  },
  {
   "cell_type": "markdown",
   "metadata": {},
   "source": [
    "### <a id='toc1_4_'></a>[Convergence](#toc0_)\n"
   ]
  },
  {
   "cell_type": "markdown",
   "metadata": {},
   "source": [
    "We repeat the process of calculating the gradient and updating the parameters until one of these conditions is met:\n",
    "\n",
    "1. The change in the cost function falls below a predetermined threshold.\n",
    "2. The magnitude of the gradient falls below a predetermined threshold.\n",
    "3. A maximum number of iterations is reached.\n"
   ]
  },
  {
   "cell_type": "markdown",
   "metadata": {},
   "source": [
    "### <a id='toc1_5_'></a>[Multidimensional Gradient Descent](#toc0_)\n"
   ]
  },
  {
   "cell_type": "markdown",
   "metadata": {},
   "source": [
    "While we've focused on linear regression with one feature, Gradient Descent easily extends to multiple features. For a model with parameters $\\theta_0, \\theta_1, ..., \\theta_n$, the update rule becomes:\n",
    "\n",
    "$$ \\theta_j := \\theta_j - \\alpha \\frac{\\partial J}{\\partial \\theta_j} \\quad \\text{for } j = 0, 1, ..., n $$\n"
   ]
  },
  {
   "cell_type": "markdown",
   "metadata": {},
   "source": [
    "⚠️ **Important Note:** As the number of features increases, so does the computational complexity. This is where more advanced optimization techniques become valuable.\n"
   ]
  },
  {
   "cell_type": "markdown",
   "metadata": {},
   "source": [
    "By understanding these mathematical principles, we can better implement and troubleshoot Gradient Descent algorithms, not just for linear regression, but for a wide range of machine learning models."
   ]
  },
  {
   "cell_type": "markdown",
   "metadata": {},
   "source": [
    "## <a id='toc2_'></a>[Types of Gradient Descent](#toc0_)"
   ]
  },
  {
   "cell_type": "markdown",
   "metadata": {},
   "source": [
    "Gradient Descent comes in several variants, each with its own strengths and weaknesses. Understanding these different types is crucial for choosing the right approach for your specific problem and dataset.\n"
   ]
  },
  {
   "cell_type": "markdown",
   "metadata": {},
   "source": [
    "<img src=\"./images/stochastic-batch-minibatch.jpg\" width=\"800\">"
   ]
  },
  {
   "cell_type": "markdown",
   "metadata": {},
   "source": [
    "<img src=\"./images/stochastic-batch.png\" width=\"800\">"
   ]
  },
  {
   "cell_type": "markdown",
   "metadata": {},
   "source": [
    "### <a id='toc2_1_'></a>[Batch Gradient Descent](#toc0_)\n"
   ]
  },
  {
   "cell_type": "markdown",
   "metadata": {},
   "source": [
    "Batch Gradient Descent, also known as vanilla gradient descent, computes the gradient of the cost function with respect to the parameters $\\beta$ for the entire training dataset.\n"
   ]
  },
  {
   "cell_type": "markdown",
   "metadata": {},
   "source": [
    "Here's how it works:\n",
    "1. Calculate the gradient using all training examples.\n",
    "2. Update the parameters once per iteration.\n"
   ]
  },
  {
   "cell_type": "markdown",
   "metadata": {},
   "source": [
    "```python\n",
    "for i in range(num_iterations):\n",
    "    gradient = compute_gradient(X, y, beta)\n",
    "    beta -= learning_rate * gradient\n",
    "```\n"
   ]
  },
  {
   "cell_type": "markdown",
   "metadata": {},
   "source": [
    "There are several advantages and disadvantages to Batch Gradient Descent:\n"
   ]
  },
  {
   "cell_type": "markdown",
   "metadata": {},
   "source": [
    "Here are some of the advantages:\n",
    "- Guaranteed to converge to the global minimum for convex error surfaces.\n",
    "- Computationally efficient for small datasets.\n"
   ]
  },
  {
   "cell_type": "markdown",
   "metadata": {},
   "source": [
    "And some of the disadvantages:\n",
    "- Can be very slow for large datasets.\n",
    "- Requires the entire dataset to fit in memory.\n"
   ]
  },
  {
   "cell_type": "markdown",
   "metadata": {},
   "source": [
    "🔑 **Key Concept:** Batch Gradient Descent provides a stable and predictable convergence but can be impractical for large datasets.\n"
   ]
  },
  {
   "cell_type": "markdown",
   "metadata": {},
   "source": [
    "### <a id='toc2_2_'></a>[Stochastic Gradient Descent (SGD)](#toc0_)\n"
   ]
  },
  {
   "cell_type": "markdown",
   "metadata": {},
   "source": [
    "Stochastic Gradient Descent updates the parameters for each training example.\n"
   ]
  },
  {
   "cell_type": "markdown",
   "metadata": {},
   "source": [
    "Here's how it works:\n",
    "1. Shuffle the dataset.\n",
    "2. For each training example:\n",
    "   - Calculate the gradient.\n",
    "   - Update the parameters.\n",
    "\n",
    "```python\n",
    "for i in range(num_epochs):\n",
    "    np.random.shuffle(data)\n",
    "    for example in data:\n",
    "        gradient = compute_gradient(example, y, beta)\n",
    "        beta -= learning_rate * gradient\n",
    "```\n"
   ]
  },
  {
   "cell_type": "markdown",
   "metadata": {},
   "source": [
    "Advantages of SGD include:\n",
    "- Much faster than batch gradient descent.\n",
    "- Can begin to improve the model even before seeing all examples.\n",
    "- Can escape local minima due to its stochastic nature.\n"
   ]
  },
  {
   "cell_type": "markdown",
   "metadata": {},
   "source": [
    "Some of the disadvantages are:\n",
    "- High variance in parameter updates.\n",
    "- May not converge to the exact minimum.\n"
   ]
  },
  {
   "cell_type": "markdown",
   "metadata": {},
   "source": [
    "💡 **Pro Tip:** SGD is often the preferred choice for large-scale machine learning problems, especially in online learning scenarios.\n"
   ]
  },
  {
   "cell_type": "markdown",
   "metadata": {},
   "source": [
    "### <a id='toc2_3_'></a>[Mini-Batch Gradient Descent](#toc0_)\n"
   ]
  },
  {
   "cell_type": "markdown",
   "metadata": {},
   "source": [
    "Mini-Batch Gradient Descent strikes a balance between batch and stochastic gradient descent, updating parameters for small batches of training examples.\n"
   ]
  },
  {
   "cell_type": "markdown",
   "metadata": {},
   "source": [
    "Here is how it works:\n",
    "1. Divide the training set into small batches.\n",
    "2. For each batch:\n",
    "   - Calculate the gradient.\n",
    "   - Update the parameters.\n"
   ]
  },
  {
   "cell_type": "markdown",
   "metadata": {},
   "source": [
    "```python\n",
    "for i in range(num_epochs):\n",
    "    np.random.shuffle(data)\n",
    "    for batch in create_batches(data, batch_size):\n",
    "        gradient = compute_gradient(batch, y, beta)\n",
    "        beta -= learning_rate * gradient\n",
    "```\n"
   ]
  },
  {
   "cell_type": "markdown",
   "metadata": {},
   "source": [
    "Mini-Batch Gradient Descent offers the best of both worlds:\n",
    "- More stable convergence than SGD.\n",
    "- More efficient than batch gradient descent for large datasets.\n",
    "- Can leverage optimized matrix operations.\n"
   ]
  },
  {
   "cell_type": "markdown",
   "metadata": {},
   "source": [
    "However, it also has some drawbacks:\n",
    "- Requires tuning of an additional hyperparameter (batch size).\n",
    "- Still subject to some variance in parameter updates.\n"
   ]
  },
  {
   "cell_type": "markdown",
   "metadata": {},
   "source": [
    "> **Important Note:** The choice of batch size can significantly impact model performance and training time.\n"
   ]
  },
  {
   "cell_type": "markdown",
   "metadata": {},
   "source": [
    "### <a id='toc2_4_'></a>[Comparison and Choosing the Right Type](#toc0_)\n"
   ]
  },
  {
   "cell_type": "markdown",
   "metadata": {},
   "source": [
    "The choice between these types depends on your specific problem:\n",
    "\n",
    "- **Batch Gradient Descent**: Best for small datasets where computational efficiency is not a concern.\n",
    "- **Stochastic Gradient Descent**: Ideal for large datasets and online learning scenarios.\n",
    "- **Mini-Batch Gradient Descent**: A good default choice, balancing efficiency and stability.\n"
   ]
  },
  {
   "cell_type": "markdown",
   "metadata": {},
   "source": [
    "🤔 **Why This Matters:** The type of gradient descent you choose can dramatically affect training time, convergence behavior, and even final model performance.\n"
   ]
  },
  {
   "cell_type": "markdown",
   "metadata": {},
   "source": [
    "In practice, most modern machine learning frameworks use variants of mini-batch gradient descent, often with additional optimizations such as adaptive learning rates or momentum terms.\n"
   ]
  },
  {
   "cell_type": "markdown",
   "metadata": {},
   "source": [
    "By understanding these different types of gradient descent, you can make informed decisions about which to use in your linear regression models and beyond."
   ]
  },
  {
   "cell_type": "markdown",
   "metadata": {},
   "source": [
    "## <a id='toc3_'></a>[Implementing Gradient Descent for Linear Regression](#toc0_)"
   ]
  },
  {
   "cell_type": "markdown",
   "metadata": {},
   "source": [
    "In this section, we'll walk through the process of implementing gradient descent for linear regression. We'll use Python and NumPy to create a clear, efficient implementation.\n"
   ]
  },
  {
   "cell_type": "markdown",
   "metadata": {},
   "source": [
    "### <a id='toc3_1_'></a>[Setting Up the Environment](#toc0_)\n"
   ]
  },
  {
   "cell_type": "markdown",
   "metadata": {},
   "source": [
    "First, let's import the necessary libraries and set up our data.\n"
   ]
  },
  {
   "cell_type": "code",
   "execution_count": 1,
   "metadata": {},
   "outputs": [],
   "source": [
    "import numpy as np\n",
    "import matplotlib.pyplot as plt\n",
    "\n",
    "# Generate some sample data\n",
    "np.random.seed(0)\n",
    "X = 2 * np.random.rand(100, 1)\n",
    "y = 4 + 3 * X + np.random.randn(100, 1)\n",
    "\n",
    "# Add a column of ones to X for the intercept term\n",
    "X_b = np.c_[np.ones((100, 1)), X]"
   ]
  },
  {
   "cell_type": "markdown",
   "metadata": {},
   "source": [
    "### <a id='toc3_2_'></a>[Implementing Batch Gradient Descent](#toc0_)\n"
   ]
  },
  {
   "cell_type": "markdown",
   "metadata": {},
   "source": [
    "Let's start with batch gradient descent. We'll define functions for the cost and gradient calculations, then implement the main gradient descent algorithm.\n"
   ]
  },
  {
   "cell_type": "code",
   "execution_count": 2,
   "metadata": {},
   "outputs": [],
   "source": [
    "def compute_cost(X, y, beta):\n",
    "    n = len(y)\n",
    "    predictions = X.dot(beta)\n",
    "    cost = (1/(2*n)) * np.sum((predictions - y)**2)\n",
    "    return cost\n",
    "\n",
    "def compute_gradient(X, y, beta):\n",
    "    n = len(y)\n",
    "    predictions = X.dot(beta)\n",
    "    gradient = (1/n) * X.T.dot(predictions - y)\n",
    "    return gradient\n",
    "\n",
    "def batch_gradient_descent(X, y, learning_rate=0.01, num_iterations=1000):\n",
    "    n, m = X.shape\n",
    "    beta = np.random.randn(m, 1)\n",
    "    cost_history = []\n",
    "\n",
    "    for i in range(num_iterations):\n",
    "        gradient = compute_gradient(X, y, beta)\n",
    "        beta -= learning_rate * gradient\n",
    "        cost = compute_cost(X, y, beta)\n",
    "        cost_history.append(cost)\n",
    "\n",
    "    return beta, cost_history"
   ]
  },
  {
   "cell_type": "markdown",
   "metadata": {},
   "source": [
    "🔑 **Key Concept:** The core of gradient descent lies in the iterative update of beta using the computed gradient.\n"
   ]
  },
  {
   "cell_type": "markdown",
   "metadata": {},
   "source": [
    "### <a id='toc3_3_'></a>[Running the Algorithm](#toc0_)\n"
   ]
  },
  {
   "cell_type": "markdown",
   "metadata": {},
   "source": [
    "Now, let's run our gradient descent algorithm and visualize the results.\n"
   ]
  },
  {
   "cell_type": "code",
   "execution_count": 3,
   "metadata": {},
   "outputs": [
    {
     "name": "stdout",
     "output_type": "stream",
     "text": [
      "Estimated coefficients: [4.14146131 3.04006593]\n"
     ]
    }
   ],
   "source": [
    "beta, cost_history = batch_gradient_descent(X_b, y)\n",
    "\n",
    "print(\"Estimated coefficients:\", beta.flatten())"
   ]
  },
  {
   "cell_type": "code",
   "execution_count": 4,
   "metadata": {},
   "outputs": [
    {
     "data": {
      "image/png": "[encoded data removed]",
      "text/plain": [
       "<Figure size 640x480 with 1 Axes>"
      ]
     },
     "metadata": {},
     "output_type": "display_data"
    },
    {
     "data": {
      "image/png": "[encoded data removed]",
      "text/plain": [
       "<Figure size 640x480 with 1 Axes>"
      ]
     },
     "metadata": {},
     "output_type": "display_data"
    }
   ],
   "source": [
    "\n",
    "# Plotting the cost history\n",
    "plt.plot(range(1000), cost_history)\n",
    "plt.xlabel('Iterations')\n",
    "plt.ylabel('Cost')\n",
    "plt.title('Convergence of Gradient Descent')\n",
    "plt.show()\n",
    "\n",
    "# Plotting the regression line\n",
    "plt.scatter(X, y)\n",
    "plt.plot(X, X_b.dot(beta), color='red', linewidth=3)\n",
    "plt.xlabel('X')\n",
    "plt.ylabel('y')\n",
    "plt.title('Linear Regression with Gradient Descent')\n",
    "plt.show()"
   ]
  },
  {
   "cell_type": "markdown",
   "metadata": {},
   "source": [
    "### <a id='toc3_4_'></a>[Implementing Stochastic Gradient Descent](#toc0_)\n"
   ]
  },
  {
   "cell_type": "markdown",
   "metadata": {},
   "source": [
    "Now, let's implement stochastic gradient descent for comparison.\n"
   ]
  },
  {
   "cell_type": "code",
   "execution_count": 5,
   "metadata": {},
   "outputs": [],
   "source": [
    "def stochastic_gradient_descent(X, y, learning_rate=0.01, num_epochs=50):\n",
    "    n, m = X.shape\n",
    "    beta = np.random.randn(m, 1)\n",
    "    cost_history = []\n",
    "\n",
    "    for epoch in range(num_epochs):\n",
    "        for i in range(n):\n",
    "            random_index = np.random.randint(n)\n",
    "            xi = X[random_index:random_index+1]\n",
    "            yi = y[random_index:random_index+1]\n",
    "            gradient = compute_gradient(xi, yi, beta)\n",
    "            beta -= learning_rate * gradient\n",
    "\n",
    "        cost = compute_cost(X, y, beta)\n",
    "        cost_history.append(cost)\n",
    "\n",
    "    return beta, cost_history\n",
    "\n",
    "beta_sgd, cost_history_sgd = stochastic_gradient_descent(X_b, y)"
   ]
  },
  {
   "cell_type": "markdown",
   "metadata": {},
   "source": [
    "💡 **Pro Tip:** In practice, it's often beneficial to use a decreasing learning rate schedule with SGD to ensure convergence.\n"
   ]
  },
  {
   "cell_type": "markdown",
   "metadata": {},
   "source": [
    "### <a id='toc3_5_'></a>[Comparing the Results](#toc0_)\n"
   ]
  },
  {
   "cell_type": "markdown",
   "metadata": {},
   "source": [
    "Let's compare the results of batch and stochastic gradient descent.\n"
   ]
  },
  {
   "cell_type": "code",
   "execution_count": 6,
   "metadata": {},
   "outputs": [
    {
     "name": "stdout",
     "output_type": "stream",
     "text": [
      "Batch GD coefficients: [4.14146131 3.04006593]\n",
      "SGD coefficients: [4.20600422 3.05135835]\n"
     ]
    }
   ],
   "source": [
    "print(\"Batch GD coefficients:\", beta.flatten())\n",
    "print(\"SGD coefficients:\", beta_sgd.flatten())"
   ]
  },
  {
   "cell_type": "code",
   "execution_count": 7,
   "metadata": {},
   "outputs": [
    {
     "data": {
      "image/png": "[encoded data removed]",
      "text/plain": [
       "<Figure size 640x480 with 1 Axes>"
      ]
     },
     "metadata": {},
     "output_type": "display_data"
    }
   ],
   "source": [
    "plt.plot(range(1000), cost_history, label='Batch GD')\n",
    "plt.plot(range(50), cost_history_sgd, label='SGD')\n",
    "plt.xlabel('Iterations/Epochs')\n",
    "plt.ylabel('Cost')\n",
    "plt.title('Convergence: Batch GD vs SGD')\n",
    "plt.legend()\n",
    "plt.show()"
   ]
  },
  {
   "cell_type": "markdown",
   "metadata": {},
   "source": [
    "Finally, we can implement mini-batch gradient descent by combining the best of both worlds. This approach is often the most practical for real-world machine learning problems."
   ]
  },
  {
   "cell_type": "code",
   "execution_count": 8,
   "metadata": {},
   "outputs": [],
   "source": [
    "def mini_batch_gradient_descent(X, y, learning_rate=0.01, num_epoch=1000, batch_size=20):\n",
    "    n, m = X.shape\n",
    "    beta = np.random.randn(m, 1)\n",
    "    cost_history = []\n",
    "\n",
    "    for _ in range(num_epoch):\n",
    "        shuffled_indices = np.random.permutation(n)\n",
    "        X_shuffled = X[shuffled_indices]\n",
    "        y_shuffled = y[shuffled_indices]\n",
    "\n",
    "        for i in range(0, n, batch_size):\n",
    "            xi = X_shuffled[i:i+batch_size]\n",
    "            yi = y_shuffled[i:i+batch_size]\n",
    "            gradient = compute_gradient(xi, yi, beta)\n",
    "            beta -= learning_rate * gradient\n",
    "\n",
    "        cost = compute_cost(X, y, beta)\n",
    "        cost_history.append(cost)\n",
    "\n",
    "    return beta, cost_history"
   ]
  },
  {
   "cell_type": "markdown",
   "metadata": {},
   "source": [
    "You can use this implementation with `batch_size=1` for pure stochastic gradient descent or set `batch_size` to a larger value for mini-batch gradient descent. If you set `batch_size` to the number of training examples, it becomes equivalent to batch gradient descent. Now let's test the implementation with different batch sizes and learning rates to see how they affect the convergence behavior."
   ]
  },
  {
   "cell_type": "code",
   "execution_count": 9,
   "metadata": {},
   "outputs": [
    {
     "data": {
      "image/png": "[encoded data removed]",
      "text/plain": [
       "<Figure size 640x480 with 1 Axes>"
      ]
     },
     "metadata": {},
     "output_type": "display_data"
    }
   ],
   "source": [
    "for batch_size in [1, 20, 50, 100]:\n",
    "    beta_mbgd, cost_history_mbgd = mini_batch_gradient_descent(X_b, y, batch_size=batch_size, num_epoch=300)\n",
    "    plt.plot(range(300), cost_history_mbgd, label=f'MBGD: Batch Size {batch_size}')\n",
    "    plt.legend()"
   ]
  },
  {
   "cell_type": "markdown",
   "metadata": {},
   "source": [
    "The use of **\"epoch\"** instead of \"iteration\" for a full round through the dataset is a convention in machine learning that helps distinguish between different levels of granularity in the training process. Here's why:\n",
    "\n",
    "1. Clarity and Precision:\n",
    "   - An \"epoch\" refers specifically to one complete pass through the entire dataset.\n",
    "   - An \"iteration\" is more general and could refer to any single update step, which might not involve the entire dataset.\n",
    "\n",
    "2. Batch vs. Full Dataset:\n",
    "   - In mini-batch gradient descent, each mini-batch processing is an \"iteration\".\n",
    "   - An \"epoch\" comprises multiple iterations to cover the full dataset.\n",
    "\n",
    "3. Standardization:\n",
    "   - Using \"epoch\" provides a standard way to measure and compare training progress across different models and datasets, regardless of batch size.\n",
    "\n",
    "4. Hyperparameter Tuning:\n",
    "   - \"Epochs\" are often used as a hyperparameter, making it easier to set and adjust the total amount of training.\n",
    "\n",
    "5. Learning Dynamics:\n",
    "   - Many learning phenomena (like learning rate schedules) are often described in terms of epochs rather than individual iterations.\n",
    "\n",
    "6. Historical Context:\n",
    "   - The term \"epoch\" has been used in neural network literature since at least the 1960s, becoming a standard term in the field.\n",
    "\n",
    "Example:\n",
    "If you have 1000 samples and a batch size of 100:\n",
    "- Each processing of a 100-sample batch is an \"iteration\".\n",
    "- It takes 10 iterations to complete one \"epoch\".\n",
    "\n",
    "Using \"epoch\" allows us to talk about the training process at a higher level, focusing on complete passes through the data rather than individual update steps. This is particularly useful when discussing model convergence, overfitting, and other training dynamics that typically manifest over multiple passes through the dataset."
   ]
  },
  {
   "cell_type": "markdown",
   "metadata": {},
   "source": [
    "### <a id='toc3_6_'></a>[Practical Considerations](#toc0_)\n"
   ]
  },
  {
   "cell_type": "markdown",
   "metadata": {},
   "source": [
    "When implementing gradient descent, keep these points in mind:\n",
    "\n",
    "1. **Feature Scaling**: Normalize your features to ensure they're on similar scales. This can significantly speed up convergence.\n",
    "\n",
    "2. **Learning Rate**: Choose an appropriate learning rate. Too small, and convergence will be slow; too large, and you might overshoot the minimum.\n",
    "\n",
    "3. **Convergence Criteria**: In practice, you might want to stop when the change in cost falls below a certain threshold, rather than running for a fixed number of iterations.\n",
    "\n",
    "4. **Regularization**: Consider adding regularization to prevent overfitting, especially for high-dimensional data.\n"
   ]
  },
  {
   "cell_type": "markdown",
   "metadata": {},
   "source": [
    "⚠️ **Important Note:** While we've implemented gradient descent from scratch for educational purposes, in practice, you'd typically use optimized libraries like scikit-learn or TensorFlow for better performance and additional features.\n"
   ]
  },
  {
   "cell_type": "markdown",
   "metadata": {},
   "source": [
    "By implementing gradient descent yourself, you gain a deeper understanding of how the algorithm works, which is invaluable when working with more complex models and optimization techniques in the future."
   ]
  },
  {
   "cell_type": "markdown",
   "metadata": {},
   "source": [
    "## <a id='toc4_'></a>[Summary and Key Takeaways](#toc0_)"
   ]
  },
  {
   "cell_type": "markdown",
   "metadata": {},
   "source": [
    "In this lecture, we've explored gradient descent as a powerful optimization technique for linear regression. Let's recap the main points and highlight some key takeaways:\n",
    "\n",
    "1. **Gradient Descent Fundamentals**: We learned that gradient descent is an iterative optimization algorithm used to minimize the cost function in linear regression.\n",
    "\n",
    "2. **Mathematical Foundation**: We explored the mathematical basis of gradient descent, including the cost function derived from maximum likelihood estimation, partial derivatives, and the update rule.\n",
    "\n",
    "3. **Types of Gradient Descent**: We discussed three main variants:\n",
    "   - Batch Gradient Descent\n",
    "   - Stochastic Gradient Descent (SGD)\n",
    "   - Mini-Batch Gradient Descent\n",
    "\n",
    "4. **Implementation**: We implemented gradient descent for linear regression using Python and NumPy, demonstrating both batch and stochastic approaches.\n"
   ]
  },
  {
   "cell_type": "markdown",
   "metadata": {},
   "source": [
    "Understanding gradient descent opens the door to more advanced topics in machine learning:\n",
    "- Regularization techniques (L1, L2) can be easily incorporated into the gradient descent framework.\n",
    "- The concepts learned here extend to multivariate regression and classification problems.\n",
    "- Many deep learning techniques build upon the fundamental ideas of gradient descent.\n"
   ]
  },
  {
   "cell_type": "markdown",
   "metadata": {},
   "source": [
    "Mastering gradient descent not only helps in implementing linear regression but also provides a solid foundation for understanding more complex optimization problems in machine learning and artificial intelligence.\n"
   ]
  },
  {
   "cell_type": "markdown",
   "metadata": {},
   "source": [
    "By grasping the concepts covered in this lecture, you're well-equipped to tackle more advanced machine learning algorithms and optimization techniques. Remember, practice and experimentation are key to fully internalizing these concepts and applying them effectively in real-world scenarios."
   ]
  }
 ],
 "metadata": {
  "kernelspec": {
   "display_name": "py310",
   "language": "python",
   "name": "python3"
  },
  "language_info": {
   "codemirror_mode": {
    "name": "ipython",
    "version": 3
   },
   "file_extension": ".py",
   "mimetype": "text/x-python",
   "name": "python",
   "nbconvert_exporter": "python",
   "pygments_lexer": "ipython3",
   "version": "3.10.12"
  }
 },
 "nbformat": 4,
 "nbformat_minor": 2
}
