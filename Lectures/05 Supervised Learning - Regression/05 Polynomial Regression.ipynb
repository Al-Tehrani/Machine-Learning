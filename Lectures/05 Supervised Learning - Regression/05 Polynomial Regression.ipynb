{
 "cells": [
  {
   "cell_type": "markdown",
   "metadata": {},
   "source": [
    "<img src=\"./images/banner.png\" width=\"800\">"
   ]
  },
  {
   "cell_type": "markdown",
   "metadata": {},
   "source": [
    "# Polynomial Regression and Overfitting"
   ]
  },
  {
   "cell_type": "markdown",
   "metadata": {},
   "source": [
    "Polynomial regression is a powerful extension of linear regression that allows us to model non-linear relationships between variables. By understanding polynomial regression, we can capture more complex patterns in our data and gain insights into the limitations of linear models.\n"
   ]
  },
  {
   "cell_type": "markdown",
   "metadata": {},
   "source": [
    "Linear regression assumes a linear relationship between the independent variable(s) and the dependent variable. However, real-world data often exhibits non-linear patterns that simple linear models can't adequately capture.\n"
   ]
  },
  {
   "cell_type": "markdown",
   "metadata": {},
   "source": [
    "🔑 **Key Concept:** Polynomial regression allows us to fit a non-linear curve to our data while still using the framework of linear regression.\n"
   ]
  },
  {
   "cell_type": "markdown",
   "metadata": {},
   "source": [
    "Consider a dataset where the relationship between x and y is clearly non-linear:\n"
   ]
  },
  {
   "cell_type": "code",
   "execution_count": 7,
   "metadata": {},
   "outputs": [
    {
     "data": {
      "image/png": "[encoded data removed]",
      "text/plain": [
       "<Figure size 640x480 with 1 Axes>"
      ]
     },
     "metadata": {},
     "output_type": "display_data"
    }
   ],
   "source": [
    "import numpy as np\n",
    "import matplotlib.pyplot as plt\n",
    "\n",
    "np.random.seed(0)\n",
    "X = np.linspace(0, 10, 100).reshape(-1, 1)\n",
    "y = 0.3 * X**2 + X + 2 + np.random.randn(100, 1) * 3\n",
    "\n",
    "plt.scatter(X, y)\n",
    "plt.title(\"Non-linear Relationship\")\n",
    "plt.xlabel(\"X\")\n",
    "plt.ylabel(\"y\")\n",
    "plt.show()"
   ]
  },
  {
   "cell_type": "markdown",
   "metadata": {},
   "source": [
    "A straight line would poorly fit this data, but a polynomial curve could capture the underlying pattern much better.\n"
   ]
  },
  {
   "cell_type": "markdown",
   "metadata": {},
   "source": [
    "**Polynomial regression** introduces higher-order terms of the independent variable(s) into the regression equation. The general form of a polynomial regression model is:\n",
    "\n",
    "$$ y = \\beta_0 + \\beta_1x + \\beta_2x^2 + \\beta_3x^3 + ... + \\beta_nx^n + \\epsilon $$\n",
    "\n",
    "Where:\n",
    "- $y$ is the dependent variable\n",
    "- $x$ is the independent variable\n",
    "- $\\beta_0, \\beta_1, ..., \\beta_n$ are the coefficients to be estimated\n",
    "- $n$ is the degree of the polynomial\n",
    "- $\\epsilon$ is the error term\n"
   ]
  },
  {
   "cell_type": "markdown",
   "metadata": {},
   "source": [
    "<img src=\"./images/polynomial.png\" width=\"800\">"
   ]
  },
  {
   "cell_type": "markdown",
   "metadata": {},
   "source": [
    "<img src=\"./images/polynomial-2.png\" width=\"800\">"
   ]
  },
  {
   "cell_type": "markdown",
   "metadata": {},
   "source": [
    "💡 **Pro Tip:** Despite its non-linear appearance, polynomial regression is still considered a form of multiple linear regression. The \"linear\" refers to the linearity in parameters ($\\beta$), not the relationship between x and y.\n"
   ]
  },
  {
   "cell_type": "markdown",
   "metadata": {},
   "source": [
    "Polynomial regression offers several advantages over linear regression. Here are a few key benefits:\n",
    "\n",
    "1. **Flexibility:** Can model a wide range of non-linear relationships.\n",
    "2. **Interpretability:** The coefficients still have clear interpretations related to the curve's shape.\n",
    "3. **Simplicity:** Uses the same estimation techniques as linear regression (e.g., ordinary least squares).\n"
   ]
  },
  {
   "cell_type": "markdown",
   "metadata": {},
   "source": [
    "While polynomial regression offers greater flexibility, it comes with risks:\n",
    "1. **Overfitting:** Higher-degree polynomials can fit the noise in the data, leading to poor generalization.\n",
    "2. **Extrapolation Issues:** Polynomial models can behave erratically outside the range of the training data.\n",
    "3. **Multicollinearity:** Higher-order terms can be highly correlated, potentially causing instability in coefficient estimates.\n"
   ]
  },
  {
   "cell_type": "markdown",
   "metadata": {},
   "source": [
    "Selecting the appropriate polynomial degree is crucial. Too low, and the model won't capture the true relationship; too high, and it may overfit.\n"
   ]
  },
  {
   "cell_type": "markdown",
   "metadata": {},
   "source": [
    "🤔 **Why This Matters:** Understanding when and how to use polynomial regression is crucial for data scientists. It bridges the gap between simple linear models and more complex non-linear techniques.\n"
   ]
  },
  {
   "cell_type": "markdown",
   "metadata": {},
   "source": [
    "In the following sections, we'll explore how to implement polynomial regression, analyze its behavior with different degrees, and understand the critical concept of overfitting. This will set the stage for our later discussions on regularization techniques to combat overfitting in both linear and polynomial models."
   ]
  },
  {
   "cell_type": "markdown",
   "metadata": {},
   "source": [
    "**Table of contents**<a id='toc0_'></a>    \n",
    "- [Implementing Polynomial Regression](#toc1_)    \n",
    "  - [Understanding Polynomial Regression](#toc1_1_)    \n",
    "  - [The Linear Nature of Polynomial Regression](#toc1_2_)    \n",
    "  - [Advantages and Limitations](#toc1_3_)    \n",
    "- [Implementing Polynomial Regression](#toc2_)    \n",
    "  - [Feature Transformation](#toc2_1_)    \n",
    "  - [Fitting Polynomial Models](#toc2_2_)    \n",
    "  - [Interpreting the Results](#toc2_3_)    \n",
    "  - [Practical Considerations](#toc2_4_)    \n",
    "- [Overfitting in Polynomial Regression](#toc3_)    \n",
    "  - [How Overfitting Manifests in Polynomial Regression](#toc3_1_)    \n",
    "  - [Symptoms of Overfitting](#toc3_2_)    \n",
    "  - [Demonstrating Overfitting with Examples](#toc3_3_)    \n",
    "  - [Practical Implications](#toc3_4_)    \n",
    "- [Practical Considerations and Best Practices](#toc4_)    \n",
    "  - [Choosing the Right Polynomial Degree](#toc4_1_)    \n",
    "  - [Feature Scaling](#toc4_2_)    \n",
    "  - [Interpreting Polynomial Regression Results](#toc4_3_)    \n",
    "  - [Extrapolation Caution](#toc4_4_)    \n",
    "  - [Computational Considerations](#toc4_5_)    \n",
    "  - [Summary of Best Practices](#toc4_6_)    \n",
    "- [Summary and Bridge to Regularization](#toc5_)    \n",
    "\n",
    "<!-- vscode-jupyter-toc-config\n",
    "\tnumbering=false\n",
    "\tanchor=true\n",
    "\tflat=false\n",
    "\tminLevel=2\n",
    "\tmaxLevel=6\n",
    "\t/vscode-jupyter-toc-config -->\n",
    "<!-- THIS CELL WILL BE REPLACED ON TOC UPDATE. DO NOT WRITE YOUR TEXT IN THIS CELL -->"
   ]
  },
  {
   "cell_type": "markdown",
   "metadata": {},
   "source": [
    "## <a id='toc1_'></a>[Implementing Polynomial Regression](#toc0_)"
   ]
  },
  {
   "cell_type": "markdown",
   "metadata": {},
   "source": [
    "### <a id='toc1_1_'></a>[Understanding Polynomial Regression](#toc0_)\n"
   ]
  },
  {
   "cell_type": "markdown",
   "metadata": {},
   "source": [
    "Polynomial regression is a form of regression analysis that models the relationship between the independent variable x and the dependent variable y as an nth degree polynomial. It's a powerful technique that allows us to capture non-linear relationships in our data while still leveraging the simplicity and interpretability of linear regression.\n"
   ]
  },
  {
   "cell_type": "markdown",
   "metadata": {},
   "source": [
    "🔑 **Key Concept:** Polynomial regression is not a non-linear learning process. Instead, it's a linear model applied to non-linear features.\n"
   ]
  },
  {
   "cell_type": "markdown",
   "metadata": {},
   "source": [
    "The general form of a polynomial regression model is:\n",
    "\n",
    "$$ y = \\beta_0 + \\beta_1x + \\beta_2x^2 + \\beta_3x^3 + ... + \\beta_nx^n + \\epsilon $$\n",
    "\n",
    "Where:\n",
    "- $y$ is the dependent variable\n",
    "- $x$ is the independent variable\n",
    "- $\\beta_0, \\beta_1, ..., \\beta_n$ are the coefficients to be estimated\n",
    "- $n$ is the degree of the polynomial\n",
    "- $\\epsilon$ is the error term\n"
   ]
  },
  {
   "cell_type": "markdown",
   "metadata": {},
   "source": [
    "### <a id='toc1_2_'></a>[The Linear Nature of Polynomial Regression](#toc0_)\n"
   ]
  },
  {
   "cell_type": "markdown",
   "metadata": {},
   "source": [
    "Despite its ability to model non-linear relationships, polynomial regression is still a linear model in terms of its parameters. Here's why:\n",
    "\n",
    "1. **Feature Transformation:** We transform the original feature x into new features: x, x², x³, etc. This is a non-linear transformation of the input space.\n",
    "\n",
    "2. **Linear Combination:** The model then uses a linear combination of these transformed features. The relationship is linear with respect to the parameters (β values), not the original input variable.\n",
    "\n",
    "3. **Learning Process:** The learning process (e.g., ordinary least squares) remains linear. We're still finding the best linear combination of our (transformed) features.\n"
   ]
  },
  {
   "cell_type": "markdown",
   "metadata": {},
   "source": [
    "This distinction is crucial because it means we can use all the tools and techniques of linear regression after we've transformed our features.\n"
   ]
  },
  {
   "cell_type": "markdown",
   "metadata": {},
   "source": [
    "### <a id='toc1_3_'></a>[Advantages and Limitations](#toc0_)\n"
   ]
  },
  {
   "cell_type": "markdown",
   "metadata": {},
   "source": [
    "Advantages:\n",
    "- Can model complex, non-linear relationships\n",
    "- Uses simple and well-understood linear regression techniques\n",
    "- Provides a smooth curve that can be used for interpolation\n",
    "\n",
    "Limitations:\n",
    "- Sensitive to outliers\n",
    "- Can easily overfit with high-degree polynomials\n",
    "- May perform poorly when extrapolating beyond the range of the training data\n"
   ]
  },
  {
   "cell_type": "markdown",
   "metadata": {},
   "source": [
    "> **Important Note:** Choosing the right polynomial degree is crucial. Too low, and the model won't capture the true relationship; too high, and it may overfit the data.\n"
   ]
  },
  {
   "cell_type": "markdown",
   "metadata": {},
   "source": [
    "Now that we understand the concept of polynomial regression, let's implement it from scratch using Python and NumPy.\n"
   ]
  },
  {
   "cell_type": "markdown",
   "metadata": {},
   "source": [
    "## <a id='toc2_'></a>[Implementing Polynomial Regression](#toc0_)"
   ]
  },
  {
   "cell_type": "markdown",
   "metadata": {},
   "source": [
    "Implementing polynomial regression from scratch helps us understand the underlying mechanics of the algorithm. We'll use Python and NumPy to create our own implementation, focusing on the key steps of feature transformation and model fitting.\n"
   ]
  },
  {
   "cell_type": "markdown",
   "metadata": {},
   "source": [
    "### <a id='toc2_1_'></a>[Feature Transformation](#toc0_)\n"
   ]
  },
  {
   "cell_type": "markdown",
   "metadata": {},
   "source": [
    "The first step in polynomial regression is to transform our original features into polynomial features. We'll create a function to generate these features:\n"
   ]
  },
  {
   "cell_type": "code",
   "execution_count": 16,
   "metadata": {},
   "outputs": [],
   "source": [
    "import numpy as np\n",
    "\n",
    "def create_polynomial_features(X, degree):\n",
    "    \"\"\"\n",
    "    Create polynomial features up to the specified degree.\n",
    "\n",
    "    Args:\n",
    "    X (np.array): Input features, shape (n_samples, 1)\n",
    "    degree (int): Degree of the polynomial\n",
    "\n",
    "    Returns:\n",
    "    np.array: Polynomial features, shape (n_samples, degree)\n",
    "    \"\"\"\n",
    "    n_samples = X.shape[0]\n",
    "    X_poly = np.zeros((n_samples, degree))\n",
    "\n",
    "    for i in range(1, degree + 1):\n",
    "        X_poly[:, i-1] = X[:, 0] ** i\n",
    "\n",
    "    return X_poly"
   ]
  },
  {
   "cell_type": "code",
   "execution_count": 17,
   "metadata": {},
   "outputs": [],
   "source": [
    "# Example usage\n",
    "X = np.array([1, 2, 3, 4, 5]).reshape(-1, 1)\n",
    "X_poly = create_polynomial_features(X, degree=3)"
   ]
  },
  {
   "cell_type": "code",
   "execution_count": 18,
   "metadata": {},
   "outputs": [
    {
     "name": "stdout",
     "output_type": "stream",
     "text": [
      "Original X:\n",
      " [[1]\n",
      " [2]\n",
      " [3]\n",
      " [4]\n",
      " [5]]\n",
      "Polynomial X (degree 3):\n",
      " [[  1.   1.   1.]\n",
      " [  2.   4.   8.]\n",
      " [  3.   9.  27.]\n",
      " [  4.  16.  64.]\n",
      " [  5.  25. 125.]]\n"
     ]
    }
   ],
   "source": [
    "print(\"Original X:\\n\", X)\n",
    "print(\"Polynomial X (degree 3):\\n\", X_poly)"
   ]
  },
  {
   "cell_type": "markdown",
   "metadata": {},
   "source": [
    "🔑 **Key Concept:** This transformation allows us to use linear regression techniques to fit non-linear functions.\n"
   ]
  },
  {
   "cell_type": "markdown",
   "metadata": {},
   "source": [
    "### <a id='toc2_2_'></a>[Fitting Polynomial Models](#toc0_)\n"
   ]
  },
  {
   "cell_type": "markdown",
   "metadata": {},
   "source": [
    "Now that we can create polynomial features, let's implement the polynomial regression model:\n"
   ]
  },
  {
   "cell_type": "code",
   "execution_count": 19,
   "metadata": {},
   "outputs": [],
   "source": [
    "import numpy as np\n",
    "import matplotlib.pyplot as plt"
   ]
  },
  {
   "cell_type": "code",
   "execution_count": 22,
   "metadata": {},
   "outputs": [],
   "source": [
    "def fit_polynomial_regression(X, y, degree):\n",
    "    \"\"\"\n",
    "    Fit a polynomial regression model.\n",
    "\n",
    "    Args:\n",
    "    X (np.array): Input features, shape (n_samples, 1)\n",
    "    y (np.array): Target values, shape (n_samples, 1)\n",
    "    degree (int): Degree of the polynomial\n",
    "\n",
    "    Returns:\n",
    "    np.array: Fitted coefficients, shape (degree + 1, 1)\n",
    "    \"\"\"\n",
    "    X_poly = create_polynomial_features(X, degree)\n",
    "    X_poly = np.c_[np.ones((X_poly.shape[0], 1)), X_poly]  # Add bias term\n",
    "    coeffs = np.linalg.inv(X_poly.T.dot(X_poly)).dot(X_poly.T).dot(y)\n",
    "    return coeffs"
   ]
  },
  {
   "cell_type": "code",
   "execution_count": 21,
   "metadata": {},
   "outputs": [],
   "source": [
    "def predict_polynomial(X, coeffs):\n",
    "    \"\"\"\n",
    "    Make predictions using the polynomial model.\n",
    "\n",
    "    Args:\n",
    "    X (np.array): Input features, shape (n_samples, 1)\n",
    "    coeffs (np.array): Model coefficients, shape (degree + 1, 1)\n",
    "\n",
    "    Returns:\n",
    "    np.array: Predictions, shape (n_samples, 1)\n",
    "    \"\"\"\n",
    "    degree = len(coeffs) - 1\n",
    "    X_poly = create_polynomial_features(X, degree)\n",
    "    X_poly = np.c_[np.ones((X_poly.shape[0], 1)), X_poly]\n",
    "    return X_poly.dot(coeffs)"
   ]
  },
  {
   "cell_type": "code",
   "execution_count": 23,
   "metadata": {},
   "outputs": [],
   "source": [
    "# Generate sample data\n",
    "np.random.seed(0)\n",
    "X = np.linspace(0, 10, 100).reshape(-1, 1)\n",
    "y = 0.5 * X**2 + X + 2 + np.random.randn(100, 1) * 3"
   ]
  },
  {
   "cell_type": "code",
   "execution_count": 24,
   "metadata": {},
   "outputs": [],
   "source": [
    "# Fit polynomial regression model\n",
    "degree = 2\n",
    "coeffs = fit_polynomial_regression(X, y, degree)"
   ]
  },
  {
   "cell_type": "code",
   "execution_count": 25,
   "metadata": {},
   "outputs": [],
   "source": [
    "# Generate predictions\n",
    "X_test = np.linspace(0, 10, 200).reshape(-1, 1)\n",
    "y_pred = predict_polynomial(X_test, coeffs)"
   ]
  },
  {
   "cell_type": "code",
   "execution_count": 26,
   "metadata": {},
   "outputs": [
    {
     "data": {
      "image/png": "[encoded data removed]",
      "text/plain": [
       "<Figure size 640x480 with 1 Axes>"
      ]
     },
     "metadata": {},
     "output_type": "display_data"
    }
   ],
   "source": [
    "# Plot results\n",
    "plt.scatter(X, y, color='blue', label='Data')\n",
    "plt.plot(X_test, y_pred, color='red', label=f'Polynomial Fit (degree {degree})')\n",
    "plt.legend()\n",
    "plt.title(f\"Polynomial Regression (Degree {degree})\")\n",
    "plt.xlabel(\"X\")\n",
    "plt.ylabel(\"y\")\n",
    "plt.show()"
   ]
  },
  {
   "cell_type": "code",
   "execution_count": 27,
   "metadata": {},
   "outputs": [
    {
     "name": "stdout",
     "output_type": "stream",
     "text": [
      "Estimated coefficients: [ 5.18925184 -0.64319752  0.65539995]\n"
     ]
    }
   ],
   "source": [
    "print(\"Estimated coefficients:\", coeffs.flatten())"
   ]
  },
  {
   "cell_type": "markdown",
   "metadata": {},
   "source": [
    "💡 **Pro Tip:** This implementation uses the normal equation to find the coefficients. For large datasets, consider using gradient descent instead to improve computational efficiency.\n"
   ]
  },
  {
   "cell_type": "markdown",
   "metadata": {},
   "source": [
    "### <a id='toc2_3_'></a>[Interpreting the Results](#toc0_)\n"
   ]
  },
  {
   "cell_type": "markdown",
   "metadata": {},
   "source": [
    "When interpreting polynomial regression results, consider:\n",
    "\n",
    "1. **Coefficient Interpretation:** In polynomial regression, coefficients represent the change in y for a one-unit change in x^n, holding other terms constant. The intercept (first coefficient) represents the expected value of y when all x terms are zero.\n",
    "\n",
    "2. **Model Complexity:** Higher-degree polynomials can capture more complex relationships but risk overfitting. Always balance complexity with generalization ability.\n",
    "\n",
    "3. **Visualizing the Fit:** Plotting the data and the fitted curve helps in understanding how well the model captures the underlying pattern.\n"
   ]
  },
  {
   "cell_type": "markdown",
   "metadata": {},
   "source": [
    "⚠️ **Important Note:** Be cautious about extrapolating polynomial models beyond the range of your training data, as they can behave erratically.\n"
   ]
  },
  {
   "cell_type": "markdown",
   "metadata": {},
   "source": [
    "### <a id='toc2_4_'></a>[Practical Considerations](#toc0_)\n"
   ]
  },
  {
   "cell_type": "markdown",
   "metadata": {},
   "source": [
    "1. **Numerical Stability:** High-degree polynomials can lead to numerical instability. Consider normalizing your input features to mitigate this issue.\n",
    "\n",
    "2. **Computational Complexity:** As the degree increases, so does the computational cost of fitting the model.\n",
    "\n",
    "3. **Overfitting:** Higher-degree polynomials are prone to overfitting. In the next sections, we'll explore how to detect and address this issue.\n"
   ]
  },
  {
   "cell_type": "markdown",
   "metadata": {},
   "source": [
    "🤔 **Why This Matters:** Implementing polynomial regression from scratch deepens your understanding of how these models work, making it easier to debug issues and adapt the technique to specific problems.\n"
   ]
  },
  {
   "cell_type": "markdown",
   "metadata": {},
   "source": [
    "## <a id='toc3_'></a>[Overfitting in Polynomial Regression](#toc0_)"
   ]
  },
  {
   "cell_type": "markdown",
   "metadata": {},
   "source": [
    "Overfitting is a critical concept in machine learning, and polynomial regression provides an excellent context for understanding this phenomenon. In this section, we'll explore what overfitting means, how it manifests in polynomial regression, and how to identify it.\n"
   ]
  },
  {
   "cell_type": "markdown",
   "metadata": {},
   "source": [
    "Overfitting occurs when a model learns the training data too well, capturing noise and peculiarities specific to the training set rather than the underlying pattern. This results in poor generalization to new, unseen data.\n"
   ]
  },
  {
   "cell_type": "markdown",
   "metadata": {},
   "source": [
    "<img src=\"./images/poly-overfit.jpg\" width=\"800\">"
   ]
  },
  {
   "cell_type": "markdown",
   "metadata": {},
   "source": [
    "🔑 **Key Concept:** An overfit model performs well on training data but poorly on test data or new observations.\n"
   ]
  },
  {
   "cell_type": "markdown",
   "metadata": {},
   "source": [
    "### <a id='toc3_1_'></a>[How Overfitting Manifests in Polynomial Regression](#toc0_)\n"
   ]
  },
  {
   "cell_type": "markdown",
   "metadata": {},
   "source": [
    "In polynomial regression, overfitting typically occurs when we use a polynomial of too high a degree. Let's visualize this with an example:\n"
   ]
  },
  {
   "cell_type": "code",
   "execution_count": 37,
   "metadata": {},
   "outputs": [],
   "source": [
    "import numpy as np\n",
    "import matplotlib.pyplot as plt"
   ]
  },
  {
   "cell_type": "code",
   "execution_count": 38,
   "metadata": {},
   "outputs": [],
   "source": [
    "# Generate sample data\n",
    "np.random.seed(0)\n",
    "X = np.linspace(0, 1, 20).reshape(-1, 1)\n",
    "y = np.sin(2 * np.pi * X) + np.random.normal(0, 0.1, (20, 1))"
   ]
  },
  {
   "cell_type": "code",
   "execution_count": 39,
   "metadata": {},
   "outputs": [],
   "source": [
    "# Function to fit polynomial regression\n",
    "def fit_polynomial(X, y, degree):\n",
    "    X_poly = np.polynomial.polynomial.polyvander(X.flatten(), degree)\n",
    "    coeffs = np.linalg.inv(X_poly.T @ X_poly) @ X_poly.T @ y\n",
    "    return coeffs"
   ]
  },
  {
   "cell_type": "code",
   "execution_count": 40,
   "metadata": {},
   "outputs": [],
   "source": [
    "# Function to make predictions\n",
    "def predict_polynomial(X, coeffs):\n",
    "    X_poly = np.polynomial.polynomial.polyvander(X.flatten(), len(coeffs)-1)\n",
    "    return X_poly @ coeffs"
   ]
  },
  {
   "cell_type": "code",
   "execution_count": 41,
   "metadata": {},
   "outputs": [],
   "source": [
    "# Fit polynomials of different degrees\n",
    "degrees = [1, 3, 20]\n",
    "X_test = np.linspace(0, 1, 100).reshape(-1, 1)"
   ]
  },
  {
   "cell_type": "code",
   "execution_count": 42,
   "metadata": {},
   "outputs": [
    {
     "data": {
      "image/png": "[encoded data removed]",
      "text/plain": [
       "<Figure size 1500x500 with 3 Axes>"
      ]
     },
     "metadata": {},
     "output_type": "display_data"
    }
   ],
   "source": [
    "plt.figure(figsize=(15, 5))\n",
    "for i, degree in enumerate(degrees):\n",
    "    coeffs = fit_polynomial(X, y, degree)\n",
    "    y_pred = predict_polynomial(X_test, coeffs)\n",
    "\n",
    "    plt.subplot(1, 3, i+1)\n",
    "    plt.scatter(X, y, color='blue', label='Data')\n",
    "    plt.plot(X_test, y_pred, color='red', label=f'Degree {degree}')\n",
    "    plt.title(f'Polynomial Regression (Degree {degree})')\n",
    "    plt.xlabel('X')\n",
    "    plt.ylabel('y')\n",
    "    plt.legend()\n",
    "\n",
    "plt.tight_layout()\n",
    "plt.show()"
   ]
  },
  {
   "cell_type": "markdown",
   "metadata": {},
   "source": [
    "In this example, we can observe:\n",
    "1. The linear model (degree 1) underfits, failing to capture the non-linear pattern.\n",
    "2. The degree 3 polynomial provides a reasonable fit.\n",
    "3. The degree 10 polynomial overfits, capturing noise in the data and creating an unrealistic, wiggly function.\n"
   ]
  },
  {
   "cell_type": "markdown",
   "metadata": {},
   "source": [
    "### <a id='toc3_2_'></a>[Symptoms of Overfitting](#toc0_)\n"
   ]
  },
  {
   "cell_type": "markdown",
   "metadata": {},
   "source": [
    "1. **High Variance:** The model is extremely sensitive to small fluctuations in the training data.\n",
    "2. **Poor Generalization:** Performance on training data is significantly better than on test data.\n",
    "3. **Complex Model:** The fitted function is unnecessarily complex, with many turns and wiggles.\n",
    "4. **Counterintuitive Predictions:** The model may make unreasonable predictions, especially when extrapolating.\n"
   ]
  },
  {
   "cell_type": "markdown",
   "metadata": {},
   "source": [
    "### <a id='toc3_3_'></a>[Demonstrating Overfitting with Examples](#toc0_)\n"
   ]
  },
  {
   "cell_type": "markdown",
   "metadata": {},
   "source": [
    "Let's quantify overfitting by comparing training and test errors:\n"
   ]
  },
  {
   "cell_type": "code",
   "execution_count": 49,
   "metadata": {},
   "outputs": [],
   "source": [
    "from sklearn.model_selection import train_test_split\n",
    "from sklearn.metrics import mean_squared_error"
   ]
  },
  {
   "cell_type": "code",
   "execution_count": 50,
   "metadata": {},
   "outputs": [],
   "source": [
    "# Split data into train and test sets\n",
    "X_train, X_test, y_train, y_test = train_test_split(X, y, test_size=0.3, random_state=42)"
   ]
  },
  {
   "cell_type": "code",
   "execution_count": 51,
   "metadata": {},
   "outputs": [],
   "source": [
    "# Function to compute MSE\n",
    "def compute_mse(X, y, coeffs):\n",
    "    y_pred = predict_polynomial(X, coeffs)\n",
    "    return mean_squared_error(y, y_pred)"
   ]
  },
  {
   "cell_type": "code",
   "execution_count": 58,
   "metadata": {},
   "outputs": [],
   "source": [
    "# Compute train and test errors for different degrees\n",
    "degrees = range(1, 15)\n",
    "train_errors = []\n",
    "test_errors = []\n",
    "\n",
    "for degree in degrees:\n",
    "    coeffs = fit_polynomial(X_train, y_train, degree)\n",
    "    train_errors.append(compute_mse(X_train, y_train, coeffs))\n",
    "    test_errors.append(compute_mse(X_test, y_test, coeffs))"
   ]
  },
  {
   "cell_type": "code",
   "execution_count": 59,
   "metadata": {},
   "outputs": [
    {
     "data": {
      "image/png": "[encoded data removed]",
      "text/plain": [
       "<Figure size 1000x600 with 1 Axes>"
      ]
     },
     "metadata": {},
     "output_type": "display_data"
    }
   ],
   "source": [
    "# Plot train vs test errors\n",
    "plt.figure(figsize=(10, 6))\n",
    "plt.plot(degrees, train_errors, label='Train MSE')\n",
    "plt.plot(degrees, test_errors, label='Test MSE')\n",
    "plt.xlabel('Polynomial Degree')\n",
    "plt.ylabel('Mean Squared Error')\n",
    "plt.title('Train vs Test Error for Different Polynomial Degrees')\n",
    "plt.legend()\n",
    "plt.show()"
   ]
  },
  {
   "cell_type": "markdown",
   "metadata": {},
   "source": [
    "This plot illustrates:\n",
    "1. As the degree increases, training error consistently decreases.\n",
    "2. Test error initially decreases but then starts to increase.\n",
    "3. The gap between training and test error widens with higher degrees, indicating overfitting.\n"
   ]
  },
  {
   "cell_type": "markdown",
   "metadata": {},
   "source": [
    "> **Important Note:** The degree at which test error starts to increase can be considered the point where the model begins to overfit.\n"
   ]
  },
  {
   "cell_type": "markdown",
   "metadata": {},
   "source": [
    "### <a id='toc3_4_'></a>[Practical Implications](#toc0_)\n"
   ]
  },
  {
   "cell_type": "markdown",
   "metadata": {},
   "source": [
    "Understanding overfitting in polynomial regression is crucial because:\n",
    "1. It helps in selecting the appropriate model complexity.\n",
    "2. It illustrates the importance of using separate training and test sets.\n",
    "3. It motivates the need for regularization techniques (which we'll cover in the next lecture).\n"
   ]
  },
  {
   "cell_type": "markdown",
   "metadata": {},
   "source": [
    "🤔 **Why This Matters:** Recognizing and addressing overfitting is essential for building models that generalize well to new data, which is the ultimate goal in most machine learning applications.\n"
   ]
  },
  {
   "cell_type": "markdown",
   "metadata": {},
   "source": [
    "In the next lecture, we'll dive deeper into the bias-variance tradeoff and introduce regularization techniques to combat overfitting while maintaining model flexibility."
   ]
  },
  {
   "cell_type": "markdown",
   "metadata": {},
   "source": [
    "## <a id='toc4_'></a>[Practical Considerations and Best Practices](#toc0_)"
   ]
  },
  {
   "cell_type": "markdown",
   "metadata": {},
   "source": [
    "When working with polynomial regression, several practical considerations and best practices can help you build more effective and reliable models. Here are some key points to keep in mind:\n"
   ]
  },
  {
   "cell_type": "markdown",
   "metadata": {},
   "source": [
    "### <a id='toc4_1_'></a>[Choosing the Right Polynomial Degree](#toc0_)\n"
   ]
  },
  {
   "cell_type": "markdown",
   "metadata": {},
   "source": [
    "Selecting an appropriate degree for your polynomial model is crucial:\n",
    "\n",
    "1. **Start Simple:** Begin with lower-degree polynomials and gradually increase complexity.\n",
    "2. **Use Cross-Validation:** Employ techniques like k-fold cross-validation to assess model performance across different polynomial degrees.\n",
    "3. **Watch for Overfitting:** Be cautious of high-degree polynomials that may fit noise in the data.\n"
   ]
  },
  {
   "cell_type": "markdown",
   "metadata": {},
   "source": [
    "🔑 **Key Concept:** The goal is to find the simplest model that adequately captures the underlying pattern in your data.\n"
   ]
  },
  {
   "cell_type": "markdown",
   "metadata": {},
   "source": [
    "### <a id='toc4_2_'></a>[Feature Scaling](#toc0_)\n"
   ]
  },
  {
   "cell_type": "markdown",
   "metadata": {},
   "source": [
    "Polynomial features can quickly lead to large value ranges:\n"
   ]
  },
  {
   "cell_type": "code",
   "execution_count": 60,
   "metadata": {},
   "outputs": [
    {
     "name": "stdout",
     "output_type": "stream",
     "text": [
      "Original X: [1 2 3 4 5]\n",
      "Polynomial features:\n",
      " [[  1   1   1]\n",
      " [  2   4   8]\n",
      " [  3   9  27]\n",
      " [  4  16  64]\n",
      " [  5  25 125]]\n"
     ]
    }
   ],
   "source": [
    "import numpy as np\n",
    "\n",
    "X = np.array([1, 2, 3, 4, 5])\n",
    "X_poly = np.column_stack([X, X**2, X**3])\n",
    "print(\"Original X:\", X)\n",
    "print(\"Polynomial features:\\n\", X_poly)"
   ]
  },
  {
   "cell_type": "markdown",
   "metadata": {},
   "source": [
    "To address this:\n",
    "\n",
    "1. **Normalize Features:** Scale your input features before creating polynomial terms.\n",
    "2. **Use Mean Normalization or Min-Max Scaling:** These techniques can help bring all features to a similar scale.\n"
   ]
  },
  {
   "cell_type": "markdown",
   "metadata": {},
   "source": [
    "💡 **Pro Tip:** Proper scaling can improve numerical stability and help optimization algorithms converge faster.\n",
    "\n",
    "### <a id='toc4_3_'></a>[Interpreting Polynomial Regression Results](#toc0_)\n"
   ]
  },
  {
   "cell_type": "markdown",
   "metadata": {},
   "source": [
    "Interpreting polynomial models can be more challenging than linear models:\n",
    "\n",
    "1. **Coefficient Interpretation:** Be cautious when interpreting individual coefficients, as they interact in complex ways.\n",
    "2. **Visualize:** Whenever possible, plot your data and the fitted polynomial to gain intuition about the relationship.\n",
    "3. **Focus on Trends:** Look at overall trends rather than specific point predictions, especially when extrapolating.\n"
   ]
  },
  {
   "cell_type": "markdown",
   "metadata": {},
   "source": [
    "### <a id='toc4_4_'></a>[Extrapolation Caution](#toc0_)\n"
   ]
  },
  {
   "cell_type": "markdown",
   "metadata": {},
   "source": [
    "Be extremely careful when using polynomial models to make predictions outside the range of your training data:\n"
   ]
  },
  {
   "cell_type": "markdown",
   "metadata": {},
   "source": [
    "⚠️ **Important Note:** Polynomial functions can behave erratically when extrapolating, potentially leading to unrealistic predictions.\n"
   ]
  },
  {
   "cell_type": "markdown",
   "metadata": {},
   "source": [
    "### <a id='toc4_5_'></a>[Computational Considerations](#toc0_)\n"
   ]
  },
  {
   "cell_type": "markdown",
   "metadata": {},
   "source": [
    "As the degree of the polynomial increases, so does the computational complexity:\n",
    "\n",
    "1. **Balance Complexity:** Higher-degree polynomials require more computation time and memory.\n",
    "2. **Consider Alternatives:** For very high-dimensional data, consider other non-linear modeling techniques that may be more efficient.\n"
   ]
  },
  {
   "cell_type": "markdown",
   "metadata": {},
   "source": [
    "### <a id='toc4_6_'></a>[Summary of Best Practices](#toc0_)\n"
   ]
  },
  {
   "cell_type": "markdown",
   "metadata": {},
   "source": [
    "1. Start with lower-degree polynomials and increase complexity gradually.\n",
    "2. Use cross-validation to select the optimal polynomial degree.\n",
    "3. Scale your features before fitting the model.\n",
    "4. Visualize your data and fitted model whenever possible.\n",
    "5. Be cautious when interpreting coefficients and making extrapolations.\n",
    "6. Handle outliers appropriately.\n",
    "7. Consider computational resources when working with high-degree polynomials.\n"
   ]
  },
  {
   "cell_type": "markdown",
   "metadata": {},
   "source": [
    "By following these practical considerations and best practices, you can more effectively apply polynomial regression to your data, avoiding common pitfalls and producing more reliable models."
   ]
  },
  {
   "cell_type": "markdown",
   "metadata": {},
   "source": [
    "## <a id='toc5_'></a>[Summary and Bridge to Regularization](#toc0_)"
   ]
  },
  {
   "cell_type": "markdown",
   "metadata": {},
   "source": [
    "As we conclude our exploration of polynomial regression and overfitting, let's recap the key concepts we've covered and look ahead to the next important topic: regularization. Here's a brief summary of what we've learned:\n",
    "\n",
    "1. **Polynomial Regression:**\n",
    "   - Extends linear regression to capture non-linear relationships\n",
    "   - Uses transformed features (x, x², x³, etc.) in a linear model\n",
    "   - Offers flexibility in modeling complex patterns\n",
    "\n",
    "2. **Implementation:**\n",
    "   - Involves feature transformation and standard linear regression techniques\n",
    "   - Can be implemented using numpy for both feature creation and model fitting\n",
    "\n",
    "3. **Overfitting:**\n",
    "   - Occurs when a model learns noise in the training data\n",
    "   - Often happens with high-degree polynomials\n",
    "   - Results in poor generalization to new data\n",
    "\n",
    "4. **Model Evaluation:**\n",
    "   - Importance of splitting data into training and test sets\n",
    "   - Using metrics like MSE to compare performance on training and test data\n",
    "\n",
    "5. **Practical Considerations:**\n",
    "   - Choosing an appropriate polynomial degree\n",
    "   - Scaling features to improve numerical stability\n",
    "   - Cautious interpretation of results, especially for extrapolation\n"
   ]
  },
  {
   "cell_type": "markdown",
   "metadata": {},
   "source": [
    "🔑 **Key Takeaway:** While polynomial regression is a powerful tool for modeling non-linear relationships, it comes with the risk of overfitting, especially as the degree of the polynomial increases.\n"
   ]
  },
  {
   "cell_type": "markdown",
   "metadata": {},
   "source": [
    "As we've seen, there's often a tradeoff between model complexity and generalization:\n",
    "\n",
    "- Simple models (low-degree polynomials) might underfit the data\n",
    "- Complex models (high-degree polynomials) risk overfitting\n"
   ]
  },
  {
   "cell_type": "markdown",
   "metadata": {},
   "source": [
    "This brings us to an important question: How can we create models that are flexible enough to capture complex patterns but still generalize well to new data? Finding this balance is crucial for creating models that are both accurate and reliable in real-world applications. Regularization techniques offer a solution to this challenge. They allow us to control model complexity and prevent overfitting without necessarily reducing the degree of the polynomial.\n"
   ]
  },
  {
   "cell_type": "markdown",
   "metadata": {},
   "source": [
    "Key points about regularization:\n",
    "\n",
    "1. **Purpose:** To penalize overly complex models\n",
    "2. **Mechanism:** Adds a penalty term to the cost function based on the model's coefficients\n",
    "3. **Types:** Common forms include Ridge Regression (L2) and Lasso Regression (L1)\n"
   ]
  },
  {
   "cell_type": "markdown",
   "metadata": {},
   "source": [
    "💡 **Pro Tip:** Regularization can be thought of as a way to incorporate our preference for simpler models into the learning process.\n"
   ]
  },
  {
   "cell_type": "markdown",
   "metadata": {},
   "source": [
    "In the next lecture, we'll dive deep into regularization techniques:\n",
    "\n",
    "- Understanding the bias-variance tradeoff\n",
    "- Implementing Ridge and Lasso regression\n",
    "- Selecting optimal regularization parameters\n",
    "- Applying regularization to polynomial regression models\n"
   ]
  },
  {
   "cell_type": "markdown",
   "metadata": {},
   "source": [
    "By mastering these techniques, you'll be able to create more robust and generalizable models, not just for polynomial regression, but for a wide range of machine learning applications.\n"
   ]
  },
  {
   "cell_type": "markdown",
   "metadata": {},
   "source": [
    "> **Important Note:** Regularization is a fundamental concept in machine learning that extends far beyond polynomial regression. The principles you'll learn are applicable to many other modeling techniques.\n"
   ]
  },
  {
   "cell_type": "markdown",
   "metadata": {},
   "source": [
    "As we move forward, keep in mind that the goal is not just to fit the data perfectly, but to create models that capture true underlying patterns and perform well on new, unseen data. Regularization will be our key tool in achieving this balance."
   ]
  }
 ],
 "metadata": {
  "kernelspec": {
   "display_name": "py310",
   "language": "python",
   "name": "python3"
  },
  "language_info": {
   "codemirror_mode": {
    "name": "ipython",
    "version": 3
   },
   "file_extension": ".py",
   "mimetype": "text/x-python",
   "name": "python",
   "nbconvert_exporter": "python",
   "pygments_lexer": "ipython3",
   "version": "3.10.12"
  }
 },
 "nbformat": 4,
 "nbformat_minor": 2
}
