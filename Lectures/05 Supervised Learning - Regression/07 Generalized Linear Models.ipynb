{
 "cells": [
  {
   "cell_type": "markdown",
   "metadata": {},
   "source": [
    "<img src=\"./images/banner.png\" width=\"800\">"
   ]
  },
  {
   "cell_type": "markdown",
   "metadata": {},
   "source": [
    "# Generalized Linear Models (GLMs)"
   ]
  },
  {
   "cell_type": "markdown",
   "metadata": {},
   "source": [
    "Generalized Linear Models (GLMs) represent a flexible generalization of ordinary linear regression that allows for response variables that have error distribution models other than a normal distribution. GLMs extend the linear model framework to encompass a wider range of analysis scenarios, making them a powerful tool in a data scientist's toolkit.\n"
   ]
  },
  {
   "cell_type": "markdown",
   "metadata": {},
   "source": [
    "GLMs are a unifying framework that includes linear regression, logistic regression, and many other statistical models as special cases. They provide a systematic way to handle various types of response variables (continuous, binary, counts) within a single coherent framework.\n"
   ]
  },
  {
   "cell_type": "markdown",
   "metadata": {},
   "source": [
    "GLMs extend ordinary linear regression by allowing:\n",
    "1. The response variable to follow any distribution from the exponential family.\n",
    "2. A linear model to be related to the response variable via a link function.\n"
   ]
  },
  {
   "cell_type": "markdown",
   "metadata": {},
   "source": [
    "GLMs were introduced by John Nelder and Robert Wedderburn in 1972. Their work unified various statistical models, including linear regression, logistic regression, and Poisson regression under a single framework. This unification greatly simplified the theoretical understanding and practical application of these models.\n"
   ]
  },
  {
   "cell_type": "markdown",
   "metadata": {},
   "source": [
    "GLMs offer several advantages over traditional linear models:\n",
    "\n",
    "1. **Flexibility**: They can handle response variables with non-normal distributions.\n",
    "2. **Unified Framework**: Many common statistical models can be expressed as GLMs.\n",
    "3. **Interpretability**: They maintain the interpretability of linear models.\n",
    "4. **Handling Non-linearity**: Through the link function, GLMs can model non-linear relationships.\n"
   ]
  },
  {
   "cell_type": "markdown",
   "metadata": {},
   "source": [
    "Understanding GLMs provides a solid foundation for tackling a wide range of statistical modeling problems, from simple linear regression to complex non-linear relationships.\n"
   ]
  },
  {
   "cell_type": "markdown",
   "metadata": {},
   "source": [
    "A GLM consists of three main components:\n",
    "\n",
    "1. **Random Component**: Specifies the probability distribution of the response variable.\n",
    "2. **Systematic Component**: Specifies the linear predictor (a linear combination of predictors).\n",
    "3. **Link Function**: Specifies how the mean of the response relates to the linear predictor.\n"
   ]
  },
  {
   "cell_type": "markdown",
   "metadata": {},
   "source": [
    "We'll explore each of these components in detail in the following sections.\n"
   ]
  },
  {
   "cell_type": "markdown",
   "metadata": {},
   "source": [
    "GLMs find applications in various fields:\n",
    "\n",
    "- **Economics**: Modeling count data (e.g., number of purchases)\n",
    "- **Epidemiology**: Analyzing disease incidence rates\n",
    "- **Ecology**: Studying species abundance\n",
    "- **Marketing**: Predicting customer behavior\n",
    "- **Finance**: Risk assessment and credit scoring\n"
   ]
  },
  {
   "cell_type": "markdown",
   "metadata": {},
   "source": [
    "🤔 **Why This Matters:** GLMs provide a versatile approach to modeling various types of data, allowing researchers and analysts to tackle a wide range of real-world problems within a consistent statistical framework.\n"
   ]
  },
  {
   "cell_type": "markdown",
   "metadata": {},
   "source": [
    "It's important to understand how GLMs relate to other models you might be familiar with:\n",
    "\n",
    "- **Linear Regression**: A special case of GLM with normal distribution and identity link function.\n",
    "- **Logistic Regression**: A GLM with binomial distribution and logit link function.\n",
    "- **Poisson Regression**: A GLM with Poisson distribution and log link function.\n"
   ]
  },
  {
   "cell_type": "markdown",
   "metadata": {},
   "source": [
    "> **Important Note:** While GLMs are powerful, they still make certain assumptions (e.g., independence of observations) that should be verified for valid inference.\n"
   ]
  },
  {
   "cell_type": "markdown",
   "metadata": {},
   "source": [
    "In the following sections, we'll delve deeper into the mathematical foundations of GLMs, explore common types of GLMs for regression, and learn how to implement and interpret these models in practice."
   ]
  },
  {
   "cell_type": "markdown",
   "metadata": {},
   "source": [
    "**Table of contents**<a id='toc0_'></a>    \n",
    "- [Components of Generalized Linear Models](#toc1_)    \n",
    "  - [Random Component](#toc1_1_)    \n",
    "  - [Systematic Component](#toc1_2_)    \n",
    "  - [Link Function](#toc1_3_)    \n",
    "  - [Putting It All Together](#toc1_4_)    \n",
    "  - [Example: Poisson Regression](#toc1_5_)    \n",
    "  - [Advantages of This Structure](#toc1_6_)    \n",
    "- [The Exponential Family of Distributions](#toc2_)    \n",
    "  - [Common Distributions in the Exponential Family](#toc2_1_)    \n",
    "  - [Properties of the Exponential Family](#toc2_2_)    \n",
    "  - [Importance in GLMs](#toc2_3_)    \n",
    "  - [Example: Poisson Distribution](#toc2_4_)    \n",
    "- [Link Functions and Their Role](#toc3_)    \n",
    "  - [Common Link Functions](#toc3_1_)    \n",
    "  - [Canonical Link Functions](#toc3_2_)    \n",
    "  - [Role of Link Functions in GLMs](#toc3_3_)    \n",
    "  - [Choosing a Link Function](#toc3_4_)    \n",
    "  - [Example: Poisson Regression](#toc3_5_)    \n",
    "- [Implementing GLMs in Python](#toc4_)    \n",
    "  - [Fitting a Poisson GLM](#toc4_1_)    \n",
    "  - [Example: Gamma GLM for Continuous Positive Data](#toc4_2_)    \n",
    "  - [Key Points to Remember](#toc4_3_)    \n",
    "- [Summary and Key Takeaways](#toc5_)    \n",
    "\n",
    "<!-- vscode-jupyter-toc-config\n",
    "\tnumbering=false\n",
    "\tanchor=true\n",
    "\tflat=false\n",
    "\tminLevel=2\n",
    "\tmaxLevel=6\n",
    "\t/vscode-jupyter-toc-config -->\n",
    "<!-- THIS CELL WILL BE REPLACED ON TOC UPDATE. DO NOT WRITE YOUR TEXT IN THIS CELL -->"
   ]
  },
  {
   "cell_type": "markdown",
   "metadata": {},
   "source": [
    "## <a id='toc1_'></a>[Components of Generalized Linear Models](#toc0_)"
   ]
  },
  {
   "cell_type": "markdown",
   "metadata": {},
   "source": [
    "Generalized Linear Models consist of three essential components that work together to provide a flexible framework for modeling various types of data. Understanding these components is crucial for effectively applying GLMs to real-world problems.\n"
   ]
  },
  {
   "cell_type": "markdown",
   "metadata": {},
   "source": [
    "These components are:\n",
    "1. **Random Component**: Specifies the probability distribution of the response variable (Y).\n",
    "2. **Systematic Component**: Defines the linear predictor, which is a combination of the predictor variables (X).\n",
    "3. **Link Function**: Connects the random and systematic components by relating the expected value of the response variable to the linear predictor.\n"
   ]
  },
  {
   "cell_type": "markdown",
   "metadata": {},
   "source": [
    "In the following sections, we will explore each of these components in detail, providing examples and key concepts to help you understand their roles and applications in GLMs.\n"
   ]
  },
  {
   "cell_type": "markdown",
   "metadata": {},
   "source": [
    "### <a id='toc1_1_'></a>[Random Component](#toc0_)\n"
   ]
  },
  {
   "cell_type": "markdown",
   "metadata": {},
   "source": [
    "The random component specifies the probability distribution of the response variable (Y) in a GLM. It determines the type of data that can be modeled using the GLM framework.\n",
    "- It belongs to the exponential family of distributions.\n",
    "- Common distributions include Normal, Binomial, Poisson, Gamma, and Inverse Gaussian.\n"
   ]
  },
  {
   "cell_type": "markdown",
   "metadata": {},
   "source": [
    "The choice of distribution depends on the nature of your response variable. For example:\n",
    "- Continuous data: Normal or Gamma distribution\n",
    "- Count data: Poisson distribution\n",
    "- Binary data: Binomial distribution\n"
   ]
  },
  {
   "cell_type": "markdown",
   "metadata": {},
   "source": [
    "### <a id='toc1_2_'></a>[Systematic Component](#toc0_)\n"
   ]
  },
  {
   "cell_type": "markdown",
   "metadata": {},
   "source": [
    "The systematic component, also known as the linear predictor, specifies how the predictors (X) combine to produce the predicted values. It is a linear function of the predictor variables and their coefficients:\n",
    "\n",
    "$$ \\eta = X\\beta $$\n",
    "\n",
    "Where:\n",
    "- $\\eta$ is the linear predictor\n",
    "- $X$ is the matrix of predictor variables\n",
    "- $\\beta$ is the vector of regression coefficients\n"
   ]
  },
  {
   "cell_type": "markdown",
   "metadata": {},
   "source": [
    "💡 **Pro Tip:** The systematic component is similar to the right-hand side of a linear regression equation, allowing for straightforward interpretation of coefficients.\n"
   ]
  },
  {
   "cell_type": "markdown",
   "metadata": {},
   "source": [
    "### <a id='toc1_3_'></a>[Link Function](#toc0_)\n"
   ]
  },
  {
   "cell_type": "markdown",
   "metadata": {},
   "source": [
    "The link function (g) connects the random and systematic components by relating the expected value of the response variable to the linear predictor. It transforms the mean of the response variable to ensure that it is related to the linear predictor in a specific way. The relationship can be expressed as:\n",
    "\n",
    "$$ g(E(Y)) = \\eta = X\\beta $$\n",
    "\n",
    "Where:\n",
    "- $g()$ is the link function\n",
    "- $E(Y)$ is the expected value of the response variable\n"
   ]
  },
  {
   "cell_type": "markdown",
   "metadata": {},
   "source": [
    "Common link functions include:\n",
    "1. **Identity**: $g(\\mu) = \\mu$ (used in linear regression)\n",
    "2. **Log**: $g(\\mu) = \\log(\\mu)$ (used in Poisson regression)\n",
    "3. **Logit**: $g(\\mu) = \\log(\\frac{\\mu}{1-\\mu})$ (used in logistic regression)\n",
    "4. **Inverse**: $g(\\mu) = \\frac{1}{\\mu}$ (used in some GLMs for continuous data)\n"
   ]
  },
  {
   "cell_type": "markdown",
   "metadata": {},
   "source": [
    "🤔 **Why This Matters:** The link function allows GLMs to model non-linear relationships between predictors and the response variable while maintaining the linear structure of the model.\n"
   ]
  },
  {
   "cell_type": "markdown",
   "metadata": {},
   "source": [
    "### <a id='toc1_4_'></a>[Putting It All Together](#toc0_)\n"
   ]
  },
  {
   "cell_type": "markdown",
   "metadata": {},
   "source": [
    "The general form of a GLM can be expressed as:\n",
    "\n",
    "$$ g(E(Y)) = X\\beta $$\n"
   ]
  },
  {
   "cell_type": "markdown",
   "metadata": {},
   "source": [
    "Or, in terms of the response variable:\n",
    "\n",
    "$$ E(Y) = g^{-1}(X\\beta) $$\n",
    "\n",
    "Where $g^{-1}()$ is the inverse of the link function.\n"
   ]
  },
  {
   "cell_type": "markdown",
   "metadata": {},
   "source": [
    "### <a id='toc1_5_'></a>[Example: Poisson Regression](#toc0_)\n"
   ]
  },
  {
   "cell_type": "markdown",
   "metadata": {},
   "source": [
    "Let's consider a Poisson regression model as an example:\n",
    "\n",
    "1. **Random Component**: Y follows a Poisson distribution\n",
    "2. **Systematic Component**: $\\eta = \\beta_0 + \\beta_1X_1 + \\beta_2X_2 + ... + \\beta_pX_p$\n",
    "3. **Link Function**: Log link, $g(\\mu) = \\log(\\mu)$\n"
   ]
  },
  {
   "cell_type": "markdown",
   "metadata": {},
   "source": [
    "The model can be written as:\n",
    "\n",
    "$$ \\log(E(Y)) = \\beta_0 + \\beta_1X_1 + \\beta_2X_2 + ... + \\beta_pX_p $$\n"
   ]
  },
  {
   "cell_type": "markdown",
   "metadata": {},
   "source": [
    "> **Important Note:** The choice of distribution and link function should be based on the nature of your data and the research question. Inappropriate choices can lead to poor model fit and incorrect inferences.\n"
   ]
  },
  {
   "cell_type": "markdown",
   "metadata": {},
   "source": [
    "### <a id='toc1_6_'></a>[Advantages of This Structure](#toc0_)\n"
   ]
  },
  {
   "cell_type": "markdown",
   "metadata": {},
   "source": [
    "1. **Flexibility**: Can model various types of response variables.\n",
    "2. **Unified Approach**: Provides a consistent framework for many statistical models.\n",
    "3. **Interpretability**: Maintains the interpretability of coefficients (with appropriate link functions).\n",
    "4. **Extendability**: Easily extended to handle more complex data structures.\n"
   ]
  },
  {
   "cell_type": "markdown",
   "metadata": {},
   "source": [
    "By understanding these components and how they interact, you'll be better equipped to choose appropriate GLMs for your data and interpret their results accurately. In the next sections, we'll explore specific types of GLMs and how to implement them in practice."
   ]
  },
  {
   "cell_type": "markdown",
   "metadata": {},
   "source": [
    "## <a id='toc2_'></a>[The Exponential Family of Distributions](#toc0_)"
   ]
  },
  {
   "cell_type": "markdown",
   "metadata": {},
   "source": [
    "The exponential family of distributions plays a central role in Generalized Linear Models. This family encompasses a wide range of probability distributions, providing the flexibility needed to model various types of data.\n"
   ]
  },
  {
   "cell_type": "markdown",
   "metadata": {},
   "source": [
    "A probability distribution is a member of the exponential family if its probability density function (or probability mass function for discrete distributions) can be expressed in the following form:\n",
    "\n",
    "$$ f(y; \\theta, \\phi) = \\exp\\left(\\frac{y\\theta - b(\\theta)}{a(\\phi)} + c(y, \\phi)\\right) $$\n",
    "\n",
    "Where:\n",
    "- $y$ is the observed data\n",
    "- $\\theta$ is the natural (or canonical) parameter\n",
    "- $\\phi$ is the dispersion parameter\n",
    "- $a(\\phi)$, $b(\\theta)$, and $c(y, \\phi)$ are known functions\n"
   ]
  },
  {
   "cell_type": "markdown",
   "metadata": {},
   "source": [
    "Key components of the exponential family include:\n",
    "1. **Natural Parameter ($\\theta$)**: Relates to the mean of the distribution.\n",
    "2. **Dispersion Parameter ($\\phi$)**: Controls the variance of the distribution.\n",
    "3. **Functions $a(\\phi)$, $b(\\theta)$, and $c(y, \\phi)$**: Determine the specific form of the distribution.\n"
   ]
  },
  {
   "cell_type": "markdown",
   "metadata": {},
   "source": [
    "### <a id='toc2_1_'></a>[Common Distributions in the Exponential Family](#toc0_)\n"
   ]
  },
  {
   "cell_type": "markdown",
   "metadata": {},
   "source": [
    "1. **Normal (Gaussian) Distribution**\n",
    "   - Used for continuous data\n",
    "   - $\\theta = \\mu$, $\\phi = \\sigma^2$\n",
    "\n",
    "2. **Binomial Distribution**\n",
    "   - Used for binary data or proportions\n",
    "   - $\\theta = \\log(\\frac{p}{1-p})$, where $p$ is the probability of success\n",
    "\n",
    "3. **Poisson Distribution**\n",
    "   - Used for count data\n",
    "   - $\\theta = \\log(\\lambda)$, where $\\lambda$ is the rate parameter\n",
    "\n",
    "4. **Gamma Distribution**\n",
    "   - Used for positive continuous data, often for modeling variances\n",
    "   - $\\theta = -\\frac{1}{\\mu}$\n",
    "\n",
    "5. **Inverse Gaussian Distribution**\n",
    "   - Used for positive continuous data with a right-skewed distribution\n",
    "   - $\\theta = -\\frac{1}{2\\mu^2}$\n"
   ]
  },
  {
   "cell_type": "markdown",
   "metadata": {},
   "source": [
    "### <a id='toc2_2_'></a>[Properties of the Exponential Family](#toc0_)\n"
   ]
  },
  {
   "cell_type": "markdown",
   "metadata": {},
   "source": [
    "1. **Mean and Variance**: For distributions in this family, the mean and variance can be derived from the functions $b(\\theta)$ and $a(\\phi)$:\n",
    "   - $E(Y) = b'(\\theta)$\n",
    "   - $Var(Y) = b''(\\theta)a(\\phi)$\n",
    "\n",
    "2. **Sufficiency**: The statistic $\\sum y_i$ is sufficient for $\\theta$.\n",
    "\n",
    "3. **Maximum Likelihood Estimation**: The maximum likelihood estimates for these distributions have consistent properties.\n"
   ]
  },
  {
   "cell_type": "markdown",
   "metadata": {},
   "source": [
    "### <a id='toc2_3_'></a>[Importance in GLMs](#toc0_)\n"
   ]
  },
  {
   "cell_type": "markdown",
   "metadata": {},
   "source": [
    "The exponential family is crucial for GLMs because:\n",
    "\n",
    "1. It provides a unified framework for handling various types of response variables.\n",
    "2. The properties of these distributions simplify the estimation process in GLMs.\n",
    "3. It allows for a consistent approach to inference across different types of data.\n"
   ]
  },
  {
   "cell_type": "markdown",
   "metadata": {},
   "source": [
    "### <a id='toc2_4_'></a>[Example: Poisson Distribution](#toc0_)\n"
   ]
  },
  {
   "cell_type": "markdown",
   "metadata": {},
   "source": [
    "The Poisson distribution, commonly used for count data, can be expressed in the exponential family form:\n",
    "\n",
    "$$ f(y; \\lambda) = \\exp(y\\log(\\lambda) - \\lambda - \\log(y!)) $$\n",
    "\n",
    "Here, $\\theta = \\log(\\lambda)$, $b(\\theta) = e^\\theta = \\lambda$, $a(\\phi) = 1$, and $c(y, \\phi) = -\\log(y!)$.\n"
   ]
  },
  {
   "cell_type": "markdown",
   "metadata": {},
   "source": [
    "Understanding the exponential family of distributions is key to grasping the flexibility and power of GLMs. It provides the mathematical foundation for extending linear models to a wide range of data types and research questions."
   ]
  },
  {
   "cell_type": "markdown",
   "metadata": {},
   "source": [
    "## <a id='toc3_'></a>[Link Functions and Their Role](#toc0_)"
   ]
  },
  {
   "cell_type": "markdown",
   "metadata": {},
   "source": [
    "Link functions are a crucial component of Generalized Linear Models, connecting the linear predictor to the expected value of the response variable. They allow GLMs to model non-linear relationships while maintaining the linear structure of the predictor.\n"
   ]
  },
  {
   "cell_type": "markdown",
   "metadata": {},
   "source": [
    "A link function, denoted as $g(\\mu)$, relates the expected value of the response variable $Y$ to the linear predictor $\\eta$:\n",
    "\n",
    "$$ g(E(Y)) = g(\\mu) = \\eta = X\\beta $$\n",
    "\n",
    "Where:\n",
    "- $E(Y) = \\mu$ is the expected value of the response variable\n",
    "- $X$ is the matrix of predictor variables\n",
    "- $\\beta$ is the vector of coefficients\n"
   ]
  },
  {
   "cell_type": "markdown",
   "metadata": {},
   "source": [
    "The inverse of the link function, $g^{-1}(\\eta)$, gives the expected value of $Y$:\n",
    "\n",
    "$$ E(Y) = \\mu = g^{-1}(\\eta) = g^{-1}(X\\beta) $$\n"
   ]
  },
  {
   "cell_type": "markdown",
   "metadata": {},
   "source": [
    "### <a id='toc3_1_'></a>[Common Link Functions](#toc0_)\n"
   ]
  },
  {
   "cell_type": "markdown",
   "metadata": {},
   "source": [
    "1. **Identity Link**: $g(\\mu) = \\mu$\n",
    "   - Used in linear regression\n",
    "   - Applicable when the response variable can take any real value\n",
    "\n",
    "2. **Log Link**: $g(\\mu) = \\log(\\mu)$\n",
    "   - Used in Poisson regression for count data\n",
    "   - Ensures that predicted values are always positive\n",
    "\n",
    "3. **Logit Link**: $g(\\mu) = \\log(\\frac{\\mu}{1-\\mu})$\n",
    "   - Used in logistic regression for binary data\n",
    "   - Maps probabilities to the entire real line\n",
    "\n",
    "4. **Inverse Link**: $g(\\mu) = \\frac{1}{\\mu}$\n",
    "   - Used in some GLMs for continuous data, such as Gamma regression\n",
    "\n",
    "5. **Probit Link**: $g(\\mu) = \\Phi^{-1}(\\mu)$\n",
    "   - Where $\\Phi^{-1}$ is the inverse of the standard normal cumulative distribution function\n",
    "   - Alternative to logit for binary data\n"
   ]
  },
  {
   "cell_type": "markdown",
   "metadata": {},
   "source": [
    "### <a id='toc3_2_'></a>[Canonical Link Functions](#toc0_)\n"
   ]
  },
  {
   "cell_type": "markdown",
   "metadata": {},
   "source": [
    "Each distribution in the exponential family has a canonical (or natural) link function. This is the function that transforms the mean to the natural parameter of the distribution. For example:\n",
    "\n",
    "- Normal distribution: Identity link\n",
    "- Binomial distribution: Logit link\n",
    "- Poisson distribution: Log link\n",
    "- Gamma distribution: Inverse link\n"
   ]
  },
  {
   "cell_type": "markdown",
   "metadata": {},
   "source": [
    "Using the canonical link often simplifies the mathematical properties of the model, but it's not always necessary or optimal.\n"
   ]
  },
  {
   "cell_type": "markdown",
   "metadata": {},
   "source": [
    "### <a id='toc3_3_'></a>[Role of Link Functions in GLMs](#toc0_)\n"
   ]
  },
  {
   "cell_type": "markdown",
   "metadata": {},
   "source": [
    "1. **Linearity**: Link functions allow the model to maintain a linear relationship between predictors and the transformed response, even when the actual relationship is non-linear.\n",
    "\n",
    "2. **Range Restriction**: They ensure that predictions fall within the appropriate range for the response variable (e.g., positive values for count data, probabilities between 0 and 1 for binary data).\n",
    "\n",
    "3. **Interpretability**: Proper choice of link function can lead to more interpretable models. For instance, the log link in Poisson regression allows coefficients to be interpreted as multiplicative effects on the response.\n",
    "\n",
    "4. **Flexibility**: Different link functions can be used with the same distribution, allowing for flexibility in modeling various relationships.\n"
   ]
  },
  {
   "cell_type": "markdown",
   "metadata": {},
   "source": [
    "### <a id='toc3_4_'></a>[Choosing a Link Function](#toc0_)\n"
   ]
  },
  {
   "cell_type": "markdown",
   "metadata": {},
   "source": [
    "The choice of link function should be based on:\n",
    "\n",
    "1. The nature of the response variable\n",
    "2. The assumed relationship between predictors and response\n",
    "3. Ease of interpretation\n",
    "4. Goodness of fit to the data\n"
   ]
  },
  {
   "cell_type": "markdown",
   "metadata": {},
   "source": [
    "It's often beneficial to try multiple link functions and compare their performance using model diagnostics and fit statistics.\n"
   ]
  },
  {
   "cell_type": "markdown",
   "metadata": {},
   "source": [
    "### <a id='toc3_5_'></a>[Example: Poisson Regression](#toc0_)\n"
   ]
  },
  {
   "cell_type": "markdown",
   "metadata": {},
   "source": [
    "In Poisson regression for count data, we typically use the log link:\n",
    "\n",
    "$$ \\log(E(Y)) = X\\beta $$\n"
   ]
  },
  {
   "cell_type": "markdown",
   "metadata": {},
   "source": [
    "This can be rewritten as:\n",
    "\n",
    "$$ E(Y) = \\exp(X\\beta) $$\n"
   ]
  },
  {
   "cell_type": "markdown",
   "metadata": {},
   "source": [
    "This formulation ensures that predicted counts are always non-negative and allows for multiplicative effects of predictors on the response.\n"
   ]
  },
  {
   "cell_type": "markdown",
   "metadata": {},
   "source": [
    "Understanding link functions is crucial for properly specifying and interpreting GLMs. They provide the flexibility to model a wide range of data types and relationships while maintaining the fundamental linear structure of the model."
   ]
  },
  {
   "cell_type": "markdown",
   "metadata": {},
   "source": [
    "## <a id='toc4_'></a>[Implementing GLMs in Python](#toc0_)"
   ]
  },
  {
   "cell_type": "markdown",
   "metadata": {},
   "source": [
    "In this section, we'll focus on implementing GLMs for regression tasks using Python. We'll use the statsmodels library, which provides a comprehensive set of tools for estimating various statistical models, including GLMs. We'll walk through an example of fitting a Poisson regression model to count data and interpreting the results.\n"
   ]
  },
  {
   "cell_type": "markdown",
   "metadata": {},
   "source": [
    "### <a id='toc4_1_'></a>[Fitting a Poisson GLM](#toc0_)\n"
   ]
  },
  {
   "cell_type": "markdown",
   "metadata": {},
   "source": [
    "First, let's import the necessary libraries:\n"
   ]
  },
  {
   "cell_type": "code",
   "execution_count": 1,
   "metadata": {},
   "outputs": [],
   "source": [
    "import numpy as np\n",
    "import pandas as pd\n",
    "import statsmodels.api as sm\n",
    "import matplotlib.pyplot as plt\n",
    "from scipy import stats"
   ]
  },
  {
   "cell_type": "markdown",
   "metadata": {},
   "source": [
    "For this example, we'll create a synthetic dataset to demonstrate a Poisson regression, which is useful for modeling count data:\n"
   ]
  },
  {
   "cell_type": "code",
   "execution_count": 3,
   "metadata": {},
   "outputs": [
    {
     "data": {
      "text/html": [
       "<div>\n",
       "<style scoped>\n",
       "    .dataframe tbody tr th:only-of-type {\n",
       "        vertical-align: middle;\n",
       "    }\n",
       "\n",
       "    .dataframe tbody tr th {\n",
       "        vertical-align: top;\n",
       "    }\n",
       "\n",
       "    .dataframe thead th {\n",
       "        text-align: right;\n",
       "    }\n",
       "</style>\n",
       "<table border=\"1\" class=\"dataframe\">\n",
       "  <thead>\n",
       "    <tr style=\"text-align: right;\">\n",
       "      <th></th>\n",
       "      <th>y</th>\n",
       "      <th>x1</th>\n",
       "      <th>x2</th>\n",
       "    </tr>\n",
       "  </thead>\n",
       "  <tbody>\n",
       "    <tr>\n",
       "      <th>0</th>\n",
       "      <td>4</td>\n",
       "      <td>1.764052</td>\n",
       "      <td>0.400157</td>\n",
       "    </tr>\n",
       "    <tr>\n",
       "      <th>1</th>\n",
       "      <td>1</td>\n",
       "      <td>0.978738</td>\n",
       "      <td>2.240893</td>\n",
       "    </tr>\n",
       "    <tr>\n",
       "      <th>2</th>\n",
       "      <td>11</td>\n",
       "      <td>1.867558</td>\n",
       "      <td>-0.977278</td>\n",
       "    </tr>\n",
       "    <tr>\n",
       "      <th>3</th>\n",
       "      <td>4</td>\n",
       "      <td>0.950088</td>\n",
       "      <td>-0.151357</td>\n",
       "    </tr>\n",
       "    <tr>\n",
       "      <th>4</th>\n",
       "      <td>2</td>\n",
       "      <td>-0.103219</td>\n",
       "      <td>0.410599</td>\n",
       "    </tr>\n",
       "    <tr>\n",
       "      <th>...</th>\n",
       "      <td>...</td>\n",
       "      <td>...</td>\n",
       "      <td>...</td>\n",
       "    </tr>\n",
       "    <tr>\n",
       "      <th>995</th>\n",
       "      <td>8</td>\n",
       "      <td>1.342622</td>\n",
       "      <td>-0.739936</td>\n",
       "    </tr>\n",
       "    <tr>\n",
       "      <th>996</th>\n",
       "      <td>4</td>\n",
       "      <td>1.315138</td>\n",
       "      <td>-0.323457</td>\n",
       "    </tr>\n",
       "    <tr>\n",
       "      <th>997</th>\n",
       "      <td>3</td>\n",
       "      <td>0.197828</td>\n",
       "      <td>0.097751</td>\n",
       "    </tr>\n",
       "    <tr>\n",
       "      <th>998</th>\n",
       "      <td>6</td>\n",
       "      <td>1.401523</td>\n",
       "      <td>0.158434</td>\n",
       "    </tr>\n",
       "    <tr>\n",
       "      <th>999</th>\n",
       "      <td>3</td>\n",
       "      <td>-1.141901</td>\n",
       "      <td>-1.310970</td>\n",
       "    </tr>\n",
       "  </tbody>\n",
       "</table>\n",
       "<p>1000 rows × 3 columns</p>\n",
       "</div>"
      ],
      "text/plain": [
       "      y        x1        x2\n",
       "0     4  1.764052  0.400157\n",
       "1     1  0.978738  2.240893\n",
       "2    11  1.867558 -0.977278\n",
       "3     4  0.950088 -0.151357\n",
       "4     2 -0.103219  0.410599\n",
       "..   ..       ...       ...\n",
       "995   8  1.342622 -0.739936\n",
       "996   4  1.315138 -0.323457\n",
       "997   3  0.197828  0.097751\n",
       "998   6  1.401523  0.158434\n",
       "999   3 -1.141901 -1.310970\n",
       "\n",
       "[1000 rows x 3 columns]"
      ]
     },
     "execution_count": 3,
     "metadata": {},
     "output_type": "execute_result"
    }
   ],
   "source": [
    "np.random.seed(0)\n",
    "n = 1000\n",
    "X = np.random.randn(n, 2)\n",
    "X = sm.add_constant(X)  # Add a constant term for the intercept\n",
    "beta = [1, 0.5, -0.5]\n",
    "lambda_ = np.exp(X.dot(beta))\n",
    "y = stats.poisson.rvs(lambda_)\n",
    "\n",
    "df = pd.DataFrame({'y': y, 'x1': X[:, 1], 'x2': X[:, 2]})\n",
    "df"
   ]
  },
  {
   "cell_type": "markdown",
   "metadata": {},
   "source": [
    "Now, let's fit a Poisson GLM to our data:\n"
   ]
  },
  {
   "cell_type": "code",
   "execution_count": 5,
   "metadata": {},
   "outputs": [
    {
     "data": {
      "text/html": [
       "<table class=\"simpletable\">\n",
       "<caption>Generalized Linear Model Regression Results</caption>\n",
       "<tr>\n",
       "  <th>Dep. Variable:</th>           <td>y</td>        <th>  No. Observations:  </th>  <td>  1000</td> \n",
       "</tr>\n",
       "<tr>\n",
       "  <th>Model:</th>                  <td>GLM</td>       <th>  Df Residuals:      </th>  <td>   997</td> \n",
       "</tr>\n",
       "<tr>\n",
       "  <th>Model Family:</th>         <td>Poisson</td>     <th>  Df Model:          </th>  <td>     2</td> \n",
       "</tr>\n",
       "<tr>\n",
       "  <th>Link Function:</th>          <td>Log</td>       <th>  Scale:             </th> <td>  1.0000</td>\n",
       "</tr>\n",
       "<tr>\n",
       "  <th>Method:</th>                <td>IRLS</td>       <th>  Log-Likelihood:    </th> <td> -1833.6</td>\n",
       "</tr>\n",
       "<tr>\n",
       "  <th>Date:</th>            <td>Mon, 02 Sep 2024</td> <th>  Deviance:          </th> <td>  1046.0</td>\n",
       "</tr>\n",
       "<tr>\n",
       "  <th>Time:</th>                <td>01:43:57</td>     <th>  Pearson chi2:      </th>  <td>  926.</td> \n",
       "</tr>\n",
       "<tr>\n",
       "  <th>No. Iterations:</th>          <td>5</td>        <th>  Pseudo R-squ. (CS):</th>  <td>0.7888</td> \n",
       "</tr>\n",
       "<tr>\n",
       "  <th>Covariance Type:</th>     <td>nonrobust</td>    <th>                     </th>     <td> </td>   \n",
       "</tr>\n",
       "</table>\n",
       "<table class=\"simpletable\">\n",
       "<tr>\n",
       "    <td></td>       <th>coef</th>     <th>std err</th>      <th>z</th>      <th>P>|z|</th>  <th>[0.025</th>    <th>0.975]</th>  \n",
       "</tr>\n",
       "<tr>\n",
       "  <th>const</th> <td>    0.9857</td> <td>    0.021</td> <td>   47.463</td> <td> 0.000</td> <td>    0.945</td> <td>    1.026</td>\n",
       "</tr>\n",
       "<tr>\n",
       "  <th>x1</th>    <td>    0.4714</td> <td>    0.017</td> <td>   27.034</td> <td> 0.000</td> <td>    0.437</td> <td>    0.506</td>\n",
       "</tr>\n",
       "<tr>\n",
       "  <th>x2</th>    <td>   -0.5034</td> <td>    0.018</td> <td>  -28.477</td> <td> 0.000</td> <td>   -0.538</td> <td>   -0.469</td>\n",
       "</tr>\n",
       "</table>"
      ],
      "text/latex": [
       "\\begin{center}\n",
       "\\begin{tabular}{lclc}\n",
       "\\toprule\n",
       "\\textbf{Dep. Variable:}   &        y         & \\textbf{  No. Observations:  } &     1000    \\\\\n",
       "\\textbf{Model:}           &       GLM        & \\textbf{  Df Residuals:      } &      997    \\\\\n",
       "\\textbf{Model Family:}    &     Poisson      & \\textbf{  Df Model:          } &        2    \\\\\n",
       "\\textbf{Link Function:}   &       Log        & \\textbf{  Scale:             } &    1.0000   \\\\\n",
       "\\textbf{Method:}          &       IRLS       & \\textbf{  Log-Likelihood:    } &   -1833.6   \\\\\n",
       "\\textbf{Date:}            & Mon, 02 Sep 2024 & \\textbf{  Deviance:          } &    1046.0   \\\\\n",
       "\\textbf{Time:}            &     01:43:57     & \\textbf{  Pearson chi2:      } &     926.    \\\\\n",
       "\\textbf{No. Iterations:}  &        5         & \\textbf{  Pseudo R-squ. (CS):} &   0.7888    \\\\\n",
       "\\textbf{Covariance Type:} &    nonrobust     & \\textbf{                     } &             \\\\\n",
       "\\bottomrule\n",
       "\\end{tabular}\n",
       "\\begin{tabular}{lcccccc}\n",
       "               & \\textbf{coef} & \\textbf{std err} & \\textbf{z} & \\textbf{P$> |$z$|$} & \\textbf{[0.025} & \\textbf{0.975]}  \\\\\n",
       "\\midrule\n",
       "\\textbf{const} &       0.9857  &        0.021     &    47.463  &         0.000        &        0.945    &        1.026     \\\\\n",
       "\\textbf{x1}    &       0.4714  &        0.017     &    27.034  &         0.000        &        0.437    &        0.506     \\\\\n",
       "\\textbf{x2}    &      -0.5034  &        0.018     &   -28.477  &         0.000        &       -0.538    &       -0.469     \\\\\n",
       "\\bottomrule\n",
       "\\end{tabular}\n",
       "%\\caption{Generalized Linear Model Regression Results}\n",
       "\\end{center}"
      ],
      "text/plain": [
       "<class 'statsmodels.iolib.summary.Summary'>\n",
       "\"\"\"\n",
       "                 Generalized Linear Model Regression Results                  \n",
       "==============================================================================\n",
       "Dep. Variable:                      y   No. Observations:                 1000\n",
       "Model:                            GLM   Df Residuals:                      997\n",
       "Model Family:                 Poisson   Df Model:                            2\n",
       "Link Function:                    Log   Scale:                          1.0000\n",
       "Method:                          IRLS   Log-Likelihood:                -1833.6\n",
       "Date:                Mon, 02 Sep 2024   Deviance:                       1046.0\n",
       "Time:                        01:43:57   Pearson chi2:                     926.\n",
       "No. Iterations:                     5   Pseudo R-squ. (CS):             0.7888\n",
       "Covariance Type:            nonrobust                                         \n",
       "==============================================================================\n",
       "                 coef    std err          z      P>|z|      [0.025      0.975]\n",
       "------------------------------------------------------------------------------\n",
       "const          0.9857      0.021     47.463      0.000       0.945       1.026\n",
       "x1             0.4714      0.017     27.034      0.000       0.437       0.506\n",
       "x2            -0.5034      0.018    -28.477      0.000      -0.538      -0.469\n",
       "==============================================================================\n",
       "\"\"\""
      ]
     },
     "execution_count": 5,
     "metadata": {},
     "output_type": "execute_result"
    }
   ],
   "source": [
    "poisson_model = sm.GLM(df['y'], X, family=sm.families.Poisson())\n",
    "poisson_results = poisson_model.fit()\n",
    "\n",
    "poisson_results.summary()"
   ]
  },
  {
   "cell_type": "markdown",
   "metadata": {},
   "source": [
    "This will display a summary of the model, including coefficient estimates, standard errors, and p-values.\n"
   ]
  },
  {
   "cell_type": "markdown",
   "metadata": {},
   "source": [
    "The coefficients in a Poisson regression are interpreted as the change in the log of the expected counts for a one-unit increase in the predictor variable. To get the multiplicative effect on the response variable, we need to exponentiate the coefficients:\n"
   ]
  },
  {
   "cell_type": "code",
   "execution_count": 6,
   "metadata": {},
   "outputs": [
    {
     "name": "stdout",
     "output_type": "stream",
     "text": [
      "Exponentiated coefficients:\n",
      "const    2.679726\n",
      "x1       1.602295\n",
      "x2       0.604473\n",
      "dtype: float64\n"
     ]
    }
   ],
   "source": [
    "exp_coefficients = np.exp(poisson_results.params)\n",
    "print(\"Exponentiated coefficients:\")\n",
    "print(exp_coefficients)"
   ]
  },
  {
   "cell_type": "code",
   "execution_count": null,
   "metadata": {},
   "outputs": [
    {
     "name": "stdout",
     "output_type": "stream",
     "text": [
      "Random loss:  6.878\n"
     ]
    }
   ],
   "source": [
    "# We use random loss as a baseline to compare the loss of the model\n",
    "y_random = stats.poisson.rvs(np.exp(X.dot(beta)))\n",
    "print(\"Random loss: \", np.mean((y - y_random) ** 2))"
   ]
  },
  {
   "cell_type": "code",
   "execution_count": 9,
   "metadata": {},
   "outputs": [
    {
     "name": "stdout",
     "output_type": "stream",
     "text": [
      "Loss:  3.2181597225957455\n"
     ]
    }
   ],
   "source": [
    "y_pred = poisson_results.predict(X)\n",
    "print(\"Loss: \", np.mean((y - y_pred) ** 2))"
   ]
  },
  {
   "cell_type": "markdown",
   "metadata": {},
   "source": [
    "It's important to check the model's goodness of fit. We can plot the residuals to check for any patterns:\n"
   ]
  },
  {
   "cell_type": "code",
   "execution_count": 7,
   "metadata": {},
   "outputs": [
    {
     "data": {
      "image/png": "[encoded data removed]",
      "text/plain": [
       "<Figure size 640x480 with 1 Axes>"
      ]
     },
     "metadata": {},
     "output_type": "display_data"
    }
   ],
   "source": [
    "residuals = poisson_results.resid_pearson\n",
    "plt.scatter(poisson_results.predict(), residuals)\n",
    "plt.xlabel('Predicted values')\n",
    "plt.ylabel('Pearson residuals')\n",
    "plt.title('Residual Plot')\n",
    "plt.show()"
   ]
  },
  {
   "cell_type": "markdown",
   "metadata": {},
   "source": [
    "We can use our fitted model to make predictions:\n"
   ]
  },
  {
   "cell_type": "code",
   "execution_count": 8,
   "metadata": {},
   "outputs": [
    {
     "name": "stdout",
     "output_type": "stream",
     "text": [
      "Predicted count: 4.36\n"
     ]
    }
   ],
   "source": [
    "new_data = np.array([[1, 0.5, -0.5]])  # Include the constant term\n",
    "predicted_count = poisson_results.predict(new_data)\n",
    "print(f\"Predicted count: {predicted_count[0]:.2f}\")"
   ]
  },
  {
   "cell_type": "markdown",
   "metadata": {},
   "source": [
    "### <a id='toc4_2_'></a>[Example: Gamma GLM for Continuous Positive Data](#toc0_)\n"
   ]
  },
  {
   "cell_type": "markdown",
   "metadata": {},
   "source": [
    "For comparison, let's also implement a Gamma GLM, which is useful for modeling continuous, positive, right-skewed data:\n"
   ]
  },
  {
   "cell_type": "code",
   "execution_count": 11,
   "metadata": {},
   "outputs": [
    {
     "name": "stderr",
     "output_type": "stream",
     "text": [
      "/Users/hejazizo/miniconda3/envs/py310/lib/python3.10/site-packages/statsmodels/genmod/families/links.py:13: FutureWarning: The log link alias is deprecated. Use Log instead. The log link alias will be removed after the 0.15.0 release.\n",
      "  warnings.warn(\n"
     ]
    },
    {
     "data": {
      "text/html": [
       "<table class=\"simpletable\">\n",
       "<caption>Generalized Linear Model Regression Results</caption>\n",
       "<tr>\n",
       "  <th>Dep. Variable:</th>           <td>y</td>        <th>  No. Observations:  </th>  <td>  1000</td>  \n",
       "</tr>\n",
       "<tr>\n",
       "  <th>Model:</th>                  <td>GLM</td>       <th>  Df Residuals:      </th>  <td>   997</td>  \n",
       "</tr>\n",
       "<tr>\n",
       "  <th>Model Family:</th>          <td>Gamma</td>      <th>  Df Model:          </th>  <td>     2</td>  \n",
       "</tr>\n",
       "<tr>\n",
       "  <th>Link Function:</th>          <td>log</td>       <th>  Scale:             </th> <td> 0.48818</td> \n",
       "</tr>\n",
       "<tr>\n",
       "  <th>Method:</th>                <td>IRLS</td>       <th>  Log-Likelihood:    </th> <td> -2253.0</td> \n",
       "</tr>\n",
       "<tr>\n",
       "  <th>Date:</th>            <td>Mon, 02 Sep 2024</td> <th>  Deviance:          </th> <td>  494.51</td> \n",
       "</tr>\n",
       "<tr>\n",
       "  <th>Time:</th>                <td>01:47:48</td>     <th>  Pearson chi2:      </th>  <td>  487.</td>  \n",
       "</tr>\n",
       "<tr>\n",
       "  <th>No. Iterations:</th>         <td>10</td>        <th>  Pseudo R-squ. (CS):</th> <td>0.0003837</td>\n",
       "</tr>\n",
       "<tr>\n",
       "  <th>Covariance Type:</th>     <td>nonrobust</td>    <th>                     </th>     <td> </td>    \n",
       "</tr>\n",
       "</table>\n",
       "<table class=\"simpletable\">\n",
       "<tr>\n",
       "    <td></td>       <th>coef</th>     <th>std err</th>      <th>z</th>      <th>P>|z|</th>  <th>[0.025</th>    <th>0.975]</th>  \n",
       "</tr>\n",
       "<tr>\n",
       "  <th>const</th> <td>    1.3933</td> <td>    0.022</td> <td>   63.027</td> <td> 0.000</td> <td>    1.350</td> <td>    1.437</td>\n",
       "</tr>\n",
       "<tr>\n",
       "  <th>x1</th>    <td>    0.0130</td> <td>    0.022</td> <td>    0.585</td> <td> 0.558</td> <td>   -0.031</td> <td>    0.057</td>\n",
       "</tr>\n",
       "<tr>\n",
       "  <th>x2</th>    <td>    0.0030</td> <td>    0.022</td> <td>    0.136</td> <td> 0.892</td> <td>   -0.040</td> <td>    0.045</td>\n",
       "</tr>\n",
       "</table>"
      ],
      "text/latex": [
       "\\begin{center}\n",
       "\\begin{tabular}{lclc}\n",
       "\\toprule\n",
       "\\textbf{Dep. Variable:}   &        y         & \\textbf{  No. Observations:  } &     1000    \\\\\n",
       "\\textbf{Model:}           &       GLM        & \\textbf{  Df Residuals:      } &      997    \\\\\n",
       "\\textbf{Model Family:}    &      Gamma       & \\textbf{  Df Model:          } &        2    \\\\\n",
       "\\textbf{Link Function:}   &       log        & \\textbf{  Scale:             } &   0.48818   \\\\\n",
       "\\textbf{Method:}          &       IRLS       & \\textbf{  Log-Likelihood:    } &   -2253.0   \\\\\n",
       "\\textbf{Date:}            & Mon, 02 Sep 2024 & \\textbf{  Deviance:          } &    494.51   \\\\\n",
       "\\textbf{Time:}            &     01:47:48     & \\textbf{  Pearson chi2:      } &     487.    \\\\\n",
       "\\textbf{No. Iterations:}  &        10        & \\textbf{  Pseudo R-squ. (CS):} & 0.0003837   \\\\\n",
       "\\textbf{Covariance Type:} &    nonrobust     & \\textbf{                     } &             \\\\\n",
       "\\bottomrule\n",
       "\\end{tabular}\n",
       "\\begin{tabular}{lcccccc}\n",
       "               & \\textbf{coef} & \\textbf{std err} & \\textbf{z} & \\textbf{P$> |$z$|$} & \\textbf{[0.025} & \\textbf{0.975]}  \\\\\n",
       "\\midrule\n",
       "\\textbf{const} &       1.3933  &        0.022     &    63.027  &         0.000        &        1.350    &        1.437     \\\\\n",
       "\\textbf{x1}    &       0.0130  &        0.022     &     0.585  &         0.558        &       -0.031    &        0.057     \\\\\n",
       "\\textbf{x2}    &       0.0030  &        0.022     &     0.136  &         0.892        &       -0.040    &        0.045     \\\\\n",
       "\\bottomrule\n",
       "\\end{tabular}\n",
       "%\\caption{Generalized Linear Model Regression Results}\n",
       "\\end{center}"
      ],
      "text/plain": [
       "<class 'statsmodels.iolib.summary.Summary'>\n",
       "\"\"\"\n",
       "                 Generalized Linear Model Regression Results                  \n",
       "==============================================================================\n",
       "Dep. Variable:                      y   No. Observations:                 1000\n",
       "Model:                            GLM   Df Residuals:                      997\n",
       "Model Family:                   Gamma   Df Model:                            2\n",
       "Link Function:                    log   Scale:                         0.48818\n",
       "Method:                          IRLS   Log-Likelihood:                -2253.0\n",
       "Date:                Mon, 02 Sep 2024   Deviance:                       494.51\n",
       "Time:                        01:47:48   Pearson chi2:                     487.\n",
       "No. Iterations:                    10   Pseudo R-squ. (CS):          0.0003837\n",
       "Covariance Type:            nonrobust                                         \n",
       "==============================================================================\n",
       "                 coef    std err          z      P>|z|      [0.025      0.975]\n",
       "------------------------------------------------------------------------------\n",
       "const          1.3933      0.022     63.027      0.000       1.350       1.437\n",
       "x1             0.0130      0.022      0.585      0.558      -0.031       0.057\n",
       "x2             0.0030      0.022      0.136      0.892      -0.040       0.045\n",
       "==============================================================================\n",
       "\"\"\""
      ]
     },
     "execution_count": 11,
     "metadata": {},
     "output_type": "execute_result"
    }
   ],
   "source": [
    "# Generate synthetic data for Gamma GLM\n",
    "shape, scale = 2., 2.\n",
    "y_gamma = np.random.gamma(shape, scale, n)\n",
    "X_gamma = sm.add_constant(np.random.randn(n, 2))\n",
    "\n",
    "# Fit Gamma GLM\n",
    "gamma_model = sm.GLM(y_gamma, X_gamma, family=sm.families.Gamma(link=sm.families.links.log()))\n",
    "gamma_results = gamma_model.fit()\n",
    "\n",
    "gamma_results.summary()"
   ]
  },
  {
   "cell_type": "markdown",
   "metadata": {},
   "source": [
    "### <a id='toc4_3_'></a>[Key Points to Remember](#toc0_)\n"
   ]
  },
  {
   "cell_type": "markdown",
   "metadata": {},
   "source": [
    "1. The choice of family in `sm.GLM()` determines the distribution assumption for the response variable.\n",
    "2. The link function can be specified within the family (e.g., `sm.families.Gamma(link=sm.families.links.log())`).\n",
    "3. Always check model diagnostics to ensure the model fits the data well.\n",
    "4. Interpretation of coefficients depends on the chosen link function and family.\n"
   ]
  },
  {
   "cell_type": "markdown",
   "metadata": {},
   "source": [
    "By understanding how to implement GLMs in Python, you can apply these models to a wide range of regression problems involving different types of response variables. This flexibility allows you to handle various data types and relationships in your statistical modeling tasks."
   ]
  },
  {
   "cell_type": "markdown",
   "metadata": {},
   "source": [
    "## <a id='toc5_'></a>[Summary and Key Takeaways](#toc0_)"
   ]
  },
  {
   "cell_type": "markdown",
   "metadata": {},
   "source": [
    "Generalized Linear Models (GLMs) provide a flexible framework for modeling a wide range of data types and relationships. Let's recap the key points we've covered:\n",
    "\n",
    "1. **Components of GLMs**:\n",
    "   - Random Component: Specifies the probability distribution of the response variable.\n",
    "   - Systematic Component: Defines the linear predictor combining predictor variables.\n",
    "   - Link Function: Connects the random and systematic components.\n",
    "\n",
    "2. **Exponential Family**: GLMs use distributions from the exponential family, including Normal, Poisson, Binomial, and Gamma distributions.\n",
    "\n",
    "3. **Flexibility**: GLMs extend linear regression to handle various response types (continuous, count, binary) and non-linear relationships.\n",
    "\n",
    "4. **Link Functions**: Allow modeling of non-linear relationships while maintaining model interpretability.\n",
    "\n",
    "5. **Model Selection**: Choice of distribution and link function should be based on the nature of the data and research questions.\n",
    "\n",
    "6. **Implementation**: Python libraries like statsmodels provide tools for fitting and analyzing GLMs.\n",
    "\n",
    "7. **Interpretation**: Coefficient interpretation depends on the chosen distribution and link function.\n",
    "\n",
    "8. **Diagnostics**: Model checking, including residual analysis, is crucial for ensuring model validity.\n"
   ]
  },
  {
   "cell_type": "markdown",
   "metadata": {},
   "source": [
    "Key Takeaways:\n",
    "\n",
    "- GLMs unify various statistical models under a common framework.\n",
    "- They offer greater flexibility than ordinary linear regression while maintaining interpretability.\n",
    "- Understanding the components of GLMs is crucial for proper model specification and interpretation.\n",
    "- Practical implementation requires careful consideration of data characteristics and model assumptions.\n"
   ]
  },
  {
   "cell_type": "markdown",
   "metadata": {},
   "source": [
    "By mastering GLMs, you've expanded your statistical toolkit to handle a diverse range of regression problems. This knowledge forms a solid foundation for tackling more complex modeling scenarios in your data analysis journey."
   ]
  }
 ],
 "metadata": {
  "kernelspec": {
   "display_name": "py310",
   "language": "python",
   "name": "python3"
  },
  "language_info": {
   "codemirror_mode": {
    "name": "ipython",
    "version": 3
   },
   "file_extension": ".py",
   "mimetype": "text/x-python",
   "name": "python",
   "nbconvert_exporter": "python",
   "pygments_lexer": "ipython3",
   "version": "3.10.12"
  }
 },
 "nbformat": 4,
 "nbformat_minor": 2
}
