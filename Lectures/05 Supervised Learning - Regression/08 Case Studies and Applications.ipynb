{
 "cells": [
  {
   "cell_type": "markdown",
   "metadata": {},
   "source": [
    "<img src=\"./images/banner.png\" width=\"800\">"
   ]
  },
  {
   "cell_type": "markdown",
   "metadata": {},
   "source": [
    "# Case Studies and Applications in Linear Regression"
   ]
  },
  {
   "cell_type": "markdown",
   "metadata": {},
   "source": [
    "Linear regression, despite its simplicity, is a powerful tool with a wide range of real-world applications. In this lecture, we'll explore how the concepts and algorithms we've learned can be applied to solve practical problems across various domains.\n"
   ]
  },
  {
   "cell_type": "markdown",
   "metadata": {},
   "source": [
    "Linear regression's strength lies in its ability to model relationships between variables and make predictions. This makes it applicable in numerous fields:\n",
    "\n",
    "1. **Economics and Finance**: Predicting stock prices, analyzing economic indicators, or estimating property values.\n",
    "2. **Healthcare**: Studying the relationship between lifestyle factors and health outcomes, or predicting patient recovery times.\n",
    "3. **Marketing**: Analyzing the impact of advertising spend on sales, or predicting customer lifetime value.\n",
    "4. **Environmental Science**: Modeling climate change effects, or predicting crop yields based on environmental factors.\n",
    "5. **Social Sciences**: Investigating relationships between social factors and outcomes like education or income.\n"
   ]
  },
  {
   "cell_type": "markdown",
   "metadata": {},
   "source": [
    "While more complex models exist, linear regression often serves as a baseline model or a component in more sophisticated analyses.\n"
   ]
  },
  {
   "cell_type": "markdown",
   "metadata": {},
   "source": [
    "As we move from theoretical understanding to practical application, several considerations come into play:\n",
    "\n",
    "1. **Data Preparation**: Real-world data is often messy. We'll need to handle missing values, outliers, and perform appropriate scaling.\n",
    "\n",
    "2. **Feature Engineering**: Creating meaningful features from raw data is crucial for model performance.\n",
    "\n",
    "3. **Model Selection**: Choosing between simple linear regression, multiple regression, or polynomial regression based on the nature of the data.\n",
    "\n",
    "4. **Regularization**: Applying techniques like Ridge or Lasso regression to prevent overfitting in high-dimensional datasets.\n",
    "\n",
    "5. **Evaluation in Context**: Interpreting metrics like MSE or R-squared in the context of the specific problem and domain.\n"
   ]
  },
  {
   "cell_type": "markdown",
   "metadata": {},
   "source": [
    "💡 **Pro Tip:** Always start with exploratory data analysis (EDA) to understand your data before applying any regression techniques.\n"
   ]
  },
  {
   "cell_type": "markdown",
   "metadata": {},
   "source": [
    "Throughout this course, we've developed custom implementations of various regression algorithms:\n"
   ]
  },
  {
   "cell_type": "markdown",
   "metadata": {},
   "source": [
    "```python\n",
    "def mini_batch_gradient_descent(X, y, learning_rate=0.01, num_epoch=1000, batch_size=20):\n",
    "    # Implementation details...\n",
    "\n",
    "def fit_polynomial_regression(X, y, degree):\n",
    "    # Implementation details...\n",
    "\n",
    "def mini_batch_gradient_descent_with_ridge(X, y, learning_rate=0.01, num_epoch=1000, batch_size=20, lambda_reg=0.1):\n",
    "    # Implementation details...\n",
    "\n",
    "def mini_batch_gradient_descent_with_lasso(X, y, learning_rate=0.01, num_epoch=1000, batch_size=20, lambda_reg=0.1):\n",
    "    # Implementation details...\n",
    "```\n"
   ]
  },
  {
   "cell_type": "markdown",
   "metadata": {},
   "source": [
    "These custom implementations provide us with flexibility and a deep understanding of the underlying algorithms. We'll use these in our case studies, comparing their performance and usability to established libraries like scikit-learn.\n"
   ]
  },
  {
   "cell_type": "markdown",
   "metadata": {},
   "source": [
    "As we dive into case studies, we'll encounter common challenges in applying linear regression to real-world problems:\n",
    "\n",
    "1. **Non-linear Relationships**: Many real-world relationships are not strictly linear. We'll explore how to handle these cases.\n",
    "2. **Multicollinearity**: Dealing with highly correlated features in multiple regression scenarios.\n",
    "3. **Heteroscedasticity**: Addressing cases where the variance of errors is not constant across all levels of the independent variables.\n",
    "4. **Limited Data**: Strategies for working with small datasets or handling imbalanced data.\n"
   ]
  },
  {
   "cell_type": "markdown",
   "metadata": {},
   "source": [
    "> **Important Note:** Real-world application often requires iterative refinement of models and careful interpretation of results.\n"
   ]
  },
  {
   "cell_type": "markdown",
   "metadata": {},
   "source": [
    "In the upcoming sections, we'll dive into specific case studies that demonstrate the application of linear regression in diverse fields. We'll walk through the entire process from data preparation to model evaluation and interpretation of results.\n"
   ]
  },
  {
   "cell_type": "markdown",
   "metadata": {},
   "source": [
    "Understanding how to apply linear regression to real-world problems is crucial for data scientists and analysts. It forms the foundation for more advanced modeling techniques and provides valuable insights in many decision-making processes.\n"
   ]
  },
  {
   "cell_type": "markdown",
   "metadata": {},
   "source": [
    "By the end of this lecture, you'll have a comprehensive understanding of how to take the theoretical knowledge of linear regression and apply it to solve practical, real-world problems across various domains."
   ]
  },
  {
   "cell_type": "markdown",
   "metadata": {},
   "source": [
    "**Table of contents**<a id='toc0_'></a>    \n",
    "- [Case Study: Tips Dataset Analysis](#toc1_)    \n",
    "  - [Loading and Exploring the Data](#toc1_1_)    \n",
    "  - [Data Preprocessing](#toc1_2_)    \n",
    "  - [Splitting the Data](#toc1_3_)    \n",
    "  - [Model Implementation and Evaluation](#toc1_4_)    \n",
    "  - [Visualizing Results](#toc1_5_)    \n",
    "  - [Interpretation and Insights](#toc1_6_)    \n",
    "\n",
    "<!-- vscode-jupyter-toc-config\n",
    "\tnumbering=false\n",
    "\tanchor=true\n",
    "\tflat=false\n",
    "\tminLevel=2\n",
    "\tmaxLevel=6\n",
    "\t/vscode-jupyter-toc-config -->\n",
    "<!-- THIS CELL WILL BE REPLACED ON TOC UPDATE. DO NOT WRITE YOUR TEXT IN THIS CELL -->"
   ]
  },
  {
   "cell_type": "markdown",
   "metadata": {},
   "source": [
    "## <a id='toc1_'></a>[Case Study: Tips Dataset Analysis](#toc0_)"
   ]
  },
  {
   "cell_type": "markdown",
   "metadata": {},
   "source": [
    "In this section, we'll analyze the Tips dataset from seaborn, demonstrating the application of various regression techniques we've learned. We'll go through the entire process from data loading to model evaluation.\n"
   ]
  },
  {
   "cell_type": "markdown",
   "metadata": {},
   "source": [
    "### <a id='toc1_1_'></a>[Loading and Exploring the Data](#toc0_)\n"
   ]
  },
  {
   "cell_type": "markdown",
   "metadata": {},
   "source": [
    "First, let's load the dataset and take a look at its structure.\n"
   ]
  },
  {
   "cell_type": "code",
   "execution_count": 1,
   "metadata": {},
   "outputs": [],
   "source": [
    "import seaborn as sns\n",
    "import pandas as pd\n",
    "import numpy as np\n",
    "import matplotlib.pyplot as plt\n",
    "from sklearn.model_selection import train_test_split\n",
    "from sklearn.preprocessing import StandardScaler\n",
    "\n",
    "np.random.seed(42)"
   ]
  },
  {
   "cell_type": "code",
   "execution_count": 2,
   "metadata": {},
   "outputs": [
    {
     "data": {
      "text/html": [
       "<div>\n",
       "<style scoped>\n",
       "    .dataframe tbody tr th:only-of-type {\n",
       "        vertical-align: middle;\n",
       "    }\n",
       "\n",
       "    .dataframe tbody tr th {\n",
       "        vertical-align: top;\n",
       "    }\n",
       "\n",
       "    .dataframe thead th {\n",
       "        text-align: right;\n",
       "    }\n",
       "</style>\n",
       "<table border=\"1\" class=\"dataframe\">\n",
       "  <thead>\n",
       "    <tr style=\"text-align: right;\">\n",
       "      <th></th>\n",
       "      <th>total_bill</th>\n",
       "      <th>tip</th>\n",
       "      <th>sex</th>\n",
       "      <th>smoker</th>\n",
       "      <th>day</th>\n",
       "      <th>time</th>\n",
       "      <th>size</th>\n",
       "    </tr>\n",
       "  </thead>\n",
       "  <tbody>\n",
       "    <tr>\n",
       "      <th>0</th>\n",
       "      <td>16.99</td>\n",
       "      <td>1.01</td>\n",
       "      <td>Female</td>\n",
       "      <td>No</td>\n",
       "      <td>Sun</td>\n",
       "      <td>Dinner</td>\n",
       "      <td>2</td>\n",
       "    </tr>\n",
       "    <tr>\n",
       "      <th>1</th>\n",
       "      <td>10.34</td>\n",
       "      <td>1.66</td>\n",
       "      <td>Male</td>\n",
       "      <td>No</td>\n",
       "      <td>Sun</td>\n",
       "      <td>Dinner</td>\n",
       "      <td>3</td>\n",
       "    </tr>\n",
       "    <tr>\n",
       "      <th>2</th>\n",
       "      <td>21.01</td>\n",
       "      <td>3.50</td>\n",
       "      <td>Male</td>\n",
       "      <td>No</td>\n",
       "      <td>Sun</td>\n",
       "      <td>Dinner</td>\n",
       "      <td>3</td>\n",
       "    </tr>\n",
       "    <tr>\n",
       "      <th>3</th>\n",
       "      <td>23.68</td>\n",
       "      <td>3.31</td>\n",
       "      <td>Male</td>\n",
       "      <td>No</td>\n",
       "      <td>Sun</td>\n",
       "      <td>Dinner</td>\n",
       "      <td>2</td>\n",
       "    </tr>\n",
       "    <tr>\n",
       "      <th>4</th>\n",
       "      <td>24.59</td>\n",
       "      <td>3.61</td>\n",
       "      <td>Female</td>\n",
       "      <td>No</td>\n",
       "      <td>Sun</td>\n",
       "      <td>Dinner</td>\n",
       "      <td>4</td>\n",
       "    </tr>\n",
       "    <tr>\n",
       "      <th>...</th>\n",
       "      <td>...</td>\n",
       "      <td>...</td>\n",
       "      <td>...</td>\n",
       "      <td>...</td>\n",
       "      <td>...</td>\n",
       "      <td>...</td>\n",
       "      <td>...</td>\n",
       "    </tr>\n",
       "    <tr>\n",
       "      <th>239</th>\n",
       "      <td>29.03</td>\n",
       "      <td>5.92</td>\n",
       "      <td>Male</td>\n",
       "      <td>No</td>\n",
       "      <td>Sat</td>\n",
       "      <td>Dinner</td>\n",
       "      <td>3</td>\n",
       "    </tr>\n",
       "    <tr>\n",
       "      <th>240</th>\n",
       "      <td>27.18</td>\n",
       "      <td>2.00</td>\n",
       "      <td>Female</td>\n",
       "      <td>Yes</td>\n",
       "      <td>Sat</td>\n",
       "      <td>Dinner</td>\n",
       "      <td>2</td>\n",
       "    </tr>\n",
       "    <tr>\n",
       "      <th>241</th>\n",
       "      <td>22.67</td>\n",
       "      <td>2.00</td>\n",
       "      <td>Male</td>\n",
       "      <td>Yes</td>\n",
       "      <td>Sat</td>\n",
       "      <td>Dinner</td>\n",
       "      <td>2</td>\n",
       "    </tr>\n",
       "    <tr>\n",
       "      <th>242</th>\n",
       "      <td>17.82</td>\n",
       "      <td>1.75</td>\n",
       "      <td>Male</td>\n",
       "      <td>No</td>\n",
       "      <td>Sat</td>\n",
       "      <td>Dinner</td>\n",
       "      <td>2</td>\n",
       "    </tr>\n",
       "    <tr>\n",
       "      <th>243</th>\n",
       "      <td>18.78</td>\n",
       "      <td>3.00</td>\n",
       "      <td>Female</td>\n",
       "      <td>No</td>\n",
       "      <td>Thur</td>\n",
       "      <td>Dinner</td>\n",
       "      <td>2</td>\n",
       "    </tr>\n",
       "  </tbody>\n",
       "</table>\n",
       "<p>244 rows × 7 columns</p>\n",
       "</div>"
      ],
      "text/plain": [
       "     total_bill   tip     sex smoker   day    time  size\n",
       "0         16.99  1.01  Female     No   Sun  Dinner     2\n",
       "1         10.34  1.66    Male     No   Sun  Dinner     3\n",
       "2         21.01  3.50    Male     No   Sun  Dinner     3\n",
       "3         23.68  3.31    Male     No   Sun  Dinner     2\n",
       "4         24.59  3.61  Female     No   Sun  Dinner     4\n",
       "..          ...   ...     ...    ...   ...     ...   ...\n",
       "239       29.03  5.92    Male     No   Sat  Dinner     3\n",
       "240       27.18  2.00  Female    Yes   Sat  Dinner     2\n",
       "241       22.67  2.00    Male    Yes   Sat  Dinner     2\n",
       "242       17.82  1.75    Male     No   Sat  Dinner     2\n",
       "243       18.78  3.00  Female     No  Thur  Dinner     2\n",
       "\n",
       "[244 rows x 7 columns]"
      ]
     },
     "execution_count": 2,
     "metadata": {},
     "output_type": "execute_result"
    }
   ],
   "source": [
    "# Load the dataset\n",
    "tips_df = sns.load_dataset('tips')\n",
    "tips_df"
   ]
  },
  {
   "cell_type": "code",
   "execution_count": 3,
   "metadata": {},
   "outputs": [
    {
     "name": "stdout",
     "output_type": "stream",
     "text": [
      "<class 'pandas.core.frame.DataFrame'>\n",
      "RangeIndex: 244 entries, 0 to 243\n",
      "Data columns (total 7 columns):\n",
      " #   Column      Non-Null Count  Dtype   \n",
      "---  ------      --------------  -----   \n",
      " 0   total_bill  244 non-null    float64 \n",
      " 1   tip         244 non-null    float64 \n",
      " 2   sex         244 non-null    category\n",
      " 3   smoker      244 non-null    category\n",
      " 4   day         244 non-null    category\n",
      " 5   time        244 non-null    category\n",
      " 6   size        244 non-null    int64   \n",
      "dtypes: category(4), float64(2), int64(1)\n",
      "memory usage: 7.4 KB\n"
     ]
    }
   ],
   "source": [
    "# Display basic information\n",
    "tips_df.info()"
   ]
  },
  {
   "cell_type": "code",
   "execution_count": 4,
   "metadata": {},
   "outputs": [
    {
     "data": {
      "text/html": [
       "<div>\n",
       "<style scoped>\n",
       "    .dataframe tbody tr th:only-of-type {\n",
       "        vertical-align: middle;\n",
       "    }\n",
       "\n",
       "    .dataframe tbody tr th {\n",
       "        vertical-align: top;\n",
       "    }\n",
       "\n",
       "    .dataframe thead th {\n",
       "        text-align: right;\n",
       "    }\n",
       "</style>\n",
       "<table border=\"1\" class=\"dataframe\">\n",
       "  <thead>\n",
       "    <tr style=\"text-align: right;\">\n",
       "      <th></th>\n",
       "      <th>total_bill</th>\n",
       "      <th>tip</th>\n",
       "      <th>size</th>\n",
       "    </tr>\n",
       "  </thead>\n",
       "  <tbody>\n",
       "    <tr>\n",
       "      <th>count</th>\n",
       "      <td>244.000000</td>\n",
       "      <td>244.000000</td>\n",
       "      <td>244.000000</td>\n",
       "    </tr>\n",
       "    <tr>\n",
       "      <th>mean</th>\n",
       "      <td>19.785943</td>\n",
       "      <td>2.998279</td>\n",
       "      <td>2.569672</td>\n",
       "    </tr>\n",
       "    <tr>\n",
       "      <th>std</th>\n",
       "      <td>8.902412</td>\n",
       "      <td>1.383638</td>\n",
       "      <td>0.951100</td>\n",
       "    </tr>\n",
       "    <tr>\n",
       "      <th>min</th>\n",
       "      <td>3.070000</td>\n",
       "      <td>1.000000</td>\n",
       "      <td>1.000000</td>\n",
       "    </tr>\n",
       "    <tr>\n",
       "      <th>25%</th>\n",
       "      <td>13.347500</td>\n",
       "      <td>2.000000</td>\n",
       "      <td>2.000000</td>\n",
       "    </tr>\n",
       "    <tr>\n",
       "      <th>50%</th>\n",
       "      <td>17.795000</td>\n",
       "      <td>2.900000</td>\n",
       "      <td>2.000000</td>\n",
       "    </tr>\n",
       "    <tr>\n",
       "      <th>75%</th>\n",
       "      <td>24.127500</td>\n",
       "      <td>3.562500</td>\n",
       "      <td>3.000000</td>\n",
       "    </tr>\n",
       "    <tr>\n",
       "      <th>max</th>\n",
       "      <td>50.810000</td>\n",
       "      <td>10.000000</td>\n",
       "      <td>6.000000</td>\n",
       "    </tr>\n",
       "  </tbody>\n",
       "</table>\n",
       "</div>"
      ],
      "text/plain": [
       "       total_bill         tip        size\n",
       "count  244.000000  244.000000  244.000000\n",
       "mean    19.785943    2.998279    2.569672\n",
       "std      8.902412    1.383638    0.951100\n",
       "min      3.070000    1.000000    1.000000\n",
       "25%     13.347500    2.000000    2.000000\n",
       "50%     17.795000    2.900000    2.000000\n",
       "75%     24.127500    3.562500    3.000000\n",
       "max     50.810000   10.000000    6.000000"
      ]
     },
     "execution_count": 4,
     "metadata": {},
     "output_type": "execute_result"
    }
   ],
   "source": [
    "tips_df.describe()"
   ]
  },
  {
   "cell_type": "code",
   "execution_count": 5,
   "metadata": {},
   "outputs": [
    {
     "data": {
      "text/plain": [
       "total_bill    0\n",
       "tip           0\n",
       "sex           0\n",
       "smoker        0\n",
       "day           0\n",
       "time          0\n",
       "size          0\n",
       "dtype: int64"
      ]
     },
     "execution_count": 5,
     "metadata": {},
     "output_type": "execute_result"
    }
   ],
   "source": [
    "# Check for missing values\n",
    "tips_df.isnull().sum()"
   ]
  },
  {
   "cell_type": "markdown",
   "metadata": {},
   "source": [
    "### <a id='toc1_2_'></a>[Data Preprocessing](#toc0_)\n"
   ]
  },
  {
   "cell_type": "markdown",
   "metadata": {},
   "source": [
    "Now, let's preprocess the data, including handling categorical variables and scaling numerical features.\n"
   ]
  },
  {
   "cell_type": "code",
   "execution_count": 6,
   "metadata": {},
   "outputs": [],
   "source": [
    "tips_df['sex'] = tips_df.sex.cat.codes\n",
    "tips_df['smoker'] = tips_df.smoker.cat.codes\n",
    "tips_df['time'] = tips_df.time.cat.codes"
   ]
  },
  {
   "cell_type": "code",
   "execution_count": 7,
   "metadata": {},
   "outputs": [
    {
     "data": {
      "text/html": [
       "<div>\n",
       "<style scoped>\n",
       "    .dataframe tbody tr th:only-of-type {\n",
       "        vertical-align: middle;\n",
       "    }\n",
       "\n",
       "    .dataframe tbody tr th {\n",
       "        vertical-align: top;\n",
       "    }\n",
       "\n",
       "    .dataframe thead th {\n",
       "        text-align: right;\n",
       "    }\n",
       "</style>\n",
       "<table border=\"1\" class=\"dataframe\">\n",
       "  <thead>\n",
       "    <tr style=\"text-align: right;\">\n",
       "      <th></th>\n",
       "      <th>total_bill</th>\n",
       "      <th>tip</th>\n",
       "      <th>sex</th>\n",
       "      <th>smoker</th>\n",
       "      <th>time</th>\n",
       "      <th>size</th>\n",
       "      <th>day_Thur</th>\n",
       "      <th>day_Fri</th>\n",
       "      <th>day_Sat</th>\n",
       "      <th>day_Sun</th>\n",
       "    </tr>\n",
       "  </thead>\n",
       "  <tbody>\n",
       "    <tr>\n",
       "      <th>0</th>\n",
       "      <td>16.99</td>\n",
       "      <td>1.01</td>\n",
       "      <td>1</td>\n",
       "      <td>1</td>\n",
       "      <td>1</td>\n",
       "      <td>2</td>\n",
       "      <td>False</td>\n",
       "      <td>False</td>\n",
       "      <td>False</td>\n",
       "      <td>True</td>\n",
       "    </tr>\n",
       "    <tr>\n",
       "      <th>1</th>\n",
       "      <td>10.34</td>\n",
       "      <td>1.66</td>\n",
       "      <td>0</td>\n",
       "      <td>1</td>\n",
       "      <td>1</td>\n",
       "      <td>3</td>\n",
       "      <td>False</td>\n",
       "      <td>False</td>\n",
       "      <td>False</td>\n",
       "      <td>True</td>\n",
       "    </tr>\n",
       "    <tr>\n",
       "      <th>2</th>\n",
       "      <td>21.01</td>\n",
       "      <td>3.50</td>\n",
       "      <td>0</td>\n",
       "      <td>1</td>\n",
       "      <td>1</td>\n",
       "      <td>3</td>\n",
       "      <td>False</td>\n",
       "      <td>False</td>\n",
       "      <td>False</td>\n",
       "      <td>True</td>\n",
       "    </tr>\n",
       "    <tr>\n",
       "      <th>3</th>\n",
       "      <td>23.68</td>\n",
       "      <td>3.31</td>\n",
       "      <td>0</td>\n",
       "      <td>1</td>\n",
       "      <td>1</td>\n",
       "      <td>2</td>\n",
       "      <td>False</td>\n",
       "      <td>False</td>\n",
       "      <td>False</td>\n",
       "      <td>True</td>\n",
       "    </tr>\n",
       "    <tr>\n",
       "      <th>4</th>\n",
       "      <td>24.59</td>\n",
       "      <td>3.61</td>\n",
       "      <td>1</td>\n",
       "      <td>1</td>\n",
       "      <td>1</td>\n",
       "      <td>4</td>\n",
       "      <td>False</td>\n",
       "      <td>False</td>\n",
       "      <td>False</td>\n",
       "      <td>True</td>\n",
       "    </tr>\n",
       "  </tbody>\n",
       "</table>\n",
       "</div>"
      ],
      "text/plain": [
       "   total_bill   tip  sex  smoker  time  size  day_Thur  day_Fri  day_Sat  \\\n",
       "0       16.99  1.01    1       1     1     2     False    False    False   \n",
       "1       10.34  1.66    0       1     1     3     False    False    False   \n",
       "2       21.01  3.50    0       1     1     3     False    False    False   \n",
       "3       23.68  3.31    0       1     1     2     False    False    False   \n",
       "4       24.59  3.61    1       1     1     4     False    False    False   \n",
       "\n",
       "   day_Sun  \n",
       "0     True  \n",
       "1     True  \n",
       "2     True  \n",
       "3     True  \n",
       "4     True  "
      ]
     },
     "execution_count": 7,
     "metadata": {},
     "output_type": "execute_result"
    }
   ],
   "source": [
    "# get dummies for day using pd.get_dummies\n",
    "tips_df_encoded = pd.get_dummies(tips_df, columns=['day'])\n",
    "tips_df_encoded.head()"
   ]
  },
  {
   "cell_type": "code",
   "execution_count": 8,
   "metadata": {},
   "outputs": [],
   "source": [
    "# Select features and target\n",
    "X = tips_df_encoded.drop('tip', axis=1)\n",
    "y = tips_df_encoded['tip']"
   ]
  },
  {
   "cell_type": "code",
   "execution_count": 9,
   "metadata": {},
   "outputs": [],
   "source": [
    "# Scale the features\n",
    "scaler = StandardScaler()\n",
    "X_scaled = scaler.fit_transform(X)"
   ]
  },
  {
   "cell_type": "code",
   "execution_count": 10,
   "metadata": {},
   "outputs": [],
   "source": [
    "# Convert to DataFrame to keep column names\n",
    "X_scaled = pd.DataFrame(X_scaled, columns=X.columns)"
   ]
  },
  {
   "cell_type": "code",
   "execution_count": 11,
   "metadata": {},
   "outputs": [
    {
     "data": {
      "text/html": [
       "<div>\n",
       "<style scoped>\n",
       "    .dataframe tbody tr th:only-of-type {\n",
       "        vertical-align: middle;\n",
       "    }\n",
       "\n",
       "    .dataframe tbody tr th {\n",
       "        vertical-align: top;\n",
       "    }\n",
       "\n",
       "    .dataframe thead th {\n",
       "        text-align: right;\n",
       "    }\n",
       "</style>\n",
       "<table border=\"1\" class=\"dataframe\">\n",
       "  <thead>\n",
       "    <tr style=\"text-align: right;\">\n",
       "      <th></th>\n",
       "      <th>total_bill</th>\n",
       "      <th>sex</th>\n",
       "      <th>smoker</th>\n",
       "      <th>time</th>\n",
       "      <th>size</th>\n",
       "      <th>day_Thur</th>\n",
       "      <th>day_Fri</th>\n",
       "      <th>day_Sat</th>\n",
       "      <th>day_Sun</th>\n",
       "    </tr>\n",
       "  </thead>\n",
       "  <tbody>\n",
       "    <tr>\n",
       "      <th>0</th>\n",
       "      <td>-0.314711</td>\n",
       "      <td>1.343353</td>\n",
       "      <td>0.784789</td>\n",
       "      <td>0.621582</td>\n",
       "      <td>-0.600193</td>\n",
       "      <td>-0.583660</td>\n",
       "      <td>-0.290593</td>\n",
       "      <td>-0.744406</td>\n",
       "      <td>1.486784</td>\n",
       "    </tr>\n",
       "    <tr>\n",
       "      <th>1</th>\n",
       "      <td>-1.063235</td>\n",
       "      <td>-0.744406</td>\n",
       "      <td>0.784789</td>\n",
       "      <td>0.621582</td>\n",
       "      <td>0.453383</td>\n",
       "      <td>-0.583660</td>\n",
       "      <td>-0.290593</td>\n",
       "      <td>-0.744406</td>\n",
       "      <td>1.486784</td>\n",
       "    </tr>\n",
       "    <tr>\n",
       "      <th>2</th>\n",
       "      <td>0.137780</td>\n",
       "      <td>-0.744406</td>\n",
       "      <td>0.784789</td>\n",
       "      <td>0.621582</td>\n",
       "      <td>0.453383</td>\n",
       "      <td>-0.583660</td>\n",
       "      <td>-0.290593</td>\n",
       "      <td>-0.744406</td>\n",
       "      <td>1.486784</td>\n",
       "    </tr>\n",
       "    <tr>\n",
       "      <th>3</th>\n",
       "      <td>0.438315</td>\n",
       "      <td>-0.744406</td>\n",
       "      <td>0.784789</td>\n",
       "      <td>0.621582</td>\n",
       "      <td>-0.600193</td>\n",
       "      <td>-0.583660</td>\n",
       "      <td>-0.290593</td>\n",
       "      <td>-0.744406</td>\n",
       "      <td>1.486784</td>\n",
       "    </tr>\n",
       "    <tr>\n",
       "      <th>4</th>\n",
       "      <td>0.540745</td>\n",
       "      <td>1.343353</td>\n",
       "      <td>0.784789</td>\n",
       "      <td>0.621582</td>\n",
       "      <td>1.506958</td>\n",
       "      <td>-0.583660</td>\n",
       "      <td>-0.290593</td>\n",
       "      <td>-0.744406</td>\n",
       "      <td>1.486784</td>\n",
       "    </tr>\n",
       "    <tr>\n",
       "      <th>...</th>\n",
       "      <td>...</td>\n",
       "      <td>...</td>\n",
       "      <td>...</td>\n",
       "      <td>...</td>\n",
       "      <td>...</td>\n",
       "      <td>...</td>\n",
       "      <td>...</td>\n",
       "      <td>...</td>\n",
       "      <td>...</td>\n",
       "    </tr>\n",
       "    <tr>\n",
       "      <th>239</th>\n",
       "      <td>1.040511</td>\n",
       "      <td>-0.744406</td>\n",
       "      <td>0.784789</td>\n",
       "      <td>0.621582</td>\n",
       "      <td>0.453383</td>\n",
       "      <td>-0.583660</td>\n",
       "      <td>-0.290593</td>\n",
       "      <td>1.343353</td>\n",
       "      <td>-0.672593</td>\n",
       "    </tr>\n",
       "    <tr>\n",
       "      <th>240</th>\n",
       "      <td>0.832275</td>\n",
       "      <td>1.343353</td>\n",
       "      <td>-1.274228</td>\n",
       "      <td>0.621582</td>\n",
       "      <td>-0.600193</td>\n",
       "      <td>-0.583660</td>\n",
       "      <td>-0.290593</td>\n",
       "      <td>1.343353</td>\n",
       "      <td>-0.672593</td>\n",
       "    </tr>\n",
       "    <tr>\n",
       "      <th>241</th>\n",
       "      <td>0.324630</td>\n",
       "      <td>-0.744406</td>\n",
       "      <td>-1.274228</td>\n",
       "      <td>0.621582</td>\n",
       "      <td>-0.600193</td>\n",
       "      <td>-0.583660</td>\n",
       "      <td>-0.290593</td>\n",
       "      <td>1.343353</td>\n",
       "      <td>-0.672593</td>\n",
       "    </tr>\n",
       "    <tr>\n",
       "      <th>242</th>\n",
       "      <td>-0.221287</td>\n",
       "      <td>-0.744406</td>\n",
       "      <td>0.784789</td>\n",
       "      <td>0.621582</td>\n",
       "      <td>-0.600193</td>\n",
       "      <td>-0.583660</td>\n",
       "      <td>-0.290593</td>\n",
       "      <td>1.343353</td>\n",
       "      <td>-0.672593</td>\n",
       "    </tr>\n",
       "    <tr>\n",
       "      <th>243</th>\n",
       "      <td>-0.113229</td>\n",
       "      <td>1.343353</td>\n",
       "      <td>0.784789</td>\n",
       "      <td>0.621582</td>\n",
       "      <td>-0.600193</td>\n",
       "      <td>1.713325</td>\n",
       "      <td>-0.290593</td>\n",
       "      <td>-0.744406</td>\n",
       "      <td>-0.672593</td>\n",
       "    </tr>\n",
       "  </tbody>\n",
       "</table>\n",
       "<p>244 rows × 9 columns</p>\n",
       "</div>"
      ],
      "text/plain": [
       "     total_bill       sex    smoker      time      size  day_Thur   day_Fri  \\\n",
       "0     -0.314711  1.343353  0.784789  0.621582 -0.600193 -0.583660 -0.290593   \n",
       "1     -1.063235 -0.744406  0.784789  0.621582  0.453383 -0.583660 -0.290593   \n",
       "2      0.137780 -0.744406  0.784789  0.621582  0.453383 -0.583660 -0.290593   \n",
       "3      0.438315 -0.744406  0.784789  0.621582 -0.600193 -0.583660 -0.290593   \n",
       "4      0.540745  1.343353  0.784789  0.621582  1.506958 -0.583660 -0.290593   \n",
       "..          ...       ...       ...       ...       ...       ...       ...   \n",
       "239    1.040511 -0.744406  0.784789  0.621582  0.453383 -0.583660 -0.290593   \n",
       "240    0.832275  1.343353 -1.274228  0.621582 -0.600193 -0.583660 -0.290593   \n",
       "241    0.324630 -0.744406 -1.274228  0.621582 -0.600193 -0.583660 -0.290593   \n",
       "242   -0.221287 -0.744406  0.784789  0.621582 -0.600193 -0.583660 -0.290593   \n",
       "243   -0.113229  1.343353  0.784789  0.621582 -0.600193  1.713325 -0.290593   \n",
       "\n",
       "      day_Sat   day_Sun  \n",
       "0   -0.744406  1.486784  \n",
       "1   -0.744406  1.486784  \n",
       "2   -0.744406  1.486784  \n",
       "3   -0.744406  1.486784  \n",
       "4   -0.744406  1.486784  \n",
       "..        ...       ...  \n",
       "239  1.343353 -0.672593  \n",
       "240  1.343353 -0.672593  \n",
       "241  1.343353 -0.672593  \n",
       "242  1.343353 -0.672593  \n",
       "243 -0.744406 -0.672593  \n",
       "\n",
       "[244 rows x 9 columns]"
      ]
     },
     "execution_count": 11,
     "metadata": {},
     "output_type": "execute_result"
    }
   ],
   "source": [
    "X_scaled"
   ]
  },
  {
   "cell_type": "markdown",
   "metadata": {},
   "source": [
    "### <a id='toc1_3_'></a>[Splitting the Data](#toc0_)\n"
   ]
  },
  {
   "cell_type": "markdown",
   "metadata": {},
   "source": [
    "Let's split our data into training and testing sets.\n"
   ]
  },
  {
   "cell_type": "code",
   "execution_count": 12,
   "metadata": {},
   "outputs": [],
   "source": [
    "X_train, X_test, y_train, y_test = train_test_split(X_scaled, y, test_size=0.2, random_state=42)"
   ]
  },
  {
   "cell_type": "code",
   "execution_count": 13,
   "metadata": {},
   "outputs": [
    {
     "data": {
      "text/html": [
       "<div>\n",
       "<style scoped>\n",
       "    .dataframe tbody tr th:only-of-type {\n",
       "        vertical-align: middle;\n",
       "    }\n",
       "\n",
       "    .dataframe tbody tr th {\n",
       "        vertical-align: top;\n",
       "    }\n",
       "\n",
       "    .dataframe thead th {\n",
       "        text-align: right;\n",
       "    }\n",
       "</style>\n",
       "<table border=\"1\" class=\"dataframe\">\n",
       "  <thead>\n",
       "    <tr style=\"text-align: right;\">\n",
       "      <th></th>\n",
       "      <th>total_bill</th>\n",
       "      <th>sex</th>\n",
       "      <th>smoker</th>\n",
       "      <th>time</th>\n",
       "      <th>size</th>\n",
       "      <th>day_Thur</th>\n",
       "      <th>day_Fri</th>\n",
       "      <th>day_Sat</th>\n",
       "      <th>day_Sun</th>\n",
       "    </tr>\n",
       "  </thead>\n",
       "  <tbody>\n",
       "    <tr>\n",
       "      <th>228</th>\n",
       "      <td>-0.732309</td>\n",
       "      <td>-0.744406</td>\n",
       "      <td>0.784789</td>\n",
       "      <td>0.621582</td>\n",
       "      <td>-0.600193</td>\n",
       "      <td>-0.583660</td>\n",
       "      <td>-0.290593</td>\n",
       "      <td>1.343353</td>\n",
       "      <td>-0.672593</td>\n",
       "    </tr>\n",
       "    <tr>\n",
       "      <th>208</th>\n",
       "      <td>0.504726</td>\n",
       "      <td>-0.744406</td>\n",
       "      <td>-1.274228</td>\n",
       "      <td>0.621582</td>\n",
       "      <td>-0.600193</td>\n",
       "      <td>-0.583660</td>\n",
       "      <td>-0.290593</td>\n",
       "      <td>1.343353</td>\n",
       "      <td>-0.672593</td>\n",
       "    </tr>\n",
       "    <tr>\n",
       "      <th>96</th>\n",
       "      <td>0.843531</td>\n",
       "      <td>-0.744406</td>\n",
       "      <td>-1.274228</td>\n",
       "      <td>0.621582</td>\n",
       "      <td>-0.600193</td>\n",
       "      <td>-0.583660</td>\n",
       "      <td>3.441236</td>\n",
       "      <td>-0.744406</td>\n",
       "      <td>-0.672593</td>\n",
       "    </tr>\n",
       "    <tr>\n",
       "      <th>167</th>\n",
       "      <td>1.342172</td>\n",
       "      <td>-0.744406</td>\n",
       "      <td>0.784789</td>\n",
       "      <td>0.621582</td>\n",
       "      <td>1.506958</td>\n",
       "      <td>-0.583660</td>\n",
       "      <td>-0.290593</td>\n",
       "      <td>-0.744406</td>\n",
       "      <td>1.486784</td>\n",
       "    </tr>\n",
       "    <tr>\n",
       "      <th>84</th>\n",
       "      <td>-0.428397</td>\n",
       "      <td>-0.744406</td>\n",
       "      <td>0.784789</td>\n",
       "      <td>-1.608799</td>\n",
       "      <td>-0.600193</td>\n",
       "      <td>1.713325</td>\n",
       "      <td>-0.290593</td>\n",
       "      <td>-0.744406</td>\n",
       "      <td>-0.672593</td>\n",
       "    </tr>\n",
       "    <tr>\n",
       "      <th>...</th>\n",
       "      <td>...</td>\n",
       "      <td>...</td>\n",
       "      <td>...</td>\n",
       "      <td>...</td>\n",
       "      <td>...</td>\n",
       "      <td>...</td>\n",
       "      <td>...</td>\n",
       "      <td>...</td>\n",
       "      <td>...</td>\n",
       "    </tr>\n",
       "    <tr>\n",
       "      <th>106</th>\n",
       "      <td>0.079249</td>\n",
       "      <td>-0.744406</td>\n",
       "      <td>-1.274228</td>\n",
       "      <td>0.621582</td>\n",
       "      <td>-0.600193</td>\n",
       "      <td>-0.583660</td>\n",
       "      <td>-0.290593</td>\n",
       "      <td>1.343353</td>\n",
       "      <td>-0.672593</td>\n",
       "    </tr>\n",
       "    <tr>\n",
       "      <th>14</th>\n",
       "      <td>-0.557841</td>\n",
       "      <td>1.343353</td>\n",
       "      <td>0.784789</td>\n",
       "      <td>0.621582</td>\n",
       "      <td>-0.600193</td>\n",
       "      <td>-0.583660</td>\n",
       "      <td>-0.290593</td>\n",
       "      <td>-0.744406</td>\n",
       "      <td>1.486784</td>\n",
       "    </tr>\n",
       "    <tr>\n",
       "      <th>92</th>\n",
       "      <td>-1.579886</td>\n",
       "      <td>1.343353</td>\n",
       "      <td>-1.274228</td>\n",
       "      <td>0.621582</td>\n",
       "      <td>-0.600193</td>\n",
       "      <td>-0.583660</td>\n",
       "      <td>3.441236</td>\n",
       "      <td>-0.744406</td>\n",
       "      <td>-0.672593</td>\n",
       "    </tr>\n",
       "    <tr>\n",
       "      <th>179</th>\n",
       "      <td>1.670847</td>\n",
       "      <td>-0.744406</td>\n",
       "      <td>-1.274228</td>\n",
       "      <td>0.621582</td>\n",
       "      <td>-0.600193</td>\n",
       "      <td>-0.583660</td>\n",
       "      <td>-0.290593</td>\n",
       "      <td>-0.744406</td>\n",
       "      <td>1.486784</td>\n",
       "    </tr>\n",
       "    <tr>\n",
       "      <th>102</th>\n",
       "      <td>2.759302</td>\n",
       "      <td>1.343353</td>\n",
       "      <td>-1.274228</td>\n",
       "      <td>0.621582</td>\n",
       "      <td>0.453383</td>\n",
       "      <td>-0.583660</td>\n",
       "      <td>-0.290593</td>\n",
       "      <td>1.343353</td>\n",
       "      <td>-0.672593</td>\n",
       "    </tr>\n",
       "  </tbody>\n",
       "</table>\n",
       "<p>195 rows × 9 columns</p>\n",
       "</div>"
      ],
      "text/plain": [
       "     total_bill       sex    smoker      time      size  day_Thur   day_Fri  \\\n",
       "228   -0.732309 -0.744406  0.784789  0.621582 -0.600193 -0.583660 -0.290593   \n",
       "208    0.504726 -0.744406 -1.274228  0.621582 -0.600193 -0.583660 -0.290593   \n",
       "96     0.843531 -0.744406 -1.274228  0.621582 -0.600193 -0.583660  3.441236   \n",
       "167    1.342172 -0.744406  0.784789  0.621582  1.506958 -0.583660 -0.290593   \n",
       "84    -0.428397 -0.744406  0.784789 -1.608799 -0.600193  1.713325 -0.290593   \n",
       "..          ...       ...       ...       ...       ...       ...       ...   \n",
       "106    0.079249 -0.744406 -1.274228  0.621582 -0.600193 -0.583660 -0.290593   \n",
       "14    -0.557841  1.343353  0.784789  0.621582 -0.600193 -0.583660 -0.290593   \n",
       "92    -1.579886  1.343353 -1.274228  0.621582 -0.600193 -0.583660  3.441236   \n",
       "179    1.670847 -0.744406 -1.274228  0.621582 -0.600193 -0.583660 -0.290593   \n",
       "102    2.759302  1.343353 -1.274228  0.621582  0.453383 -0.583660 -0.290593   \n",
       "\n",
       "      day_Sat   day_Sun  \n",
       "228  1.343353 -0.672593  \n",
       "208  1.343353 -0.672593  \n",
       "96  -0.744406 -0.672593  \n",
       "167 -0.744406  1.486784  \n",
       "84  -0.744406 -0.672593  \n",
       "..        ...       ...  \n",
       "106  1.343353 -0.672593  \n",
       "14  -0.744406  1.486784  \n",
       "92  -0.744406 -0.672593  \n",
       "179 -0.744406  1.486784  \n",
       "102  1.343353 -0.672593  \n",
       "\n",
       "[195 rows x 9 columns]"
      ]
     },
     "execution_count": 13,
     "metadata": {},
     "output_type": "execute_result"
    }
   ],
   "source": [
    "X_train"
   ]
  },
  {
   "cell_type": "code",
   "execution_count": 14,
   "metadata": {},
   "outputs": [
    {
     "data": {
      "text/plain": [
       "228    2.72\n",
       "208    2.03\n",
       "96     4.00\n",
       "167    4.50\n",
       "84     2.03\n",
       "       ... \n",
       "106    4.06\n",
       "14     3.02\n",
       "92     1.00\n",
       "179    3.55\n",
       "102    2.50\n",
       "Name: tip, Length: 195, dtype: float64"
      ]
     },
     "execution_count": 14,
     "metadata": {},
     "output_type": "execute_result"
    }
   ],
   "source": [
    "y_train"
   ]
  },
  {
   "cell_type": "markdown",
   "metadata": {},
   "source": [
    "### <a id='toc1_4_'></a>[Model Implementation and Evaluation](#toc0_)\n"
   ]
  },
  {
   "cell_type": "markdown",
   "metadata": {},
   "source": [
    "Now, we'll implement and evaluate different regression models using our custom implementations.\n"
   ]
  },
  {
   "cell_type": "code",
   "execution_count": 15,
   "metadata": {},
   "outputs": [],
   "source": [
    "from sklearn.metrics import mean_squared_error, mean_absolute_error, r2_score\n",
    "\n",
    "def evaluate_model(y_true, y_pred, model_name):\n",
    "    mse = mean_squared_error(y_true, y_pred)\n",
    "    rmse = np.sqrt(mse)\n",
    "    mae = mean_absolute_error(y_true, y_pred)\n",
    "    r2 = r2_score(y_true, y_pred)\n",
    "\n",
    "    print(f\"{model_name} Evaluation:\")\n",
    "    print(f\"MSE: {mse:.4f}\")\n",
    "    print(f\"RMSE: {rmse:.4f}\")\n",
    "    print(f\"MAE: {mae:.4f}\")\n",
    "    print(f\"R-squared: {r2:.4f}\\n\")\n",
    "\n",
    "# Helper function to add bias term\n",
    "def add_bias(X):\n",
    "    return np.c_[np.ones((X.shape[0], 1)), X]"
   ]
  },
  {
   "cell_type": "markdown",
   "metadata": {},
   "source": [
    "1. **Linear Regression**\n"
   ]
  },
  {
   "cell_type": "code",
   "execution_count": 16,
   "metadata": {},
   "outputs": [],
   "source": [
    "def compute_cost(X, y, beta):\n",
    "    n = len(y)\n",
    "    predictions = X.dot(beta)\n",
    "    cost = (1/(2*n)) * np.sum((predictions - y)**2)\n",
    "    return cost\n",
    "\n",
    "def compute_gradient(X, y, beta):\n",
    "    n = len(y)\n",
    "    predictions = X.dot(beta)\n",
    "    gradient = (1/n) * X.T.dot(predictions - y)\n",
    "    return gradient\n",
    "\n",
    "def mini_batch_gradient_descent(X, y, learning_rate=0.01, num_epoch=1000, batch_size=20):\n",
    "    n, m = X.shape\n",
    "    beta = np.random.randn(m, 1)\n",
    "    cost_history = []\n",
    "\n",
    "    for _ in range(num_epoch):\n",
    "        shuffled_indices = np.random.permutation(n)\n",
    "        X_shuffled = X[shuffled_indices]\n",
    "        y_shuffled = y[shuffled_indices]\n",
    "\n",
    "        for i in range(0, n, batch_size):\n",
    "            xi = X_shuffled[i:i+batch_size]\n",
    "            yi = y_shuffled[i:i+batch_size]\n",
    "            gradient = compute_gradient(xi, yi, beta)\n",
    "            beta -= learning_rate * gradient\n",
    "\n",
    "        cost = compute_cost(X, y, beta)\n",
    "        cost_history.append(cost)\n",
    "\n",
    "    return beta, cost_history"
   ]
  },
  {
   "cell_type": "code",
   "execution_count": 17,
   "metadata": {},
   "outputs": [
    {
     "name": "stdout",
     "output_type": "stream",
     "text": [
      "Test data:\n",
      "Linear Regression Evaluation:\n",
      "MSE: 0.7042\n",
      "RMSE: 0.8392\n",
      "MAE: 0.6676\n",
      "R-squared: 0.4366\n",
      "\n"
     ]
    }
   ],
   "source": [
    "X_train_bias = add_bias(X_train)\n",
    "X_test_bias = add_bias(X_test)\n",
    "\n",
    "beta_lr, _ = mini_batch_gradient_descent(X_train_bias, y_train.values.reshape(-1, 1))\n",
    "y_pred_lr = X_test_bias.dot(beta_lr)\n",
    "\n",
    "print(\"Test data:\")\n",
    "evaluate_model(y_test, y_pred_lr, \"Linear Regression\")"
   ]
  },
  {
   "cell_type": "code",
   "execution_count": 18,
   "metadata": {},
   "outputs": [
    {
     "name": "stdout",
     "output_type": "stream",
     "text": [
      "Training data:\n",
      "Linear Regression Evaluation:\n",
      "MSE: 1.1007\n",
      "RMSE: 1.0492\n",
      "MAE: 0.7595\n",
      "R-squared: 0.4582\n",
      "\n"
     ]
    }
   ],
   "source": [
    "print(\"Training data:\")\n",
    "evaluate_model(y_train, X_train_bias.dot(beta_lr), \"Linear Regression\")"
   ]
  },
  {
   "cell_type": "code",
   "execution_count": 19,
   "metadata": {},
   "outputs": [
    {
     "data": {
      "text/plain": [
       "<Axes: >"
      ]
     },
     "execution_count": 19,
     "metadata": {},
     "output_type": "execute_result"
    },
    {
     "data": {
      "image/png": "[encoded data removed]",
      "text/plain": [
       "<Figure size 640x480 with 1 Axes>"
      ]
     },
     "metadata": {},
     "output_type": "display_data"
    }
   ],
   "source": [
    "sns.barplot(x=['Bias'] + X_train.columns.tolist(), y=beta_lr.flatten())"
   ]
  },
  {
   "cell_type": "markdown",
   "metadata": {},
   "source": [
    "2. **Ridge Regression (L2)**\n"
   ]
  },
  {
   "cell_type": "code",
   "execution_count": 20,
   "metadata": {},
   "outputs": [],
   "source": [
    "def mini_batch_gradient_descent_with_ridge(X, y, learning_rate=0.01, num_epoch=1000, batch_size=20, lambda_reg=0.1):\n",
    "    n, m = X.shape\n",
    "    beta = np.random.randn(m, 1)\n",
    "    cost_history = []\n",
    "\n",
    "    for _ in range(num_epoch):\n",
    "        shuffled_indices = np.random.permutation(n)\n",
    "        X_shuffled = X[shuffled_indices]\n",
    "        y_shuffled = y[shuffled_indices]\n",
    "\n",
    "        for i in range(0, n, batch_size):\n",
    "            xi = X_shuffled[i:i+batch_size]\n",
    "            yi = y_shuffled[i:i+batch_size]\n",
    "            gradient = compute_gradient_with_ridge(xi, yi, beta, lambda_reg)\n",
    "            beta -= learning_rate * gradient\n",
    "\n",
    "        cost = compute_cost_with_ridge(X, y, beta, lambda_reg)\n",
    "        cost_history.append(cost)\n",
    "\n",
    "    return beta, cost_history\n",
    "\n",
    "def compute_gradient_with_ridge(X, y, beta, lambda_reg):\n",
    "    m = X.shape[0]\n",
    "    predictions = X.dot(beta)\n",
    "    gradient = (1/m) * X.T.dot(predictions - y) + (lambda_reg/m) * beta\n",
    "    return gradient\n",
    "\n",
    "def compute_cost_with_ridge(X, y, beta, lambda_reg):\n",
    "    m = X.shape[0]\n",
    "    predictions = X.dot(beta)\n",
    "    cost = (1/(2*m)) * np.sum((predictions - y)**2) + (lambda_reg/(2*m)) * np.sum(beta**2)\n",
    "    return cost"
   ]
  },
  {
   "cell_type": "code",
   "execution_count": 21,
   "metadata": {},
   "outputs": [
    {
     "name": "stdout",
     "output_type": "stream",
     "text": [
      "Ridge Regression Evaluation:\n",
      "MSE: 0.6710\n",
      "RMSE: 0.8192\n",
      "MAE: 0.6529\n",
      "R-squared: 0.4632\n",
      "\n"
     ]
    }
   ],
   "source": [
    "beta_ridge, _ = mini_batch_gradient_descent_with_ridge(X_train_bias, y_train.values.reshape(-1, 1), lambda_reg=0.5)\n",
    "y_pred_ridge = X_test_bias.dot(beta_ridge)\n",
    "\n",
    "evaluate_model(y_test, y_pred_ridge, \"Ridge Regression\")"
   ]
  },
  {
   "cell_type": "code",
   "execution_count": 22,
   "metadata": {},
   "outputs": [
    {
     "name": "stdout",
     "output_type": "stream",
     "text": [
      "Ridge Regression Evaluation:\n",
      "MSE: 1.1064\n",
      "RMSE: 1.0519\n",
      "MAE: 0.7549\n",
      "R-squared: 0.4554\n",
      "\n"
     ]
    }
   ],
   "source": [
    "evaluate_model(y_train, X_train_bias.dot(beta_ridge), \"Ridge Regression\")"
   ]
  },
  {
   "cell_type": "code",
   "execution_count": 23,
   "metadata": {},
   "outputs": [
    {
     "data": {
      "text/plain": [
       "<Axes: >"
      ]
     },
     "execution_count": 23,
     "metadata": {},
     "output_type": "execute_result"
    },
    {
     "data": {
      "image/png": "[encoded data removed]",
      "text/plain": [
       "<Figure size 640x480 with 1 Axes>"
      ]
     },
     "metadata": {},
     "output_type": "display_data"
    }
   ],
   "source": [
    "sns.barplot(x=['Bias'] + X_train.columns.tolist(), y=beta_ridge.flatten())"
   ]
  },
  {
   "cell_type": "markdown",
   "metadata": {},
   "source": [
    "4. **Lasso Regression (L1)**\n"
   ]
  },
  {
   "cell_type": "code",
   "execution_count": 24,
   "metadata": {},
   "outputs": [],
   "source": [
    "import numpy as np\n",
    "\n",
    "def mini_batch_gradient_descent_with_lasso(X, y, learning_rate=0.01, num_epoch=1000, batch_size=20, lambda_reg=0.1):\n",
    "    n, m = X.shape\n",
    "    beta = np.random.randn(m, 1)\n",
    "    cost_history = []\n",
    "\n",
    "    for _ in range(num_epoch):\n",
    "        shuffled_indices = np.random.permutation(n)\n",
    "        X_shuffled = X[shuffled_indices]\n",
    "        y_shuffled = y[shuffled_indices]\n",
    "\n",
    "        for i in range(0, n, batch_size):\n",
    "            xi = X_shuffled[i:i+batch_size]\n",
    "            yi = y_shuffled[i:i+batch_size]\n",
    "            gradient = compute_gradient_with_lasso(xi, yi, beta, lambda_reg)\n",
    "            beta -= learning_rate * gradient\n",
    "\n",
    "        cost = compute_cost_with_lasso(X, y, beta, lambda_reg)\n",
    "        cost_history.append(cost)\n",
    "\n",
    "    return beta, cost_history\n",
    "\n",
    "def compute_gradient_with_lasso(X, y, beta, lambda_reg):\n",
    "    m = X.shape[0]\n",
    "    predictions = X.dot(beta)\n",
    "    gradient = (1/m) * X.T.dot(predictions - y) + lambda_reg * np.sign(beta)\n",
    "    return gradient\n",
    "\n",
    "def compute_cost_with_lasso(X, y, beta, lambda_reg):\n",
    "    m = X.shape[0]\n",
    "    predictions = X.dot(beta)\n",
    "    cost = (1/(2*m)) * np.sum((predictions - y)**2) + lambda_reg * np.sum(np.abs(beta))\n",
    "    return cost\n",
    "\n",
    "def soft_thresholding(x, lambda_reg):\n",
    "    return np.sign(x) * np.maximum(np.abs(x) - lambda_reg, 0)"
   ]
  },
  {
   "cell_type": "code",
   "execution_count": 25,
   "metadata": {},
   "outputs": [
    {
     "name": "stdout",
     "output_type": "stream",
     "text": [
      "Lasso Regression Evaluation:\n",
      "MSE: 0.5736\n",
      "RMSE: 0.7574\n",
      "MAE: 0.6227\n",
      "R-squared: 0.5411\n",
      "\n"
     ]
    }
   ],
   "source": [
    "beta_lasso, _ = mini_batch_gradient_descent_with_lasso(X_train_bias, y_train.values.reshape(-1, 1), lambda_reg=0.1)\n",
    "y_pred_lasso = X_test_bias.dot(beta_lasso)\n",
    "\n",
    "evaluate_model(y_test, y_pred_lasso, \"Lasso Regression\")"
   ]
  },
  {
   "cell_type": "code",
   "execution_count": 26,
   "metadata": {},
   "outputs": [
    {
     "name": "stdout",
     "output_type": "stream",
     "text": [
      "Lasso Regression Evaluation:\n",
      "MSE: 1.1339\n",
      "RMSE: 1.0648\n",
      "MAE: 0.7719\n",
      "R-squared: 0.4419\n",
      "\n"
     ]
    }
   ],
   "source": [
    "evaluate_model(y_train, X_train_bias.dot(beta_lasso), \"Lasso Regression\")"
   ]
  },
  {
   "cell_type": "code",
   "execution_count": 27,
   "metadata": {},
   "outputs": [
    {
     "data": {
      "text/plain": [
       "<Axes: >"
      ]
     },
     "execution_count": 27,
     "metadata": {},
     "output_type": "execute_result"
    },
    {
     "data": {
      "image/png": "[encoded data removed]",
      "text/plain": [
       "<Figure size 640x480 with 1 Axes>"
      ]
     },
     "metadata": {},
     "output_type": "display_data"
    }
   ],
   "source": [
    "sns.barplot(x=['Bias'] + X_train.columns.tolist(), y=beta_lasso.flatten())"
   ]
  },
  {
   "cell_type": "markdown",
   "metadata": {},
   "source": [
    "### <a id='toc1_5_'></a>[Visualizing Results](#toc0_)\n"
   ]
  },
  {
   "cell_type": "markdown",
   "metadata": {},
   "source": [
    "Let's visualize the predictions of our models against the actual tips.\n"
   ]
  },
  {
   "cell_type": "code",
   "execution_count": 30,
   "metadata": {},
   "outputs": [
    {
     "data": {
      "text/plain": [
       "((49,), (195,))"
      ]
     },
     "execution_count": 30,
     "metadata": {},
     "output_type": "execute_result"
    }
   ],
   "source": [
    "y_test.shape, y_train.shape"
   ]
  },
  {
   "cell_type": "code",
   "execution_count": 40,
   "metadata": {},
   "outputs": [
    {
     "data": {
      "image/png": "[encoded data removed]",
      "text/plain": [
       "<Figure size 900x800 with 1 Axes>"
      ]
     },
     "metadata": {},
     "output_type": "display_data"
    }
   ],
   "source": [
    "plt.figure(figsize=(9, 8))\n",
    "plt.scatter(y_test, y_pred_lr, alpha=0.5, label='Linear')\n",
    "plt.scatter(y_test, y_pred_ridge, alpha=0.5, label='Ridge')\n",
    "plt.scatter(y_test, y_pred_lasso, alpha=0.5, label='Lasso')\n",
    "plt.plot([0, 6], [0, 6], 'r--', lw=2)\n",
    "plt.xlabel('Actual Tips')\n",
    "plt.ylabel('Predicted Tips')\n",
    "plt.title('Actual vs Predicted Tips')\n",
    "plt.legend()\n",
    "plt.xlim(0, 6)\n",
    "plt.ylim(0, 6)\n",
    "plt.show()"
   ]
  },
  {
   "cell_type": "markdown",
   "metadata": {},
   "source": [
    "### <a id='toc1_6_'></a>[Interpretation and Insights](#toc0_)\n"
   ]
  },
  {
   "cell_type": "markdown",
   "metadata": {},
   "source": [
    "After running these models, we can interpret the results:\n",
    "\n",
    "1. Compare the performance metrics (MSE, RMSE, MAE, R-squared) across models to determine which performs best for this dataset.\n",
    "2. Analyze the coefficients of the linear and regularized models to understand which features have the most impact on tip amount.\n",
    "3. Discuss any overfitting or underfitting observed, especially in the polynomial regression model.\n",
    "4. Consider the practical implications of these results for the restaurant industry.\n"
   ]
  },
  {
   "cell_type": "markdown",
   "metadata": {},
   "source": [
    "🔑 **Key Takeaway:** This case study demonstrates how different regression techniques can be applied to a real-world dataset, highlighting the importance of feature engineering, model selection, and evaluation in practical scenarios.\n"
   ]
  },
  {
   "cell_type": "markdown",
   "metadata": {},
   "source": [
    "💡 **Pro Tip:** In real-world applications, it's often valuable to consider the interpretability of the model alongside its performance metrics. Sometimes a slightly less accurate but more interpretable model is preferred for business decision-making.\n"
   ]
  },
  {
   "cell_type": "markdown",
   "metadata": {},
   "source": [
    "This comprehensive analysis of the Tips dataset showcases the application of various regression techniques we've learned, from basic linear regression to more advanced methods like polynomial and regularized regression. It provides a solid foundation for tackling more complex datasets in the following sections."
   ]
  }
 ],
 "metadata": {
  "kernelspec": {
   "display_name": "py310",
   "language": "python",
   "name": "python3"
  },
  "language_info": {
   "codemirror_mode": {
    "name": "ipython",
    "version": 3
   },
   "file_extension": ".py",
   "mimetype": "text/x-python",
   "name": "python",
   "nbconvert_exporter": "python",
   "pygments_lexer": "ipython3",
   "version": "3.10.12"
  }
 },
 "nbformat": 4,
 "nbformat_minor": 2
}
